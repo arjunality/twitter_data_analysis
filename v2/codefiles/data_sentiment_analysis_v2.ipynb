{
 "cells": [
  {
   "cell_type": "code",
   "execution_count": 8,
   "metadata": {},
   "outputs": [],
   "source": [
    "import pandas as pd\n",
    "import numpy as np\n",
    "import matplotlib.pyplot as plt\n",
    "import seaborn as sns\n",
    "\n",
    "import torch\n",
    "import tqdm\n",
    "\n",
    "from flair.data import Sentence\n",
    "from flair.nn import Classifier\n",
    "from flair.embeddings import WordEmbeddings\n",
    "tagger = Classifier.load('sentiment-fast')\n",
    "glove_embeddings = WordEmbeddings('glove')\n",
    "# twitter_embeddings = WordEmbeddings('twitter')\n",
    "\n",
    "from sklearn.cluster import KMeans"
   ]
  },
  {
   "cell_type": "code",
   "execution_count": 3,
   "metadata": {},
   "outputs": [
    {
     "name": "stdout",
     "output_type": "stream",
     "text": [
      "(17909, 4)\n"
     ]
    },
    {
     "data": {
      "text/html": [
       "<div>\n",
       "<style scoped>\n",
       "    .dataframe tbody tr th:only-of-type {\n",
       "        vertical-align: middle;\n",
       "    }\n",
       "\n",
       "    .dataframe tbody tr th {\n",
       "        vertical-align: top;\n",
       "    }\n",
       "\n",
       "    .dataframe thead th {\n",
       "        text-align: right;\n",
       "    }\n",
       "</style>\n",
       "<table border=\"1\" class=\"dataframe\">\n",
       "  <thead>\n",
       "    <tr style=\"text-align: right;\">\n",
       "      <th></th>\n",
       "      <th>tweet_id</th>\n",
       "      <th>tweet</th>\n",
       "      <th>city</th>\n",
       "      <th>year</th>\n",
       "    </tr>\n",
       "  </thead>\n",
       "  <tbody>\n",
       "    <tr>\n",
       "      <th>0</th>\n",
       "      <td>0</td>\n",
       "      <td>bad thing say government medical spare operati...</td>\n",
       "      <td>Mumbai</td>\n",
       "      <td>2022</td>\n",
       "    </tr>\n",
       "    <tr>\n",
       "      <th>1</th>\n",
       "      <td>1</td>\n",
       "      <td>netas family admitted government hospital priv...</td>\n",
       "      <td>Mumbai</td>\n",
       "      <td>2022</td>\n",
       "    </tr>\n",
       "    <tr>\n",
       "      <th>2</th>\n",
       "      <td>2</td>\n",
       "      <td>govandi one hotspot well respiratory disease f...</td>\n",
       "      <td>Mumbai</td>\n",
       "      <td>2022</td>\n",
       "    </tr>\n",
       "    <tr>\n",
       "      <th>3</th>\n",
       "      <td>3</td>\n",
       "      <td>till medical negligence exist government hospi...</td>\n",
       "      <td>Mumbai</td>\n",
       "      <td>2022</td>\n",
       "    </tr>\n",
       "    <tr>\n",
       "      <th>4</th>\n",
       "      <td>4</td>\n",
       "      <td>doctor reading also government hospital resident</td>\n",
       "      <td>Mumbai</td>\n",
       "      <td>2022</td>\n",
       "    </tr>\n",
       "  </tbody>\n",
       "</table>\n",
       "</div>"
      ],
      "text/plain": [
       "   tweet_id                                              tweet    city  year\n",
       "0         0  bad thing say government medical spare operati...  Mumbai  2022\n",
       "1         1  netas family admitted government hospital priv...  Mumbai  2022\n",
       "2         2  govandi one hotspot well respiratory disease f...  Mumbai  2022\n",
       "3         3  till medical negligence exist government hospi...  Mumbai  2022\n",
       "4         4   doctor reading also government hospital resident  Mumbai  2022"
      ]
     },
     "execution_count": 3,
     "metadata": {},
     "output_type": "execute_result"
    }
   ],
   "source": [
    "tweets_df = pd.read_csv('/Users/nitanshjain/Documents/Projects/Twitter_Data_Analysis/v2/data/tweets_cleaned_translated_v2.csv')\n",
    "tweets_df.tweet = tweets_df.tweet_translated\n",
    "tweets_df.drop(['tweet_translated'], axis=1, inplace=True)\n",
    "print(tweets_df.shape)\n",
    "tweets_df.head()"
   ]
  },
  {
   "cell_type": "markdown",
   "metadata": {},
   "source": [
    "# Flair Sentiment Analysis"
   ]
  },
  {
   "cell_type": "code",
   "execution_count": 4,
   "metadata": {},
   "outputs": [
    {
     "data": {
      "text/html": [
       "<div>\n",
       "<style scoped>\n",
       "    .dataframe tbody tr th:only-of-type {\n",
       "        vertical-align: middle;\n",
       "    }\n",
       "\n",
       "    .dataframe tbody tr th {\n",
       "        vertical-align: top;\n",
       "    }\n",
       "\n",
       "    .dataframe thead th {\n",
       "        text-align: right;\n",
       "    }\n",
       "</style>\n",
       "<table border=\"1\" class=\"dataframe\">\n",
       "  <thead>\n",
       "    <tr style=\"text-align: right;\">\n",
       "      <th></th>\n",
       "      <th>tweet_id</th>\n",
       "      <th>tweet</th>\n",
       "      <th>city</th>\n",
       "      <th>year</th>\n",
       "      <th>sentiment_flair</th>\n",
       "    </tr>\n",
       "  </thead>\n",
       "  <tbody>\n",
       "    <tr>\n",
       "      <th>0</th>\n",
       "      <td>0</td>\n",
       "      <td>bad thing say government medical spare operati...</td>\n",
       "      <td>Mumbai</td>\n",
       "      <td>2022</td>\n",
       "      <td>-1</td>\n",
       "    </tr>\n",
       "    <tr>\n",
       "      <th>1</th>\n",
       "      <td>1</td>\n",
       "      <td>netas family admitted government hospital priv...</td>\n",
       "      <td>Mumbai</td>\n",
       "      <td>2022</td>\n",
       "      <td>-1</td>\n",
       "    </tr>\n",
       "    <tr>\n",
       "      <th>2</th>\n",
       "      <td>2</td>\n",
       "      <td>govandi one hotspot well respiratory disease f...</td>\n",
       "      <td>Mumbai</td>\n",
       "      <td>2022</td>\n",
       "      <td>-1</td>\n",
       "    </tr>\n",
       "    <tr>\n",
       "      <th>3</th>\n",
       "      <td>3</td>\n",
       "      <td>till medical negligence exist government hospi...</td>\n",
       "      <td>Mumbai</td>\n",
       "      <td>2022</td>\n",
       "      <td>-1</td>\n",
       "    </tr>\n",
       "    <tr>\n",
       "      <th>4</th>\n",
       "      <td>4</td>\n",
       "      <td>doctor reading also government hospital resident</td>\n",
       "      <td>Mumbai</td>\n",
       "      <td>2022</td>\n",
       "      <td>1</td>\n",
       "    </tr>\n",
       "  </tbody>\n",
       "</table>\n",
       "</div>"
      ],
      "text/plain": [
       "   tweet_id                                              tweet    city  year   \n",
       "0         0  bad thing say government medical spare operati...  Mumbai  2022  \\\n",
       "1         1  netas family admitted government hospital priv...  Mumbai  2022   \n",
       "2         2  govandi one hotspot well respiratory disease f...  Mumbai  2022   \n",
       "3         3  till medical negligence exist government hospi...  Mumbai  2022   \n",
       "4         4   doctor reading also government hospital resident  Mumbai  2022   \n",
       "\n",
       "   sentiment_flair  \n",
       "0               -1  \n",
       "1               -1  \n",
       "2               -1  \n",
       "3               -1  \n",
       "4                1  "
      ]
     },
     "execution_count": 4,
     "metadata": {},
     "output_type": "execute_result"
    }
   ],
   "source": [
    "def assign_sentiment_column(df):\n",
    "    sentiment_flair = list()\n",
    "    for tweets in df.loc[:,'tweet']:\n",
    "        sentence = Sentence(tweets)\n",
    "        tagger.predict(sentence)\n",
    "        value = sentence.labels[0].to_dict()['value'] \n",
    "        if value == 'POSITIVE':\n",
    "            result = sentence.labels[0].to_dict()['confidence']\n",
    "        else:\n",
    "            result = -(sentence.labels[0].to_dict()['confidence'])\n",
    "        \n",
    "        if result>0:\n",
    "            result = 1\n",
    "        else:\n",
    "            result = -1\n",
    "        sentiment_flair.append(result)\n",
    "    df['sentiment_flair'] = sentiment_flair\n",
    "    return df\n",
    "\n",
    "tweets_sentiment_df = assign_sentiment_column(tweets_df)\n",
    "tweets_sentiment_df.head()"
   ]
  },
  {
   "cell_type": "code",
   "execution_count": 5,
   "metadata": {},
   "outputs": [
    {
     "name": "stdout",
     "output_type": "stream",
     "text": [
      "sentiment_flair\n",
      "-1    9374\n",
      " 1    8535\n",
      "Name: count, dtype: int64\n",
      "city       sentiment_flair\n",
      "Bangalore  -1                 1277\n",
      "            1                 1022\n",
      "Chennai    -1                  397\n",
      "            1                  399\n",
      "Delhi      -1                 3420\n",
      "            1                 3376\n",
      "Hyderabad  -1                 1202\n",
      "            1                 1201\n",
      "Kolkata    -1                  565\n",
      "            1                  454\n",
      "Mumbai     -1                 2513\n",
      "            1                 2083\n",
      "dtype: int64\n",
      "year  sentiment_flair\n",
      "2018  -1                 1029\n",
      "       1                  942\n",
      "2019  -1                 1338\n",
      "       1                 1258\n",
      "2020  -1                 2977\n",
      "       1                 3025\n",
      "2021  -1                 2795\n",
      "       1                 2217\n",
      "2022  -1                 1235\n",
      "       1                 1093\n",
      "dtype: int64\n"
     ]
    }
   ],
   "source": [
    "print(tweets_sentiment_df.sentiment_flair.value_counts())\n",
    "# number of tweets per city grouped by sentiment\n",
    "print(tweets_sentiment_df.groupby(['city','sentiment_flair']).size())\n",
    "# number of tweets per year grouped by sentiment\n",
    "print(tweets_sentiment_df.groupby(['year','sentiment_flair']).size())"
   ]
  },
  {
   "attachments": {},
   "cell_type": "markdown",
   "metadata": {},
   "source": [
    "# Sentiment Analysis using Embeddings and Clustering\n"
   ]
  },
  {
   "cell_type": "code",
   "execution_count": 6,
   "metadata": {},
   "outputs": [],
   "source": [
    "s = torch.zeros(0,100)\n",
    "\n",
    "for tweets in tweets_df.tweet:\n",
    "    w = torch.zeros(0,100)\n",
    "    sentence = Sentence(tweets)\n",
    "    glove_embeddings.embed(sentence)\n",
    "    \n",
    "    for token in sentence:\n",
    "        w = torch.cat((w,token.embedding.view(-1,100)),0)\n",
    "    s = torch.cat((s, w.mean(dim = 0).view(-1, 100)),0)"
   ]
  },
  {
   "cell_type": "code",
   "execution_count": 7,
   "metadata": {},
   "outputs": [
    {
     "name": "stdout",
     "output_type": "stream",
     "text": [
      "(17909, 100)\n"
     ]
    }
   ],
   "source": [
    "tweets_flair_embeddings = s.numpy()\n",
    "print(tweets_flair_embeddings.shape)"
   ]
  },
  {
   "cell_type": "code",
   "execution_count": 11,
   "metadata": {},
   "outputs": [],
   "source": [
    "model = KMeans(n_clusters=2, max_iter=1000, random_state=True, n_init=50).fit(X=tweets_flair_embeddings)\n",
    "positive_cluster_center = model.cluster_centers_[0]\n",
    "negative_cluster_center = model.cluster_centers_[1]"
   ]
  },
  {
   "cell_type": "code",
   "execution_count": 15,
   "metadata": {},
   "outputs": [
    {
     "data": {
      "text/plain": [
       "array([-4.88442071e-02,  1.40136182e-01,  1.70148194e-01, -2.51966529e-02,\n",
       "       -1.66111127e-01,  1.86558262e-01, -1.47842959e-01,  1.78272113e-01,\n",
       "        1.28935203e-02,  1.49864964e-02, -3.24097686e-02,  3.21295634e-02,\n",
       "        2.74292320e-01,  1.02452829e-01,  6.48642182e-02, -2.32312039e-01,\n",
       "        1.10063024e-01,  2.84158625e-02, -2.83991992e-01,  1.76492512e-01,\n",
       "        9.99475867e-02, -3.09692584e-02, -4.65598851e-02, -7.44716078e-02,\n",
       "       -4.14153077e-02,  3.53076346e-02, -5.70847690e-02, -4.07256097e-01,\n",
       "        4.76390719e-02,  2.85783429e-02,  1.78822875e-02,  3.29773247e-01,\n",
       "       -4.04403433e-02,  6.85736984e-02, -5.17936945e-02,  1.41405717e-01,\n",
       "       -1.64617732e-01,  1.64646447e-01,  7.40966760e-04, -6.63919747e-02,\n",
       "       -2.82265127e-01, -2.64665522e-02,  1.03441551e-01, -3.37885141e-01,\n",
       "        2.80081593e-02,  5.67578338e-03,  5.60916886e-02, -7.43293017e-02,\n",
       "       -7.86803514e-02, -4.73817438e-01,  1.29266649e-01, -1.09637462e-01,\n",
       "        1.14360370e-01,  7.49338031e-01, -8.23301673e-02, -1.67567229e+00,\n",
       "       -2.94346511e-02, -1.82093590e-01,  1.25458992e+00,  2.85296887e-01,\n",
       "       -1.74195711e-02,  4.37146962e-01, -1.52006820e-01, -2.38994993e-02,\n",
       "        4.97347295e-01,  1.05266884e-01,  2.03323305e-01,  8.66181552e-02,\n",
       "        1.32752836e-01, -6.61351979e-02, -8.12889710e-02, -1.95243150e-01,\n",
       "       -5.92664815e-02, -2.08104774e-01,  2.46733010e-01,  1.50545642e-01,\n",
       "       -3.59976105e-02,  3.75071820e-03, -5.86375415e-01, -8.69551972e-02,\n",
       "        4.49979573e-01,  7.24400133e-02, -2.83869177e-01,  1.72160156e-02,\n",
       "       -1.19162154e+00, -7.66823590e-02,  5.89992963e-02,  7.57057732e-03,\n",
       "       -2.68161863e-01, -1.65452659e-01,  1.32669717e-01, -1.94761157e-01,\n",
       "        6.64009973e-02,  9.79847275e-03, -3.90807688e-01,  1.82728887e-01,\n",
       "        8.83515477e-02, -1.75339401e-01,  3.33393395e-01,  1.66296642e-02],\n",
       "      dtype=float32)"
      ]
     },
     "execution_count": 15,
     "metadata": {},
     "output_type": "execute_result"
    }
   ],
   "source": [
    "positive_cluster_center"
   ]
  },
  {
   "cell_type": "code",
   "execution_count": 16,
   "metadata": {},
   "outputs": [
    {
     "data": {
      "text/plain": [
       "array([-7.08849430e-02,  2.62137577e-02,  8.77078474e-02,  9.98413656e-03,\n",
       "       -1.05667576e-01,  1.69522107e-01, -9.20886546e-02,  2.46776968e-01,\n",
       "       -8.03269446e-04,  7.03831762e-02, -2.27087103e-02,  2.06271634e-02,\n",
       "        2.68004388e-01,  1.62332058e-01,  9.40009132e-02, -1.94145828e-01,\n",
       "        1.47978336e-01, -2.45837439e-02, -2.29569152e-01,  1.04130864e-01,\n",
       "        8.78155008e-02, -5.16638644e-02, -4.67704199e-02,  2.11181864e-03,\n",
       "       -3.74176688e-02,  5.08225337e-02,  3.54699790e-03, -2.91603804e-01,\n",
       "        3.31391171e-02,  8.36247653e-02, -1.48474146e-03,  2.35747650e-01,\n",
       "       -3.52732465e-03,  1.28969803e-01, -8.75963345e-02,  1.03399843e-01,\n",
       "       -1.56433225e-01,  1.63220420e-01,  3.82006727e-02, -2.60678958e-02,\n",
       "       -2.10792035e-01,  3.90230976e-02,  1.09582894e-01, -2.92384565e-01,\n",
       "        1.23589620e-01,  6.01295829e-02,  4.43350449e-02,  1.25127919e-02,\n",
       "       -2.05541663e-02, -2.08978668e-01,  7.76787475e-02, -1.11606717e-01,\n",
       "        1.43246219e-01,  5.74885309e-01, -1.39320761e-01, -1.31131184e+00,\n",
       "       -1.31632343e-01, -1.34293482e-01,  9.67698276e-01,  2.28341013e-01,\n",
       "       -8.54401570e-03,  3.22182298e-01, -4.25652042e-02,  6.66906685e-02,\n",
       "        3.09855044e-01,  1.11814745e-01,  1.38128683e-01,  4.31902297e-02,\n",
       "        1.38594270e-01,  4.61933017e-02, -1.31595701e-01, -1.59633398e-01,\n",
       "       -2.93471403e-02, -1.79600447e-01,  1.89647198e-01,  1.26029491e-01,\n",
       "        3.01317386e-02,  3.86201181e-02, -4.93207276e-01, -1.35595366e-01,\n",
       "        3.31111997e-01,  5.77131137e-02, -1.73826069e-01,  2.96767466e-02,\n",
       "       -9.06076312e-01, -2.62786746e-02,  4.09807004e-02, -2.21444014e-03,\n",
       "       -2.17908546e-01, -5.16166240e-02,  1.80952892e-01, -1.70208052e-01,\n",
       "        6.69749156e-02,  7.46040642e-02, -2.97131151e-01,  2.28930369e-01,\n",
       "        1.64700061e-01, -1.14329942e-01,  2.80474782e-01, -4.79793772e-02],\n",
       "      dtype=float32)"
      ]
     },
     "execution_count": 16,
     "metadata": {},
     "output_type": "execute_result"
    }
   ],
   "source": [
    "negative_cluster_center"
   ]
  },
  {
   "cell_type": "code",
   "execution_count": null,
   "metadata": {},
   "outputs": [],
   "source": []
  }
 ],
 "metadata": {
  "kernelspec": {
   "display_name": "Twitter_Data_Analysis-wZ120kVj",
   "language": "python",
   "name": "python3"
  },
  "language_info": {
   "codemirror_mode": {
    "name": "ipython",
    "version": 3
   },
   "file_extension": ".py",
   "mimetype": "text/x-python",
   "name": "python",
   "nbconvert_exporter": "python",
   "pygments_lexer": "ipython3",
   "version": "3.10.4"
  },
  "orig_nbformat": 4
 },
 "nbformat": 4,
 "nbformat_minor": 2
}
