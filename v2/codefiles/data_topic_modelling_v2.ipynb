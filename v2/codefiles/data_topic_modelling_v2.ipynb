{
 "cells": [
  {
   "cell_type": "code",
   "execution_count": 8,
   "metadata": {},
   "outputs": [
    {
     "name": "stderr",
     "output_type": "stream",
     "text": [
      "[nltk_data] Downloading package stopwords to\n",
      "[nltk_data]     /Users/nitanshjain/nltk_data...\n",
      "[nltk_data]   Package stopwords is already up-to-date!\n",
      "[nltk_data] Downloading package vader_lexicon to\n",
      "[nltk_data]     /Users/nitanshjain/nltk_data...\n",
      "[nltk_data]   Package vader_lexicon is already up-to-date!\n"
     ]
    }
   ],
   "source": [
    "import pandas as pd\n",
    "import numpy as np\n",
    "import matplotlib.pyplot as plt\n",
    "import seaborn as sns\n",
    "import torch\n",
    "import tqdm\n",
    "import copy\n",
    "from pprint import pprint\n",
    "\n",
    "import nltk\n",
    "from nltk.sentiment import SentimentIntensityAnalyzer\n",
    "from nltk.tokenize import TweetTokenizer\n",
    "from nltk.corpus import stopwords\n",
    "nltk.download('stopwords')\n",
    "nltk.download('vader_lexicon')\n",
    "\n",
    "import gensim\n",
    "from gensim.models import *\n",
    "from gensim.models.fasttext import FastText\n",
    "from gensim.utils import simple_preprocess\n",
    "import gensim.corpora as corpora\n",
    "\n",
    "\n",
    "from sklearn.cluster import KMeans\n",
    "from sklearn.feature_extraction.text import *\n",
    "from sklearn.decomposition import NMF\n",
    "from sklearn.preprocessing import MinMaxScaler\n",
    "from sklearn.decomposition import *\n",
    "\n",
    "import warnings\n",
    "warnings.filterwarnings('ignore')"
   ]
  },
  {
   "cell_type": "code",
   "execution_count": 9,
   "metadata": {},
   "outputs": [
    {
     "data": {
      "text/html": [
       "<div>\n",
       "<style scoped>\n",
       "    .dataframe tbody tr th:only-of-type {\n",
       "        vertical-align: middle;\n",
       "    }\n",
       "\n",
       "    .dataframe tbody tr th {\n",
       "        vertical-align: top;\n",
       "    }\n",
       "\n",
       "    .dataframe thead th {\n",
       "        text-align: right;\n",
       "    }\n",
       "</style>\n",
       "<table border=\"1\" class=\"dataframe\">\n",
       "  <thead>\n",
       "    <tr style=\"text-align: right;\">\n",
       "      <th></th>\n",
       "      <th>tweet_id</th>\n",
       "      <th>tweet</th>\n",
       "      <th>city</th>\n",
       "      <th>year</th>\n",
       "      <th>tweets_tokens</th>\n",
       "      <th>sentiment_flair</th>\n",
       "      <th>sentiment_nltk</th>\n",
       "      <th>sentiment_flair_glove_embed_kmeans</th>\n",
       "      <th>sentiment_fast_text_embed_kmeans</th>\n",
       "      <th>sentiment_fast_text_embed_nmf_kmeans</th>\n",
       "    </tr>\n",
       "  </thead>\n",
       "  <tbody>\n",
       "    <tr>\n",
       "      <th>0</th>\n",
       "      <td>0</td>\n",
       "      <td>very bad thing say that government did not med...</td>\n",
       "      <td>Mumbai</td>\n",
       "      <td>2022</td>\n",
       "      <td>['very', 'bad', 'thing', 'say', 'that', 'gover...</td>\n",
       "      <td>-1</td>\n",
       "      <td>-1</td>\n",
       "      <td>-1</td>\n",
       "      <td>-1</td>\n",
       "      <td>1</td>\n",
       "    </tr>\n",
       "    <tr>\n",
       "      <th>1</th>\n",
       "      <td>1</td>\n",
       "      <td>all netas and their family should admitted onl...</td>\n",
       "      <td>Mumbai</td>\n",
       "      <td>2022</td>\n",
       "      <td>['all', 'netas', 'and', 'their', 'family', 'sh...</td>\n",
       "      <td>-1</td>\n",
       "      <td>-1</td>\n",
       "      <td>-1</td>\n",
       "      <td>-1</td>\n",
       "      <td>1</td>\n",
       "    </tr>\n",
       "    <tr>\n",
       "      <th>5</th>\n",
       "      <td>5</td>\n",
       "      <td>very hygiene government veterinary hospital as...</td>\n",
       "      <td>Mumbai</td>\n",
       "      <td>2022</td>\n",
       "      <td>['very', 'hygiene', 'government', 'veterinary'...</td>\n",
       "      <td>-1</td>\n",
       "      <td>1</td>\n",
       "      <td>-1</td>\n",
       "      <td>-1</td>\n",
       "      <td>-1</td>\n",
       "    </tr>\n",
       "    <tr>\n",
       "      <th>7</th>\n",
       "      <td>7</td>\n",
       "      <td>shall throw out india let take care our health...</td>\n",
       "      <td>Mumbai</td>\n",
       "      <td>2022</td>\n",
       "      <td>['shall', 'throw', 'out', 'india', 'let', 'tak...</td>\n",
       "      <td>-1</td>\n",
       "      <td>1</td>\n",
       "      <td>-1</td>\n",
       "      <td>-1</td>\n",
       "      <td>1</td>\n",
       "    </tr>\n",
       "    <tr>\n",
       "      <th>9</th>\n",
       "      <td>9</td>\n",
       "      <td>not online school wild guess going south mumba...</td>\n",
       "      <td>Mumbai</td>\n",
       "      <td>2022</td>\n",
       "      <td>['not', 'online', 'school', 'wild', 'guess', '...</td>\n",
       "      <td>-1</td>\n",
       "      <td>-1</td>\n",
       "      <td>-1</td>\n",
       "      <td>1</td>\n",
       "      <td>-1</td>\n",
       "    </tr>\n",
       "  </tbody>\n",
       "</table>\n",
       "</div>"
      ],
      "text/plain": [
       "   tweet_id                                              tweet    city  year  \\\n",
       "0         0  very bad thing say that government did not med...  Mumbai  2022   \n",
       "1         1  all netas and their family should admitted onl...  Mumbai  2022   \n",
       "5         5  very hygiene government veterinary hospital as...  Mumbai  2022   \n",
       "7         7  shall throw out india let take care our health...  Mumbai  2022   \n",
       "9         9  not online school wild guess going south mumba...  Mumbai  2022   \n",
       "\n",
       "                                       tweets_tokens  sentiment_flair  \\\n",
       "0  ['very', 'bad', 'thing', 'say', 'that', 'gover...               -1   \n",
       "1  ['all', 'netas', 'and', 'their', 'family', 'sh...               -1   \n",
       "5  ['very', 'hygiene', 'government', 'veterinary'...               -1   \n",
       "7  ['shall', 'throw', 'out', 'india', 'let', 'tak...               -1   \n",
       "9  ['not', 'online', 'school', 'wild', 'guess', '...               -1   \n",
       "\n",
       "   sentiment_nltk  sentiment_flair_glove_embed_kmeans  \\\n",
       "0              -1                                  -1   \n",
       "1              -1                                  -1   \n",
       "5               1                                  -1   \n",
       "7               1                                  -1   \n",
       "9              -1                                  -1   \n",
       "\n",
       "   sentiment_fast_text_embed_kmeans  sentiment_fast_text_embed_nmf_kmeans  \n",
       "0                                -1                                     1  \n",
       "1                                -1                                     1  \n",
       "5                                -1                                    -1  \n",
       "7                                -1                                     1  \n",
       "9                                 1                                    -1  "
      ]
     },
     "execution_count": 9,
     "metadata": {},
     "output_type": "execute_result"
    }
   ],
   "source": [
    "tweets_df = pd.read_csv('/Users/nitanshjain/Documents/Projects/Twitter_Data_Analysis/v2/data/tweets_with_sentiment_v2.csv')\n",
    "tweets_neg_df = tweets_df[tweets_df['sentiment_flair']==-1]\n",
    "tweets_neg_df.head()"
   ]
  },
  {
   "cell_type": "code",
   "execution_count": 10,
   "metadata": {},
   "outputs": [],
   "source": [
    "tfidf = TfidfVectorizer(lowercase=False)\n",
    "x_tfidf = tfidf.fit_transform(tweets_neg_df['tweet'])\n",
    "x_tfidf_numpy = x_tfidf.toarray()"
   ]
  },
  {
   "cell_type": "code",
   "execution_count": 11,
   "metadata": {},
   "outputs": [],
   "source": [
    "from gensim.utils import simple_preprocess\n",
    "\n",
    "def sent_to_words(sentences):\n",
    "    for sentence in sentences:\n",
    "        yield(gensim.utils.simple_preprocess(str(sentence), deacc=True))  # deacc=True removes punctuations\n",
    "\n",
    "data = tweets_neg_df['tweet'].values.tolist()\n",
    "data_words = list(sent_to_words(data))"
   ]
  },
  {
   "cell_type": "code",
   "execution_count": 12,
   "metadata": {},
   "outputs": [],
   "source": [
    "bigram = gensim.models.Phrases(data_words, min_count=5, threshold=100) # higher threshold fewer phrases.\n",
    "trigram = gensim.models.Phrases(bigram[data_words], threshold=100)  \n",
    "\n",
    "# Faster way to get a sentence clubbed as a trigram/bigram\n",
    "bigram_mod = gensim.models.phrases.Phraser(bigram)\n",
    "trigram_mod = gensim.models.phrases.Phraser(trigram)"
   ]
  },
  {
   "cell_type": "code",
   "execution_count": 13,
   "metadata": {},
   "outputs": [],
   "source": [
    "stop_words = stopwords.words('english')\n",
    "stop_words.extend(['from', 'subject', 're', 'edu', 'use'])\n",
    "\n",
    "def remove_stopwords(texts):\n",
    "    return [[word for word in simple_preprocess(str(doc)) if word not in stop_words] for doc in texts]\n",
    "\n",
    "def make_bigrams(texts):\n",
    "    return [bigram_mod[doc] for doc in texts]\n",
    "\n",
    "def make_trigrams(texts):\n",
    "    return [trigram_mod[bigram_mod[doc]] for doc in texts]\n",
    "\n",
    "def lemmatization(texts, allowed_postags=['NOUN', 'ADJ', 'VERB', 'ADV']):\n",
    "    texts_out = []\n",
    "    for sent in texts:\n",
    "        doc = nlp(\" \".join(sent)) \n",
    "        texts_out.append([token.lemma_ for token in doc if token.pos_ in allowed_postags])\n",
    "    return texts_out"
   ]
  },
  {
   "cell_type": "code",
   "execution_count": 14,
   "metadata": {},
   "outputs": [],
   "source": [
    "import spacy\n",
    "spacy.load('en_core_web_sm')\n",
    "\n",
    "data_words_nostops = remove_stopwords(data_words)\n",
    "data_words_bigrams = make_bigrams(data_words_nostops)\n",
    "nlp = spacy.load(\"en_core_web_sm\", disable=['parser', 'ner'])\n",
    "data_lemmatized = lemmatization(data_words_bigrams, allowed_postags=['NOUN', 'ADJ', 'VERB', 'ADV'])"
   ]
  },
  {
   "cell_type": "code",
   "execution_count": 15,
   "metadata": {},
   "outputs": [],
   "source": [
    "import gensim.corpora as corpora\n",
    "id2word = corpora.Dictionary(data_lemmatized)\n",
    "texts = data_lemmatized\n",
    "corpus = [id2word.doc2bow(text) for text in texts]"
   ]
  },
  {
   "cell_type": "code",
   "execution_count": 16,
   "metadata": {},
   "outputs": [
    {
     "name": "stdout",
     "output_type": "stream",
     "text": [
      "[(0,\n",
      "  '0.086*\"understand\" + 0.072*\"mean\" + 0.059*\"hospital\" + 0.040*\"doctor\" + '\n",
      "  '0.011*\"government\" + 0.010*\"patient\" + 0.008*\"get\" + 0.007*\"significant\" + '\n",
      "  '0.006*\"terminal\" + 0.006*\"poor\"'),\n",
      " (1,\n",
      "  '0.068*\"hospital\" + 0.030*\"poor\" + 0.025*\"doctor\" + 0.021*\"people\" + '\n",
      "  '0.018*\"get\" + 0.014*\"treatment\" + 0.014*\"pay\" + 0.014*\"money\" + '\n",
      "  '0.011*\"private\" + 0.011*\"patient\"'),\n",
      " (2,\n",
      "  '0.067*\"hospital\" + 0.020*\"terminal\" + 0.017*\"doctor\" + 0.012*\"take\" + '\n",
      "  '0.012*\"dead\" + 0.011*\"patient\" + 0.007*\"injure\" + 0.007*\"bad\" + '\n",
      "  '0.007*\"report\" + 0.007*\"death\"'),\n",
      " (3,\n",
      "  '0.047*\"take\" + 0.045*\"road\" + 0.041*\"action\" + 0.029*\"hospital\" + '\n",
      "  '0.016*\"ambulance\" + 0.014*\"traffic\" + 0.011*\"parking\" + 0.011*\"police\" + '\n",
      "  '0.011*\"vehicle\" + 0.010*\"park\"'),\n",
      " (4,\n",
      "  '0.044*\"doctor\" + 0.037*\"hospital\" + 0.014*\"service\" + 0.010*\"bad\" + '\n",
      "  '0.009*\"terminal\" + 0.009*\"come\" + 0.008*\"call\" + 0.007*\"staff\" + 0.007*\"go\" '\n",
      "  '+ 0.007*\"wait\"'),\n",
      " (5,\n",
      "  '0.086*\"guess\" + 0.065*\"wild\" + 0.047*\"hospital\" + 0.032*\"doctor\" + '\n",
      "  '0.013*\"admit\" + 0.012*\"terminal\" + 0.012*\"take\" + 0.012*\"day\" + 0.011*\"say\" '\n",
      "  '+ 0.008*\"dead\"'),\n",
      " (6,\n",
      "  '0.081*\"condition\" + 0.045*\"hospital\" + 0.037*\"help\" + 0.018*\"need\" + '\n",
      "  '0.016*\"critical\" + 0.015*\"admit\" + 0.014*\"strike_rich\" + 0.012*\"terminal\" + '\n",
      "  '0.011*\"bad\" + 0.011*\"unhygienic\"'),\n",
      " (7,\n",
      "  '0.044*\"death\" + 0.037*\"oxygen\" + 0.036*\"hospital\" + 0.031*\"lack\" + '\n",
      "  '0.030*\"die\" + 0.027*\"due\" + 0.022*\"people\" + 0.014*\"case\" + 0.012*\"doctor\" '\n",
      "  '+ 0.012*\"government\"'),\n",
      " (8,\n",
      "  '0.039*\"buy\" + 0.034*\"rule\" + 0.023*\"insurance\" + 0.022*\"baby\" + '\n",
      "  '0.015*\"safety\" + 0.013*\"value\" + 0.012*\"stable\" + 0.012*\"money\" + '\n",
      "  '0.012*\"deteriorate\" + 0.009*\"future\"'),\n",
      " (9,\n",
      "  '0.075*\"hospital\" + 0.045*\"bed\" + 0.032*\"covid\" + 0.031*\"patient\" + '\n",
      "  '0.024*\"government\" + 0.018*\"ambulance\" + 0.015*\"get\" + 0.013*\"doctor\" + '\n",
      "  '0.012*\"ventilator\" + 0.012*\"available\"')]\n"
     ]
    }
   ],
   "source": [
    "lda_model = gensim.models.LdaMulticore(corpus=corpus,\n",
    "                                       id2word=id2word,\n",
    "                                       num_topics=10, \n",
    "                                       random_state=100,\n",
    "                                       chunksize=100,\n",
    "                                       passes=10,\n",
    "                                       per_word_topics=True)\n",
    "\n",
    "pprint(lda_model.print_topics())\n",
    "doc_lda = lda_model[corpus]"
   ]
  },
  {
   "cell_type": "code",
   "execution_count": 17,
   "metadata": {},
   "outputs": [
    {
     "name": "stdout",
     "output_type": "stream",
     "text": [
      "Coherence Score:  0.38218334609741217\n"
     ]
    }
   ],
   "source": [
    "from gensim.models import CoherenceModel\n",
    "\n",
    "# Compute Coherence Score\n",
    "coherence_model_lda = CoherenceModel(model=lda_model, texts=data_lemmatized, dictionary=id2word, coherence='c_v')\n",
    "coherence_lda = coherence_model_lda.get_coherence()\n",
    "print('Coherence Score: ', coherence_lda)"
   ]
  },
  {
   "cell_type": "code",
   "execution_count": 18,
   "metadata": {},
   "outputs": [],
   "source": [
    "def compute_coherence_values(corpus, dictionary, k, a, b):\n",
    "    \n",
    "    lda_model = gensim.models.LdaMulticore(corpus=corpus,\n",
    "                                           id2word=dictionary,\n",
    "                                           num_topics=k, \n",
    "                                           random_state=100,\n",
    "                                           chunksize=100,\n",
    "                                           passes=10,\n",
    "                                           alpha=a,\n",
    "                                           eta=b)\n",
    "    \n",
    "    coherence_model_lda = CoherenceModel(model=lda_model, texts=data_lemmatized, dictionary=id2word, coherence='c_v')\n",
    "    \n",
    "    return coherence_model_lda.get_coherence()"
   ]
  },
  {
   "cell_type": "code",
   "execution_count": 19,
   "metadata": {},
   "outputs": [
    {
     "name": "stderr",
     "output_type": "stream",
     "text": [
      "496it [3:46:25, 27.39s/it]                           \n"
     ]
    }
   ],
   "source": [
    "grid = {}\n",
    "grid['Validation_Set'] = {}\n",
    "\n",
    "# Topics range\n",
    "min_topics = 2\n",
    "max_topics = 10\n",
    "step_size = 1\n",
    "topics_range = range(min_topics, max_topics, step_size)\n",
    "\n",
    "# Alpha parameter\n",
    "alpha = list(np.arange(0.01, 1, 0.3))\n",
    "alpha.append('symmetric')\n",
    "alpha.append('asymmetric')\n",
    "\n",
    "# # Beta parameter\n",
    "beta = list(np.arange(0.01, 1, 0.3))\n",
    "beta.append('symmetric')\n",
    "\n",
    "# Validation sets\n",
    "num_of_docs = len(corpus)\n",
    "corpus_sets = [gensim.utils.ClippedCorpus(corpus, int(num_of_docs*0.75)), \n",
    "               corpus]\n",
    "\n",
    "corpus_title = ['75% Corpus', '100% Corpus']\n",
    "\n",
    "model_results = {'Validation_Set': [],\n",
    "                 'Topics': [],\n",
    "                 'Alpha': [],\n",
    "                 'Beta': [],\n",
    "                 'Coherence': []\n",
    "                }\n",
    "\n",
    "# Can take a long time to run\n",
    "if 1 == 1:\n",
    "    pbar = tqdm.tqdm(total=(len(beta)*len(alpha)*len(topics_range)*len(corpus_title)))\n",
    "    \n",
    "    for i in range(len(corpus_sets)):\n",
    "        # iterate through number of topics\n",
    "        for k in topics_range:\n",
    "            # iterate through alpha values\n",
    "            for a in alpha:\n",
    "                # iterare through beta values\n",
    "                for b in beta:\n",
    "                    # get the coherence score for the given parameters\n",
    "                    cv = compute_coherence_values(corpus=corpus_sets[i], dictionary=id2word, \n",
    "                                                  k=k, a=a, b=b)\n",
    "                    # Save the model results\n",
    "                    model_results['Validation_Set'].append(corpus_title[i])\n",
    "                    model_results['Topics'].append(k)\n",
    "                    model_results['Alpha'].append(a)\n",
    "                    model_results['Beta'].append(b)\n",
    "                    model_results['Coherence'].append(cv)\n",
    "                    \n",
    "                    pbar.update(1)\n",
    "            \n",
    "            pbar.update(1)\n",
    "    pd.DataFrame(model_results).to_csv('/Users/nitanshjain/Documents/Projects/Twitter_Data_Analysis/v2/data/lda_tuning_results.csv', index=False)\n",
    "    pbar.close()"
   ]
  },
  {
   "cell_type": "code",
   "execution_count": 20,
   "metadata": {},
   "outputs": [
    {
     "data": {
      "text/plain": [
       "<Axes: xlabel='Topics', ylabel='Coherence'>"
      ]
     },
     "execution_count": 20,
     "metadata": {},
     "output_type": "execute_result"
    },
    {
     "data": {
      "image/png": "[encoded data removed]",
      "text/plain": [
       "<Figure size 640x480 with 1 Axes>"
      ]
     },
     "metadata": {},
     "output_type": "display_data"
    }
   ],
   "source": [
    "lda_results = pd.read_csv('/Users/nitanshjain/Documents/Projects/Twitter_Data_Analysis/v2/data/lda_tuning_results.csv')\n",
    "sns.lineplot(x='Topics', y='Coherence', hue='Validation_Set', data=lda_results)"
   ]
  },
  {
   "cell_type": "code",
   "execution_count": 27,
   "metadata": {},
   "outputs": [
    {
     "data": {
      "text/html": [
       "<div>\n",
       "<style scoped>\n",
       "    .dataframe tbody tr th:only-of-type {\n",
       "        vertical-align: middle;\n",
       "    }\n",
       "\n",
       "    .dataframe tbody tr th {\n",
       "        vertical-align: top;\n",
       "    }\n",
       "\n",
       "    .dataframe thead th {\n",
       "        text-align: right;\n",
       "    }\n",
       "</style>\n",
       "<table border=\"1\" class=\"dataframe\">\n",
       "  <thead>\n",
       "    <tr style=\"text-align: right;\">\n",
       "      <th></th>\n",
       "      <th>Validation_Set</th>\n",
       "      <th>Topics</th>\n",
       "      <th>Alpha</th>\n",
       "      <th>Beta</th>\n",
       "      <th>Coherence</th>\n",
       "    </tr>\n",
       "  </thead>\n",
       "  <tbody>\n",
       "    <tr>\n",
       "      <th>477</th>\n",
       "      <td>100% Corpus</td>\n",
       "      <td>9</td>\n",
       "      <td>asymmetric</td>\n",
       "      <td>0.61</td>\n",
       "      <td>0.540384</td>\n",
       "    </tr>\n",
       "  </tbody>\n",
       "</table>\n",
       "</div>"
      ],
      "text/plain": [
       "    Validation_Set  Topics       Alpha  Beta  Coherence\n",
       "477    100% Corpus       9  asymmetric  0.61   0.540384"
      ]
     },
     "execution_count": 27,
     "metadata": {},
     "output_type": "execute_result"
    }
   ],
   "source": [
    "lda_results[lda_results['Coherence']==max(lda_results['Coherence'])]"
   ]
  },
  {
   "cell_type": "code",
   "execution_count": 35,
   "metadata": {},
   "outputs": [],
   "source": [
    "num_topics = 5\n",
    "\n",
    "lda_model = gensim.models.LdaMulticore(corpus=corpus,\n",
    "                                           id2word=id2word,\n",
    "                                           num_topics=num_topics, \n",
    "                                           random_state=100,\n",
    "                                           chunksize=500,\n",
    "                                           passes=10,\n",
    "                                           alpha='asymmetric',\n",
    "                                           eta=0.61)"
   ]
  },
  {
   "cell_type": "code",
   "execution_count": 36,
   "metadata": {},
   "outputs": [
    {
     "data": {
      "text/html": [
       "\n",
       "<link rel=\"stylesheet\" type=\"text/css\" href=\"https://cdn.jsdelivr.net/gh/bmabey/pyLDAvis@3.4.0/pyLDAvis/js/ldavis.v1.0.0.css\">\n",
       "\n",
       "\n",
       "<div id=\"ldavis_el2862955191121445364870818\" style=\"background-color:white;\"></div>\n",
       "<script type=\"text/javascript\">\n",
       "\n",
       "var ldavis_el2862955191121445364870818_data = {\"mdsDat\": {\"x\": [-0.22147047951237617, -0.08090396269145263, 0.046953327884775124, 0.12816165505842383, 0.1272594592606297], \"y\": [-0.0331541617336811, 0.07500624250070623, -0.05040478152706807, 0.004316477624170811, 0.004236223135872157], \"topics\": [1, 2, 3, 4, 5], \"cluster\": [1, 1, 1, 1, 1], \"Freq\": [78.79056266426211, 15.134293914663107, 3.7739008206188647, 1.1713704559172202, 1.129872144538697]}, \"tinfo\": {\"Term\": [\"hospital\", \"death\", \"condition\", \"road\", \"guess\", \"case\", \"terminal\", \"wild\", \"help\", \"take\", \"dead\", \"action\", \"strike_rich\", \"name\", \"understand\", \"bad\", \"report\", \"critical\", \"patient\", \"police\", \"mean\", \"contact\", \"day\", \"family\", \"injure\", \"look\", \"parking\", \"unhygienic\", \"body\", \"work\", \"understand\", \"mean\", \"available\", \"shortage\", \"ask\", \"buy\", \"private\", \"question\", \"ventilator\", \"medicine\", \"claim\", \"loot\", \"demand\", \"test\", \"blame\", \"availability\", \"fund\", \"corporate\", \"rate\", \"money\", \"insurance\", \"government\", \"minister\", \"bed\", \"education\", \"covid\", \"country\", \"watch\", \"injection\", \"consultation\", \"oxygen\", \"doctor\", \"treatment\", \"die\", \"lack\", \"facility\", \"provide\", \"medical\", \"tell\", \"patient\", \"give\", \"state\", \"govt\", \"health\", \"vaccine\", \"hospital\", \"people\", \"poor\", \"need\", \"service\", \"get\", \"say\", \"make\", \"death\", \"due\", \"help\", \"guess\", \"take\", \"terminal\", \"wild\", \"day\", \"bad\", \"condition\", \"traffic\", \"parking\", \"park\", \"road\", \"footpath\", \"vehicle\", \"bus\", \"drainage\", \"smell\", \"lane\", \"repair\", \"near_kadamba\", \"bike\", \"colony\", \"pothole\", \"residential\", \"junction\", \"declared_brought\", \"sewage\", \"illegal\", \"unhygienic\", \"singer\", \"washroom\", \"mosquito\", \"overflow\", \"water\", \"pedestrian\", \"wrong_side\", \"flow\", \"opposite\", \"garbage\", \"injury\", \"car\", \"area\", \"spot\", \"block\", \"location\", \"signal\", \"front\", \"injure\", \"cause\", \"condition\", \"action\", \"police\", \"guess\", \"dead\", \"hospital\", \"wild\", \"terminal\", \"look\", \"take\", \"bad\", \"work\", \"fire\", \"day\", \"get\", \"ambulance\", \"doctor\", \"go\", \"even\", \"people\", \"poor\", \"see\", \"enquire\", \"blood_group\", \"clot\", \"vice\", \"wall\", \"priest\", \"ndrf\", \"ritual\", \"dilip\", \"tumor\", \"sye\", \"mishap\", \"byculla\", \"error\", \"fiver\", \"unnadu\", \"cmrf\", \"spring\", \"hostel\", \"collectively\", \"indo\", \"optic\", \"plaster\", \"metre\", \"pa\", \"predict\", \"swab\", \"leak\", \"rainfall\", \"pimpripada\", \"donor\", \"platelet\", \"injure\", \"coach\", \"plasma\", \"total\", \"garu\", \"death_toll\", \"brain\", \"bulletin\", \"death\", \"position\", \"dead\", \"contact\", \"name\", \"financial\", \"case\", \"strike_rich\", \"critical\", \"fire\", \"discharge\", \"recover\", \"diagnose\", \"help\", \"blood\", \"condition\", \"body\", \"hospital\", \"certificate\", \"report\", \"update\", \"terminal\", \"patient\", \"child\", \"family\", \"person\", \"admit\", \"surgery\", \"number\", \"day\", \"poor\", \"benifite\", \"peshiant\", \"jayansh\", \"madiga\", \"slg\", \"entity\", \"herd\", \"maleyali\", \"foresee\", \"villeage\", \"bcci\", \"sundry\", \"estimation\", \"bustop\", \"dlf\", \"fodder\", \"banjarahil\", \"applicable\", \"mortgage\", \"ndtv\", \"raising\", \"foreigner\", \"mhe\", \"intensity\", \"playlist\", \"meat\", \"comedy\", \"prayagraj\", \"ppt\", \"publice\", \"closure\", \"tribal\", \"scrub\", \"consciousness\", \"severity\", \"domlur\", \"resort\", \"scene\", \"activity\", \"movie\", \"sub\", \"salutation\", \"traintime\", \"opendistrict\", \"insulin\", \"boogie\", \"localticket\", \"unani\", \"migrane\", \"vechile\", \"pharm\", \"infest\", \"christian\", \"induce\", \"unrest\", \"presume\", \"fundamental\", \"clark\", \"msme_tourism\", \"airline\", \"ventilatory\", \"showroom\", \"cute\", \"patronage\", \"blah\", \"ponder\", \"bala\", \"magical\", \"socialist\", \"subramanyam\", \"tollfree\", \"hamper\", \"greeting\", \"utility\", \"weekly\", \"blr\", \"violate\", \"lifeline\", \"series\", \"housing\", \"deeply\", \"rail\", \"tear\", \"growth\", \"owaisi\", \"migrant\", \"passenger\", \"plain\", \"reservation\", \"note\", \"lock\", \"simple\"], \"Freq\": [7988.0, 830.0, 1008.0, 403.0, 1453.0, 452.0, 1287.0, 1110.0, 713.0, 1249.0, 324.0, 474.0, 281.0, 224.0, 2304.0, 773.0, 348.0, 197.0, 1534.0, 268.0, 1931.0, 133.0, 682.0, 320.0, 92.0, 249.0, 112.0, 126.0, 151.0, 455.0, 2295.1806510492715, 1921.0745237169908, 315.7762714365407, 132.23908867534726, 377.8306786424965, 113.6922597068962, 584.72998695142, 107.1280272421783, 188.4122464087529, 350.2241371205425, 103.57278862701419, 101.52232646581886, 100.79193532270773, 285.82985440928326, 117.65503697560233, 64.62880397619327, 91.05172945037273, 110.6129437667764, 94.30535979455085, 515.0497848593155, 65.55672908156848, 1268.6922108759577, 65.50349926932215, 824.9352208355525, 62.79533100901708, 839.8557287788715, 146.2884345745228, 66.7430286095851, 62.76216766569207, 56.2421902626331, 789.3166123548264, 3311.869498441671, 670.7606341585054, 641.1234435044767, 612.9919834307251, 259.03754042567, 257.42005780153397, 525.2029410703475, 247.8029864017514, 1456.8905242765227, 621.2855474668912, 360.45585966977296, 366.69602462470107, 416.02000156223903, 163.0153272427966, 7108.9680410400715, 1251.0570943197527, 1123.4035814067388, 658.8897524280721, 614.0300132212551, 1052.9662800890028, 589.1021514933905, 456.4073929647148, 741.1186833597586, 624.1715410179046, 637.3561354090706, 1152.5991308458158, 1001.4946244643885, 1013.6478083162882, 872.4486834702077, 577.9949882398528, 621.3764279977562, 636.72814139953, 106.06161693977882, 110.34212960062732, 80.76953827379235, 390.286070034777, 33.34216438688718, 84.48163581904797, 41.77696464671784, 19.34683214796259, 15.95255235018842, 19.915018174761506, 18.959944129099856, 12.041634367868008, 22.709702440278814, 26.94474240732967, 10.711014346352474, 11.645818329162863, 10.466958895113773, 13.739739303299682, 9.81551555746463, 39.750164541506145, 113.11166421198185, 11.67730944750366, 14.737368024245812, 10.246563304974579, 8.69457621365293, 97.4089561004947, 10.06242316418823, 8.395776415583219, 12.456187722212276, 21.904304989960984, 41.160228977257304, 35.881375988396414, 64.24006588653499, 94.3735238532016, 23.950742300230612, 57.47149428826034, 36.74080832618643, 23.283360825643637, 42.84308375803553, 55.222781595551886, 47.84785491379336, 339.2635512955467, 172.96111163606759, 110.03608988076574, 299.4388469877033, 111.28406254034499, 810.5139538056269, 237.09336260894148, 253.03578923443652, 90.2423999948995, 239.84171796129368, 144.12437642433656, 89.74975599791146, 49.34458077669261, 95.00747554552883, 109.67020071348009, 83.13140364906134, 137.79460722924765, 74.38600766597906, 75.6585672803709, 87.7294906505477, 67.83521360247005, 62.33818790067393, 9.477401588250217, 4.484265413661412, 4.118836065291375, 3.2008318758350423, 3.5301920049222457, 3.532561296765381, 2.98783535972272, 3.265138369573854, 3.220144317831278, 3.465811604701889, 2.641988908227034, 2.55797509051813, 2.9291553985571395, 2.508646977038993, 2.221625978937049, 2.221625978937049, 2.2145284574557826, 2.305710846838356, 3.1764441650699444, 2.511429181181192, 2.00949009844677, 1.9973082037750023, 3.285942865610546, 2.3042145083641876, 1.9540829090834948, 1.9468973781930463, 1.9257370956401276, 7.176147980617663, 1.7031514813245199, 1.7031138140114621, 7.242186813720986, 3.8756037649141613, 35.259584131562484, 3.577991289638226, 8.55853408540077, 16.069404163897108, 5.036453227568993, 7.79255517144523, 14.104577144688607, 6.006936731500169, 67.15142627499885, 7.426734511462764, 34.74538639138561, 18.370329298278353, 24.305215422103966, 8.265071084175606, 33.51193791354099, 24.297020728556102, 20.28981558364969, 14.547734689474844, 13.236108149674193, 9.942067704346602, 6.381087758764738, 30.846988725047478, 11.984506526188774, 32.05872369283602, 14.443467282497474, 68.29617554983355, 9.59181453425931, 15.62576961882419, 8.89131105037387, 20.524335488072087, 19.589616294557853, 10.038334645437748, 10.588812256221667, 9.99401860533021, 10.988836264605077, 8.909900494181084, 9.230630345626295, 9.58794140618301, 9.277944775260453, 1.0944937177406102, 1.0898397443856016, 1.0844704315219114, 1.0844704315219114, 1.0752562380612114, 0.994817058341239, 1.037481214308429, 0.7799410384332767, 0.7760256766701131, 0.7721217293096443, 0.7708132287288921, 0.7711045176364938, 1.0797674759728149, 0.7477530877509326, 0.7437825379048375, 0.6725435883956669, 0.7340925965726008, 0.8038527160161483, 0.6520114051562487, 0.6429438258194813, 0.7407022006494841, 0.6033980735865341, 0.563934604790488, 0.9532777197269714, 0.5977590261970298, 0.8300539787142965, 0.776265822404476, 0.5361728380967554, 0.8173042017237793, 0.8173042017237793, 1.022246200474893, 0.7593152127639846, 0.77176516774974, 0.7667001096685572, 0.7516306046740938, 0.7242202464361365, 0.8175509966247605, 0.9758128535906974, 0.9561104863452383, 0.7906525688066874, 0.7715817061607978, 2.3604114644408236, 0.9667951428789799, 0.9666307407880964, 0.8992010842507671, 0.8002798758350762, 0.7998562571834693, 0.736008225261347, 0.7167100600592717, 0.7166721128926503, 0.7079063174031167, 0.7244698280596309, 1.0486828836859008, 0.6366176478072494, 0.9606846870120974, 0.585333762413318, 0.5798606586055337, 0.5395321736619019, 0.9588848154865469, 0.7383469999996344, 0.5327991704755749, 0.4660026971536867, 0.4829993934235335, 0.4618861778292591, 0.46082841392136714, 0.45627144023056404, 0.43940868142487655, 0.43940868142487655, 0.43940868142487655, 0.43940868142487655, 0.43915192341297654, 0.6071682948536796, 2.138752550690461, 0.6359305903045487, 0.6279351222974285, 0.7269986058645928, 1.0018352358568603, 0.9526014060546127, 0.8915873861185433, 1.0395227583437865, 0.9471730371460707, 1.1973309143896358, 1.0947636780689085, 0.8889362153395491, 0.8981916896186389, 1.1342585546212822, 1.0072761112963733, 0.8105032700965784, 0.898512156113092, 0.8685149743456223, 0.7499888165920721, 0.7439636082333038], \"Total\": [7988.0, 830.0, 1008.0, 403.0, 1453.0, 452.0, 1287.0, 1110.0, 713.0, 1249.0, 324.0, 474.0, 281.0, 224.0, 2304.0, 773.0, 348.0, 197.0, 1534.0, 268.0, 1931.0, 133.0, 682.0, 320.0, 92.0, 249.0, 112.0, 126.0, 151.0, 455.0, 2304.5972153163925, 1931.0269696467622, 317.72472760972823, 133.53196421475872, 381.7841653878709, 115.04206244167628, 592.339266856671, 108.58539111630118, 191.03197276346555, 355.43504849017836, 105.1765724122524, 103.1231189601416, 102.39781717144704, 290.50324582453044, 119.60679176581755, 65.74040769484895, 92.65492683653144, 112.58171975338797, 95.9980746219157, 524.3954631637034, 66.76208215448263, 1292.2986815310683, 66.72401386385894, 840.3202497654906, 63.96926709477761, 855.8382606043059, 149.2452785881879, 68.10288351642014, 64.04620251065137, 57.39480239401529, 808.4861267270991, 3456.3647798369766, 690.1147115475516, 660.1867632168694, 631.491415539585, 264.646032791565, 263.43507754214363, 541.5235154735054, 254.24829773210087, 1534.3902833957252, 647.0961907006597, 372.2113042736222, 379.31138578002674, 431.89954493245256, 166.62705483592353, 7988.287639579293, 1341.588083820233, 1200.8499822704014, 705.4402405217853, 656.938943665261, 1165.055514645928, 635.8287637540114, 485.0039091107321, 830.2857643613095, 690.0569160953871, 713.8040231648574, 1453.200254907181, 1249.2950394670174, 1287.525612604575, 1110.4057385932604, 682.9051931292905, 773.1229612049171, 1008.4424271202505, 107.68843068750292, 112.41066932765449, 82.4839814483787, 403.4248978558638, 34.62318412996111, 87.9017739407224, 43.47414423226238, 20.598198899121247, 17.153153973334124, 21.527344665502895, 20.625540542809738, 13.173998101245655, 24.87811035396467, 29.714831863453554, 11.873197727418715, 12.947907849125642, 11.642852092060902, 15.305309146176965, 10.97410779287333, 44.45363435111861, 126.57903645142498, 13.077322695789935, 16.612181373975428, 11.591771709467706, 9.886632695490068, 110.76450922821338, 11.455116881256853, 9.559446447200965, 14.276370378685227, 25.110845407698033, 49.18472006693651, 43.12613557259028, 82.61955274863118, 126.90009822785535, 28.93135747106451, 75.69883867294521, 48.74940855601398, 29.302338273180965, 65.16614086427846, 92.37280329469671, 78.92419887707001, 1008.4424271202505, 474.2503426328027, 268.6886258056033, 1453.200254907181, 324.52661242926405, 7988.287639579293, 1110.4057385932604, 1287.525612604575, 249.05814880113547, 1249.2950394670174, 773.1229612049171, 455.47693878936843, 103.85395868130296, 682.9051931292905, 1165.055514645928, 509.58294010728235, 3456.3647798369766, 421.6643351904877, 510.79205973576643, 1341.588083820233, 1200.8499822704014, 520.2625800811892, 12.129819411469686, 5.879002310872639, 5.512191058191142, 4.556168199906758, 5.049397235441346, 5.07934319966785, 4.311932815173418, 4.77183698519857, 4.8151150890125445, 5.218685756876991, 3.9837365177572277, 3.903890425032209, 4.569612451454231, 3.941340609085292, 3.535629764102526, 3.535629764102526, 3.5415472716937773, 3.725785826215929, 5.146256373186246, 4.097959782773712, 3.325044585038677, 3.3338784123752587, 5.511350762879239, 3.9247645150667267, 3.340296767926592, 3.3814191283066637, 3.3663057059655763, 12.693222601191907, 3.013741528930149, 3.0137797530511703, 13.101719377208147, 7.328722128318355, 92.37280329469671, 7.210032196076295, 22.03603355158486, 53.35474180701641, 11.96001548851048, 23.93335954008723, 59.23887146429284, 16.485004044205823, 830.2857643613095, 24.94344176665898, 324.52661242926405, 133.8526713934219, 224.29458892174284, 33.00257242125491, 452.0013643464772, 281.27777196848234, 197.7492855715847, 103.85395868130296, 88.42888643849007, 51.84239856682136, 21.4604195605848, 713.8040231648574, 93.54863289042635, 1008.4424271202505, 151.19782510121945, 7988.287639579293, 62.90019167761455, 348.2792661654942, 66.75698185811117, 1287.525612604575, 1534.3902833957252, 205.92336271758654, 320.6257403716566, 212.0578035847834, 539.5160082803224, 110.86256703750206, 212.62036110820205, 682.9051931292905, 1200.8499822704014, 2.58636895297132, 2.5994432742533364, 2.6144194293730108, 2.6144194293730108, 2.6390568913504913, 2.4669853321507818, 2.6216000844781027, 2.24720467418764, 2.257737836734576, 2.2692054107609714, 2.2661768361999792, 2.2722731773193354, 3.301218544999244, 2.322537590909239, 2.3494879783873164, 2.148796546648072, 2.373463590491127, 2.614502169090901, 2.196295524676645, 2.2344537600217604, 2.6270630986851575, 2.191613778875479, 2.0549448492302833, 3.4807048980878825, 2.2116157545139354, 3.105123506058723, 2.9419590178881156, 2.1349105925087573, 3.312781457057116, 3.312781457057116, 4.355993393553429, 3.1582704338887004, 3.327855193944769, 3.3510598411959136, 3.2982813948431233, 3.1901804359443586, 6.516476376533145, 24.194223210470298, 21.71943074836513, 12.285052145481997, 12.648131383677475, 3.9848974466355624, 2.447407507512337, 2.448021239517698, 2.557843139238848, 2.2771033817334434, 2.2781748055279127, 2.231158552301262, 2.2903415362876838, 2.2908356645578545, 2.317084496956486, 2.373574391421748, 3.4694763305304055, 2.131031689892565, 3.3166928931443302, 2.1335575929896686, 2.150243733469432, 2.0247487738979517, 3.620483189309173, 2.8065078653696984, 2.044318357417511, 1.9410803242386887, 2.0305858862311483, 1.9528386924719723, 1.9540902429145623, 1.96906639604323, 1.9015689976282262, 1.9015689976282262, 1.9015689976282262, 1.9015689976282262, 1.9008769198719158, 2.6456845609598822, 10.543082206084158, 2.841340596261414, 2.8064358444248247, 3.3088857209688673, 5.252813864667436, 4.966583153841804, 5.145310390080317, 7.590223824620992, 7.025557685421464, 11.229043457423076, 10.35401856200832, 7.223575328917127, 8.099993964086169, 19.458786473212317, 17.81435241940626, 7.689979530097586, 13.063268722208527, 47.27416444976777, 17.278860599381606, 25.962771266943236], \"Category\": [\"Default\", \"Default\", \"Default\", \"Default\", \"Default\", \"Default\", \"Default\", \"Default\", \"Default\", \"Default\", \"Default\", \"Default\", \"Default\", \"Default\", \"Default\", \"Default\", \"Default\", \"Default\", \"Default\", \"Default\", \"Default\", \"Default\", \"Default\", \"Default\", \"Default\", \"Default\", \"Default\", \"Default\", \"Default\", \"Default\", \"Topic1\", \"Topic1\", \"Topic1\", \"Topic1\", \"Topic1\", \"Topic1\", \"Topic1\", \"Topic1\", \"Topic1\", \"Topic1\", \"Topic1\", \"Topic1\", \"Topic1\", \"Topic1\", \"Topic1\", \"Topic1\", \"Topic1\", \"Topic1\", \"Topic1\", \"Topic1\", \"Topic1\", \"Topic1\", \"Topic1\", \"Topic1\", \"Topic1\", \"Topic1\", \"Topic1\", \"Topic1\", \"Topic1\", \"Topic1\", \"Topic1\", \"Topic1\", \"Topic1\", \"Topic1\", \"Topic1\", \"Topic1\", \"Topic1\", \"Topic1\", \"Topic1\", \"Topic1\", \"Topic1\", \"Topic1\", \"Topic1\", \"Topic1\", \"Topic1\", \"Topic1\", \"Topic1\", \"Topic1\", \"Topic1\", \"Topic1\", \"Topic1\", \"Topic1\", \"Topic1\", \"Topic1\", \"Topic1\", \"Topic1\", \"Topic1\", \"Topic1\", \"Topic1\", \"Topic1\", \"Topic1\", \"Topic1\", \"Topic1\", \"Topic2\", \"Topic2\", \"Topic2\", \"Topic2\", \"Topic2\", \"Topic2\", \"Topic2\", \"Topic2\", \"Topic2\", \"Topic2\", \"Topic2\", \"Topic2\", \"Topic2\", \"Topic2\", \"Topic2\", \"Topic2\", \"Topic2\", \"Topic2\", \"Topic2\", \"Topic2\", \"Topic2\", \"Topic2\", \"Topic2\", \"Topic2\", \"Topic2\", \"Topic2\", \"Topic2\", \"Topic2\", \"Topic2\", \"Topic2\", \"Topic2\", \"Topic2\", \"Topic2\", \"Topic2\", \"Topic2\", \"Topic2\", \"Topic2\", \"Topic2\", \"Topic2\", \"Topic2\", \"Topic2\", \"Topic2\", \"Topic2\", \"Topic2\", \"Topic2\", \"Topic2\", \"Topic2\", \"Topic2\", \"Topic2\", \"Topic2\", \"Topic2\", \"Topic2\", \"Topic2\", \"Topic2\", \"Topic2\", \"Topic2\", \"Topic2\", \"Topic2\", \"Topic2\", \"Topic2\", \"Topic2\", \"Topic2\", \"Topic2\", \"Topic3\", \"Topic3\", \"Topic3\", \"Topic3\", \"Topic3\", \"Topic3\", \"Topic3\", \"Topic3\", \"Topic3\", \"Topic3\", \"Topic3\", \"Topic3\", \"Topic3\", \"Topic3\", \"Topic3\", \"Topic3\", \"Topic3\", \"Topic3\", \"Topic3\", \"Topic3\", \"Topic3\", \"Topic3\", \"Topic3\", \"Topic3\", \"Topic3\", \"Topic3\", \"Topic3\", \"Topic3\", \"Topic3\", \"Topic3\", \"Topic3\", \"Topic3\", \"Topic3\", \"Topic3\", \"Topic3\", \"Topic3\", \"Topic3\", \"Topic3\", \"Topic3\", \"Topic3\", \"Topic3\", \"Topic3\", \"Topic3\", \"Topic3\", \"Topic3\", \"Topic3\", \"Topic3\", \"Topic3\", \"Topic3\", \"Topic3\", \"Topic3\", \"Topic3\", \"Topic3\", \"Topic3\", \"Topic3\", \"Topic3\", \"Topic3\", \"Topic3\", \"Topic3\", \"Topic3\", \"Topic3\", \"Topic3\", \"Topic3\", \"Topic3\", \"Topic3\", \"Topic3\", \"Topic3\", \"Topic3\", \"Topic3\", \"Topic3\", \"Topic3\", \"Topic4\", \"Topic4\", \"Topic4\", \"Topic4\", \"Topic4\", \"Topic4\", \"Topic4\", \"Topic4\", \"Topic4\", \"Topic4\", \"Topic4\", \"Topic4\", \"Topic4\", \"Topic4\", \"Topic4\", \"Topic4\", \"Topic4\", \"Topic4\", \"Topic4\", \"Topic4\", \"Topic4\", \"Topic4\", \"Topic4\", \"Topic4\", \"Topic4\", \"Topic4\", \"Topic4\", \"Topic4\", \"Topic4\", \"Topic4\", \"Topic4\", \"Topic4\", \"Topic4\", \"Topic4\", \"Topic4\", \"Topic4\", \"Topic4\", \"Topic4\", \"Topic4\", \"Topic4\", \"Topic4\", \"Topic5\", \"Topic5\", \"Topic5\", \"Topic5\", \"Topic5\", \"Topic5\", \"Topic5\", \"Topic5\", \"Topic5\", \"Topic5\", \"Topic5\", \"Topic5\", \"Topic5\", \"Topic5\", \"Topic5\", \"Topic5\", \"Topic5\", \"Topic5\", \"Topic5\", \"Topic5\", \"Topic5\", \"Topic5\", \"Topic5\", \"Topic5\", \"Topic5\", \"Topic5\", \"Topic5\", \"Topic5\", \"Topic5\", \"Topic5\", \"Topic5\", \"Topic5\", \"Topic5\", \"Topic5\", \"Topic5\", \"Topic5\", \"Topic5\", \"Topic5\", \"Topic5\", \"Topic5\", \"Topic5\", \"Topic5\", \"Topic5\", \"Topic5\", \"Topic5\", \"Topic5\", \"Topic5\", \"Topic5\", \"Topic5\", \"Topic5\", \"Topic5\"], \"logprob\": [30.0, 29.0, 28.0, 27.0, 26.0, 25.0, 24.0, 23.0, 22.0, 21.0, 20.0, 19.0, 18.0, 17.0, 16.0, 15.0, 14.0, 13.0, 12.0, 11.0, 10.0, 9.0, 8.0, 7.0, 6.0, 5.0, 4.0, 3.0, 2.0, 1.0, -4.0217, -4.1996, -6.0052, -6.8756, -5.8258, -7.0268, -5.3891, -7.0862, -6.5216, -5.9017, -7.12, -7.14, -7.1472, -6.1049, -6.9925, -7.5916, -7.2488, -7.0542, -7.2137, -5.516, -7.5773, -4.6145, -7.5782, -5.045, -7.6204, -5.027, -6.7747, -7.5594, -7.6209, -7.7306, -5.0891, -3.655, -5.2518, -5.297, -5.3419, -6.2033, -6.2096, -5.4965, -6.2476, -4.4762, -5.3285, -5.8729, -5.8557, -5.7295, -6.6664, -2.8911, -4.6285, -4.7361, -5.2697, -5.3402, -4.8009, -5.3817, -5.6369, -5.1521, -5.3238, -5.3029, -4.7105, -4.851, -4.8389, -4.989, -5.4007, -5.3283, -5.3039, -5.4464, -5.4068, -5.7188, -4.1435, -6.6036, -5.6739, -6.3781, -7.1479, -7.3408, -7.119, -7.1681, -7.6221, -6.9876, -6.8166, -7.7392, -7.6555, -7.7622, -7.4901, -7.8265, -6.4278, -5.3821, -7.6528, -7.42, -7.7835, -7.9477, -5.5315, -7.8016, -7.9827, -7.5882, -7.0237, -6.393, -6.5302, -5.9478, -5.5632, -6.9344, -6.0591, -6.5065, -6.9627, -6.3529, -6.0991, -6.2424, -4.2837, -4.9574, -5.4096, -4.4085, -5.3983, -3.4128, -4.642, -4.5769, -5.6079, -4.6305, -5.1398, -5.6134, -6.2116, -5.5565, -5.413, -5.69, -5.1847, -5.8012, -5.7842, -5.6362, -5.8933, -5.9779, -6.4727, -7.221, -7.306, -7.5582, -7.4602, -7.4596, -7.627, -7.5383, -7.5521, -7.4786, -7.75, -7.7824, -7.6469, -7.8018, -7.9233, -7.9233, -7.9265, -7.8862, -7.5658, -7.8007, -8.0237, -8.0298, -7.5319, -7.8868, -8.0517, -8.0553, -8.0663, -6.7508, -8.1891, -8.1891, -6.7417, -7.3669, -5.1588, -7.4468, -6.5746, -5.9447, -7.1049, -6.6684, -6.0751, -6.9287, -4.5146, -6.7165, -5.1735, -5.8108, -5.5309, -6.6095, -5.2097, -5.5312, -5.7115, -6.0441, -6.1386, -6.4248, -6.8682, -5.2925, -6.238, -5.254, -6.0513, -4.4977, -6.4607, -5.9727, -6.5365, -5.7, -5.7466, -6.4152, -6.3618, -6.4196, -6.3247, -6.5344, -6.499, -6.4611, -6.4939, -7.4613, -7.4656, -7.4705, -7.4705, -7.4791, -7.5568, -7.5148, -7.8002, -7.8052, -7.8103, -7.8119, -7.8116, -7.4749, -7.8423, -7.8476, -7.9483, -7.8608, -7.77, -7.9793, -7.9933, -7.8518, -8.0568, -8.1245, -7.5995, -8.0662, -7.7379, -7.8049, -8.1749, -7.7534, -7.7534, -7.5296, -7.827, -7.8107, -7.8173, -7.8372, -7.8743, -7.7531, -7.5761, -7.5965, -7.7865, -7.811, -6.6567, -7.5493, -7.5495, -7.6218, -7.7384, -7.7389, -7.8221, -7.8487, -7.8487, -7.861, -7.8379, -7.468, -7.9672, -7.5557, -8.0511, -8.0605, -8.1326, -7.5576, -7.8189, -8.1452, -8.2791, -8.2433, -8.288, -8.2903, -8.3002, -8.3379, -8.3379, -8.3379, -8.3379, -8.3385, -8.0145, -6.7553, -7.9682, -7.9809, -7.8344, -7.5137, -7.5641, -7.6303, -7.4768, -7.5698, -7.3355, -7.425, -7.6333, -7.6229, -7.3896, -7.5083, -7.7257, -7.6226, -7.6565, -7.8033, -7.8113], \"loglift\": [30.0, 29.0, 28.0, 27.0, 26.0, 25.0, 24.0, 23.0, 22.0, 21.0, 20.0, 19.0, 18.0, 17.0, 16.0, 15.0, 14.0, 13.0, 12.0, 11.0, 10.0, 9.0, 8.0, 7.0, 6.0, 5.0, 4.0, 3.0, 2.0, 1.0, 0.2343, 0.2332, 0.2322, 0.2286, 0.228, 0.2266, 0.2254, 0.2249, 0.2246, 0.2236, 0.223, 0.2227, 0.2226, 0.2222, 0.2219, 0.2213, 0.2209, 0.2207, 0.2206, 0.2204, 0.2202, 0.2199, 0.2199, 0.2199, 0.2199, 0.2195, 0.2184, 0.2182, 0.2181, 0.2181, 0.2144, 0.1957, 0.2099, 0.2091, 0.2086, 0.217, 0.2153, 0.2078, 0.2127, 0.1865, 0.1977, 0.2063, 0.2046, 0.2009, 0.2165, 0.1218, 0.1685, 0.1717, 0.1701, 0.1708, 0.1372, 0.162, 0.1776, 0.1248, 0.138, 0.1251, 0.0066, 0.0173, -0.0008, -0.0028, 0.0716, 0.0199, -0.2214, 1.873, 1.8696, 1.8672, 1.8551, 1.8505, 1.8485, 1.8484, 1.8255, 1.8156, 1.8104, 1.804, 1.7983, 1.797, 1.7903, 1.7852, 1.7822, 1.7817, 1.7803, 1.7766, 1.7764, 1.7757, 1.775, 1.7685, 1.7649, 1.7597, 1.7597, 1.7586, 1.7584, 1.7518, 1.7516, 1.7101, 1.7043, 1.6366, 1.5921, 1.6993, 1.6127, 1.6054, 1.6583, 1.4688, 1.3737, 1.3877, 0.7988, 0.8795, 0.9955, 0.3086, 0.8179, -0.3999, 0.3442, 0.2613, 0.873, 0.2379, 0.2084, 0.2639, 1.144, -0.0842, -0.4748, 0.075, -1.334, 0.1533, -0.0215, -0.8391, -0.9855, -0.2336, 3.0303, 3.0062, 2.9857, 2.924, 2.9191, 2.9139, 2.9102, 2.8976, 2.8747, 2.8678, 2.8664, 2.8543, 2.8323, 2.8253, 2.8124, 2.8124, 2.8075, 2.7972, 2.7946, 2.7874, 2.7735, 2.7647, 2.7599, 2.7445, 2.7409, 2.725, 2.7186, 2.7068, 2.7064, 2.7063, 2.6842, 2.64, 2.314, 2.5764, 2.3313, 2.077, 2.4122, 2.155, 1.842, 2.2675, 0.7622, 2.0655, 1.0427, 1.2911, 1.0548, 1.8925, 0.6753, 0.8281, 1.0002, 1.3115, 1.3778, 1.6256, 2.0642, 0.1355, 1.2222, -0.1715, 0.9287, -1.4848, 1.3964, 0.173, 1.2611, -0.8618, -1.0838, 0.256, -0.1334, 0.2222, -0.6167, 0.7559, 0.1401, -0.9888, -1.5861, 3.587, 3.5777, 3.567, 3.567, 3.5491, 3.5388, 3.52, 3.3888, 3.3791, 3.369, 3.3686, 3.3663, 3.3294, 3.3137, 3.2968, 3.2854, 3.2735, 3.2676, 3.2325, 3.2013, 3.181, 3.1572, 3.1539, 3.1519, 3.1387, 3.1277, 3.1147, 3.0653, 3.0475, 3.0475, 2.9974, 3.0216, 2.9856, 2.9721, 2.9681, 2.9643, 2.3712, 1.2364, 1.3239, 1.7037, 1.6502, 3.9594, 3.5543, 3.5538, 3.4377, 3.4374, 3.4364, 3.374, 3.3213, 3.321, 3.2973, 3.2964, 3.2866, 3.2749, 3.244, 3.1897, 3.1725, 3.1606, 3.1545, 3.1478, 3.1384, 3.0563, 3.047, 3.0413, 3.0384, 3.0208, 3.0181, 3.0181, 3.0181, 3.0181, 3.0178, 3.0112, 2.8878, 2.9861, 2.9858, 2.9676, 2.8261, 2.8318, 2.7302, 2.495, 2.4792, 2.2447, 2.2362, 2.388, 2.2838, 1.6407, 1.6103, 2.233, 1.8062, 0.4861, 1.3459, 0.9306]}, \"token.table\": {\"Topic\": [1, 2, 3, 1, 2, 3, 4, 1, 2, 3, 1, 2, 5, 1, 2, 1, 4, 1, 2, 3, 1, 2, 1, 2, 1, 2, 1, 2, 3, 1, 1, 4, 1, 4, 1, 2, 3, 1, 4, 1, 2, 1, 1, 2, 1, 2, 3, 1, 2, 3, 1, 3, 1, 2, 5, 1, 2, 3, 1, 5, 1, 2, 3, 1, 2, 3, 1, 2, 1, 2, 4, 1, 2, 1, 2, 3, 1, 2, 1, 2, 3, 1, 2, 3, 1, 2, 3, 1, 2, 3, 1, 3, 5, 1, 2, 3, 1, 5, 1, 3, 4, 1, 3, 1, 3, 1, 2, 3, 1, 3, 1, 2, 5, 1, 2, 3, 4, 1, 2, 3, 1, 2, 4, 1, 2, 1, 2, 3, 1, 2, 1, 2, 1, 2, 3, 1, 2, 3, 1, 2, 1, 2, 3, 1, 2, 3, 1, 2, 3, 1, 2, 3, 1, 2, 3, 1, 2, 5, 1, 2, 1, 2, 3, 1, 2, 3, 1, 3, 1, 2, 3, 1, 2, 4, 1, 2, 3, 1, 2, 3, 4, 1, 2, 3, 1, 2, 1, 2, 3, 1, 2, 1, 2, 3, 1, 4, 1, 3, 1, 3, 4, 1, 2, 3, 1, 2, 1, 2, 3, 1, 2, 3, 1, 2, 3, 1, 3, 1, 2, 3, 1, 4, 1, 2, 1, 4, 1, 4, 1, 2, 1, 2, 1, 5, 1, 2, 3, 1, 2, 3, 1, 2, 3, 1, 2, 3, 1, 2, 3, 1, 2, 3, 1, 2, 3, 1, 2, 5, 1, 2, 3, 5, 1, 2, 3, 1, 2, 3, 5, 1, 2, 3, 1, 2, 3, 1, 4, 1, 2, 3, 1, 2, 3, 1, 2, 5, 1, 2, 3, 1, 3, 1, 5, 1, 2, 5, 1, 2, 1, 2, 3, 1, 2, 3, 1, 5, 1, 2, 1, 2, 4, 1, 4, 1, 2, 1, 2, 3, 1, 2, 1, 2, 3, 1, 3, 5, 1, 5, 1, 2, 3, 1, 2, 5, 1, 2, 1, 2, 1, 4, 1, 1, 2, 1, 4, 1, 2, 3, 1, 2, 3, 4, 1, 2, 3, 1, 2, 3, 1, 2, 3, 1, 4, 1, 5, 1, 2, 5, 1, 2, 1, 3, 1, 2, 3, 1, 2, 4, 1, 2, 1, 2, 4, 1, 2, 5, 1, 2, 3, 1, 3, 1, 4, 1, 2, 1, 2, 3, 1, 2, 3, 5, 1, 2, 3, 1, 5, 1, 2, 1, 3, 1, 2, 1, 5, 1, 2, 3, 1, 3, 1, 2, 1, 2, 1, 2, 5, 1, 2, 3, 1, 1, 2, 1, 2, 3, 1, 2, 3, 1, 4, 1, 5, 1, 3, 1, 2, 5, 1, 3, 1, 3, 1, 3, 1, 4, 1, 2, 3, 1, 1, 2, 3, 1, 2, 3, 1, 2, 1, 4, 1, 4, 1, 3, 1, 5, 1, 2, 3, 1, 2, 3, 1, 2, 3, 1, 4, 1, 2, 1, 2, 3, 5, 1, 3, 1, 2, 4, 1, 2, 3, 1, 2, 3, 1, 2, 1, 2, 3, 1, 2, 5, 1, 2, 1, 2, 4, 1, 3, 1, 2, 3, 1, 2, 5, 1, 2, 3, 1, 2, 3, 4, 1, 2, 4, 1, 2, 3, 1, 5, 1, 2, 1, 4, 1, 2, 1, 2, 1, 1, 2, 1, 2, 5, 1, 2, 1, 4, 1, 2, 1, 1, 2, 3, 1, 3, 1, 2, 3, 1, 2, 3, 1, 2, 3, 4, 1, 1, 4, 1, 2, 3, 1, 3, 1, 3, 1, 2, 3, 1, 2, 3, 5, 1, 2, 1, 2, 3, 1, 2, 3, 1, 1, 2, 3, 1, 2, 1, 5, 1, 2, 3, 1, 4, 1, 2, 3, 1, 5, 1, 2, 1, 2, 3, 1, 3, 1, 5, 1, 2, 3, 1, 2, 5, 1, 2, 1, 5, 1, 2, 1, 2, 3, 1, 5, 1, 3, 1, 4, 1, 2, 5, 1, 3, 1, 2, 1, 2, 1, 2, 3, 1, 2, 5, 1, 2, 3, 1, 2, 1, 2], \"Freq\": [0.6304687063378811, 0.3647862414597105, 0.004217181982193185, 0.8287510022036327, 0.04604172234464626, 0.04604172234464626, 0.04604172234464626, 0.8933933240208174, 0.08526160353725643, 0.020388644324126536, 0.3563146971149753, 0.3563146971149753, 0.3563146971149753, 0.835977750570524, 0.16287829412524296, 0.38248199287121415, 0.38248199287121415, 0.23640643639324477, 0.7407401673655003, 0.023640643639324478, 0.9900882076027788, 0.007857842917482372, 0.9887374033595023, 0.015211344667069266, 0.9945716292757459, 0.003147378573657424, 0.8032357479490293, 0.1862575647418039, 0.0090541871749488, 0.5258815227042889, 0.4213251907492188, 0.4213251907492188, 0.4412718301705184, 0.4412718301705184, 0.9817685581541489, 0.017850337420984526, 0.0011900224947323016, 0.386642438949463, 0.386642438949463, 0.08039195789166007, 0.9245075157540907, 0.5117470923494717, 0.9865660491173148, 0.008360729229807753, 0.2245741189431986, 0.7529838105742541, 0.013210242290776388, 0.6948257605873791, 0.17103403337535486, 0.12827552503151615, 0.17009688840410864, 0.6803875536164345, 0.3022165418596543, 0.6044330837193086, 0.3022165418596543, 0.7738206546401993, 0.12566318323216913, 0.09259392448686146, 0.4391544134631036, 0.4391544134631036, 0.70899392513438, 0.050642423223884285, 0.23633130837812666, 0.5459507304860708, 0.06066119227623008, 0.3639671536573805, 0.023002177907343255, 0.9660914721084167, 0.4305635370183674, 0.4305635370183674, 0.4305635370183674, 0.9909419005574194, 0.008692472811907187, 0.2188369387171467, 0.2188369387171467, 0.6565108161514401, 0.2178661031337793, 0.7746350333645486, 0.9159264388473225, 0.011061913512648822, 0.07522101188601199, 0.38011155547777065, 0.608178488764433, 0.012670385182592354, 0.8267065427482028, 0.015898202745157745, 0.15898202745157744, 0.8741115996967322, 0.07769880886193176, 0.04856175553870735, 0.288227935495707, 0.288227935495707, 0.288227935495707, 0.9888133603780063, 0.009507820772865445, 0.009507820772865445, 0.49388843341529565, 0.49388843341529565, 0.45913751911558515, 0.22956875955779257, 0.22956875955779257, 0.18141606294905094, 0.7256642517962038, 0.28236246004468574, 0.5647249200893715, 0.27739127171837064, 0.13869563585918532, 0.5547825434367413, 0.24402386870745424, 0.7320716061223628, 0.06730645521369454, 0.9086371453848763, 0.03365322760684727, 0.33990956159472596, 0.33990956159472596, 0.33990956159472596, 0.33990956159472596, 0.6316671957357479, 0.33616197700850636, 0.03173210402440178, 0.29841305359773096, 0.29841305359773096, 0.29841305359773096, 0.9756981061727512, 0.017423180467370555, 0.7993863617820812, 0.05976720461922103, 0.1344762103932473, 0.9859504744033689, 0.008882436706336656, 0.9782554019873381, 0.013400758931333398, 0.9814938624114298, 0.007010670445795927, 0.01051600566869389, 0.7231378843502037, 0.1719348815937547, 0.10113816564338513, 0.4924687041216668, 0.4924687041216668, 0.8463839575613984, 0.13911155011822293, 0.014643321065076096, 0.5484912274761382, 0.3420366643250075, 0.1078493986610384, 0.8924638140339648, 0.026496901361332287, 0.08069510869133015, 0.16713073621361813, 0.45960952458744986, 0.33426147242723625, 0.06533680505563554, 0.9147152707788976, 0.06533680505563554, 0.4270123646162945, 0.28467490974419635, 0.14233745487209817, 0.9863491506942317, 0.009765833175190412, 0.5591689373137771, 0.1397922343284443, 0.2795844686568886, 0.9709373706261866, 0.025750289080569692, 0.0030294457741846695, 0.2076793558438235, 0.6230380675314704, 0.836830621535344, 0.011308521912639785, 0.1470107848643172, 0.4256246506468179, 0.4256246506468179, 0.4256246506468179, 0.9582321921924614, 0.039926341341352554, 0.0017359278844066327, 0.31346189348189, 0.31346189348189, 0.31346189348189, 0.31346189348189, 0.15265172016118858, 0.22897758024178289, 0.53428102056416, 0.04854793396730729, 0.9224107453788385, 0.9042732352149109, 0.08550019371423036, 0.008694934953989528, 0.9848479255930581, 0.015632506755445367, 0.08244145820130037, 0.08244145820130037, 0.7419731238117033, 0.40535303836937453, 0.40535303836937453, 0.25372077655376263, 0.7611623296612878, 0.3029184485573732, 0.3029184485573732, 0.3029184485573732, 0.8477030755411343, 0.14878853057996816, 0.003915487646841267, 0.9786657191418705, 0.01889316060119441, 0.9512648599156641, 0.015594505900256787, 0.03430791298056493, 0.6666147026112171, 0.06060133660101975, 0.242405346404079, 0.3851562377390751, 0.47181639123036695, 0.14443358915215315, 0.2828350440289489, 0.5656700880578978, 0.07004581511089196, 0.8405497813307035, 0.07004581511089196, 0.46537677173760794, 0.46537677173760794, 0.02888238113070172, 0.9531185773131567, 0.45628477500862485, 0.45628477500862485, 0.4429212212903893, 0.4429212212903893, 0.3375986318695687, 0.6598518713814296, 0.9821388144912014, 0.010792734225178038, 0.46506355741657884, 0.46506355741657884, 0.12198910539359532, 0.833592220189568, 0.04066303513119844, 0.5016715911249418, 0.08361193185415695, 0.41805965927078476, 0.9038195920818565, 0.09441610173694606, 0.0017166563952172012, 0.9596718523834866, 0.03245267133663964, 0.00618146120697898, 0.8205578967063786, 0.17549504149211564, 0.0023715546147583194, 0.9819711326305272, 0.01625011330594253, 0.0015476298386611932, 0.9675427992895356, 0.023727207612004957, 0.007909069204001654, 0.09484892372582698, 0.6639424660807889, 0.18969784745165397, 0.41530680631106875, 0.27687120420737915, 0.13843560210368958, 0.13843560210368958, 0.7934212756339246, 0.20575278526846788, 0.0006881364055801602, 0.37797400897905586, 0.37797400897905586, 0.37797400897905586, 0.37797400897905586, 0.9631869375205311, 0.03241494501271018, 0.004630706430387169, 0.8924018068372261, 0.06304251382680562, 0.043429287302910534, 0.38144643262745237, 0.38144643262745237, 0.8899278945311487, 0.10152363517579992, 0.008512462628797034, 0.19431600905278287, 0.19431600905278287, 0.5829480271583486, 0.6587421024108823, 0.13174842048217644, 0.13174842048217644, 0.06748604571460667, 0.8998139428614224, 0.022495348571535557, 0.3007478469610861, 0.6014956939221722, 0.46925627842278334, 0.46925627842278334, 0.42130552284944806, 0.42130552284944806, 0.42130552284944806, 0.9836648783278388, 0.015613728227426012, 0.02165139444365898, 0.5954133472006219, 0.3788994027640321, 0.13912677128004547, 0.8347606276802727, 0.023187795213340908, 0.39095438835142005, 0.39095438835142005, 0.988585105049312, 0.014978562197716847, 0.2872981276147104, 0.5745962552294208, 0.2872981276147104, 0.3824940974523815, 0.3824940974523815, 0.08588960781197985, 0.8588960781197985, 0.9707178671244726, 0.02850395042127326, 0.0015835528011818477, 0.04645254747105333, 0.9290509494210667, 0.3939109993651647, 0.07878219987303295, 0.5514753991112307, 0.6040370023160506, 0.20134566743868354, 0.20134566743868354, 0.4389478794926247, 0.4389478794926247, 0.2051306938115939, 0.7589835671028974, 0.04102613876231878, 0.8102386103225491, 0.1157483729032213, 0.05787418645161065, 0.6343900039430457, 0.361361394651102, 0.9891089508204683, 0.009697146576671258, 0.3824940974523815, 0.3824940974523815, 0.5258815227042889, 0.9401986075454287, 0.05773149344577194, 0.4449972944104426, 0.4449972944104426, 0.99480744194443, 0.00466073241931279, 0.0005178591577014211, 0.32204838166623584, 0.32204838166623584, 0.32204838166623584, 0.32204838166623584, 0.9694869844035169, 0.022159702500651815, 0.007386567500217271, 0.984708743515122, 0.011253814211601395, 0.002813453552900349, 0.25479235662703154, 0.25479235662703154, 0.5095847132540631, 0.4866310647580484, 0.4866310647580484, 0.43661610469714357, 0.43661610469714357, 0.8222506589517383, 0.10278133236896729, 0.051390666184483645, 0.9891491260502374, 0.014987107970458142, 0.25615473057027455, 0.7684641917108236, 0.9820832485715644, 0.01525566211373304, 0.00190695776421663, 0.45531213298229867, 0.45531213298229867, 0.45531213298229867, 0.08626808956073895, 0.8626808956073895, 0.8953970947567697, 0.08139973588697906, 0.08139973588697906, 0.27620622654812294, 0.5524124530962459, 0.27620622654812294, 0.824808127959552, 0.06241791238612827, 0.10700213551907703, 0.23191455963345797, 0.6957436789003739, 0.4475366722246521, 0.4475366722246521, 0.07590710066258823, 0.9108852079510587, 0.9341684272399383, 0.056702180712591095, 0.008505327106888665, 0.8672813253752053, 0.0634596091737955, 0.0634596091737955, 0.021153203057931835, 0.8606889718660184, 0.09406436850994737, 0.04232896582947632, 0.40849318782749494, 0.40849318782749494, 0.11947029067688472, 0.8761154649638213, 0.29995095090691654, 0.5999019018138331, 0.10114667256286002, 0.9103200530657402, 0.740741292722298, 0.12345688212038301, 0.975898007296696, 0.02226383286608432, 0.001236879603671351, 0.2993745973716957, 0.5987491947433914, 0.012123566084474647, 0.9820088528424464, 0.008895952723893149, 0.9785547996282464, 0.6736141577017231, 0.22453805256724105, 0.05613451314181026, 0.9495628431480585, 0.037800030818522574, 0.01303449338569744, 0.512075064804336, 0.08729723235179074, 0.8729723235179074, 0.932476976418664, 0.06559390401666063, 0.001490770545833196, 0.8205309922982043, 0.13203947002499838, 0.04715695358035656, 0.38469775813332174, 0.38469775813332174, 0.43157683775171346, 0.43157683775171346, 0.3318092501575782, 0.6636185003151563, 0.780236147120649, 0.1300393578534415, 0.1300393578534415, 0.5899428302088886, 0.4084219593753844, 0.18144372278667673, 0.5443311683600303, 0.4093483075866568, 0.5457977434488758, 0.45215811017758734, 0.45215811017758734, 0.588041267196451, 0.40939581893423804, 0.0037217801721294366, 0.5078548910333673, 0.9351709344049676, 0.056626557025412104, 0.007494691371010426, 0.5612697770807759, 0.12027209508873768, 0.28063488854038793, 0.08422330891455679, 0.9264563980601246, 0.603722287728779, 0.3018611438643895, 0.46840369030390583, 0.46840369030390583, 0.2957338212316723, 0.5914676424633446, 0.4687007293760185, 0.4687007293760185, 0.1968758480555896, 0.1968758480555896, 0.7875033922223584, 0.9876096904809, 0.010129330158778461, 0.0016882216931297434, 0.9755724347638778, 0.0189800084584412, 0.0037960016916882403, 0.603722287728779, 0.3018611438643895, 0.985399591049931, 0.009209341972429261, 0.6233834632969184, 0.1781095609419767, 0.08905478047098835, 0.08905478047098835, 0.3318134585864737, 0.6636269171729474, 0.3806532094720142, 0.3806532094720142, 0.3806532094720142, 0.9791863052484643, 0.010416875587749619, 0.010416875587749619, 0.7715692388044642, 0.038578461940223206, 0.19289230970111604, 0.04848357782063606, 0.9211879785920851, 0.9159316416166405, 0.040197626904805536, 0.045940145034063476, 0.8420557085608431, 0.07655051896007664, 0.07655051896007664, 0.07723255460669107, 0.9267906552802928, 0.15345716645289426, 0.7672858322644712, 0.15345716645289426, 0.2095629006401163, 0.6286887019203489, 0.029745313350212157, 0.9667226838818951, 0.0024787761125176794, 0.2509474869533461, 0.2509474869533461, 0.5018949739066922, 0.9263500388413877, 0.06920102157728533, 0.004718251471178545, 0.6199827070086961, 0.24799308280347843, 0.08266436093449281, 0.041332180467246404, 0.30049384414909625, 0.30049384414909625, 0.30049384414909625, 0.8784025941836586, 0.11917059264636068, 0.0019221063330058174, 0.5830552041687753, 0.1943517347229251, 0.934637847125196, 0.06393288205090918, 0.6063764004875413, 0.30318820024377063, 0.0911235809665919, 0.911235809665919, 0.9885273595444544, 0.0074888436329125325, 0.5151770318377783, 0.1706348467274457, 0.7849202949462503, 0.9244005485099231, 0.038516689521246796, 0.038516689521246796, 0.07646825143513024, 0.9176190172215629, 0.37892324461723426, 0.37892324461723426, 0.05829831654018705, 0.9327730646429928, 0.5258815227042889, 0.06912914480422447, 0.8295497376506937, 0.10369371720633672, 0.2683997542112193, 0.5367995084224386, 0.9671925486050114, 0.026866459683472538, 0.005373291936694507, 0.8283626479596405, 0.08532490794434067, 0.08532490794434067, 0.39531531167145717, 0.4743783740057486, 0.07906306233429143, 0.07906306233429143, 0.5258815227042889, 0.44008793043965255, 0.44008793043965255, 0.7757352395683598, 0.14432283526853204, 0.08118159483854927, 0.29706155273653745, 0.5941231054730749, 0.2510206173381622, 0.7530618520144867, 0.8012518807623324, 0.19210834303991986, 0.006403611434663995, 0.48290429170625065, 0.3863234333650005, 0.09658085834125013, 0.09658085834125013, 0.9754244264845201, 0.023598978060109358, 0.787557148435089, 0.19650094531960305, 0.01631035514510539, 0.9844984664052584, 0.010326906990264948, 0.003442302330088316, 0.5260729874438066, 0.5810167747062989, 0.11245485962057399, 0.2998796256548639, 0.009286048590510741, 0.9843211505941385, 0.40859562493393187, 0.40859562493393187, 0.9723021242299158, 0.01449034462339666, 0.013041310161056993, 0.6332579941665887, 0.31662899708329434, 0.19161912530989952, 0.19161912530989952, 0.5748573759296985, 0.44819764107242843, 0.44819764107242843, 0.995835621403771, 0.0039052377309951804, 0.03950101170124456, 0.8927228644481271, 0.0632016187219913, 0.2828350440289489, 0.5656700880578978, 0.3015051535422588, 0.3015051535422588, 0.7040462089777559, 0.16477677231394286, 0.13481735916595325, 0.35194654288042143, 0.35194654288042143, 0.35194654288042143, 0.9782324974807058, 0.018004279094736918, 0.43652192755302077, 0.43652192755302077, 0.03412900406336606, 0.9556121137742497, 0.9841284538938426, 0.010469451637168538, 0.005234725818584269, 0.4891606027855916, 0.4891606027855916, 0.2194826784534568, 0.6584480353603703, 0.4406828906972564, 0.4406828906972564, 0.3807483096731856, 0.3807483096731856, 0.1903741548365928, 0.19804344031027582, 0.7921737612411033, 0.06019679038459065, 0.9029518557688598, 0.983805626730119, 0.01468366607059879, 0.10833795124100473, 0.8757317725314548, 0.00902816260341706, 0.3563238411405584, 0.3563238411405584, 0.3563238411405584, 0.7852985352045375, 0.21343549638013234, 0.0009005717146841027, 0.801357805227525, 0.1975950752615815, 0.10460856761144396, 0.8368685408915517], \"Term\": [\"action\", \"action\", \"action\", \"activity\", \"activity\", \"activity\", \"activity\", \"admit\", \"admit\", \"admit\", \"airline\", \"airline\", \"airline\", \"ambulance\", \"ambulance\", \"applicable\", \"applicable\", \"area\", \"area\", \"area\", \"ask\", \"ask\", \"availability\", \"availability\", \"available\", \"available\", \"bad\", \"bad\", \"bad\", \"bala\", \"banjarahil\", \"banjarahil\", \"bcci\", \"bcci\", \"bed\", \"bed\", \"bed\", \"benifite\", \"benifite\", \"bike\", \"bike\", \"blah\", \"blame\", \"blame\", \"block\", \"block\", \"block\", \"blood\", \"blood\", \"blood\", \"blood_group\", \"blood_group\", \"blr\", \"blr\", \"blr\", \"body\", \"body\", \"body\", \"boogie\", \"boogie\", \"brain\", \"brain\", \"brain\", \"bulletin\", \"bulletin\", \"bulletin\", \"bus\", \"bus\", \"bustop\", \"bustop\", \"bustop\", \"buy\", \"buy\", \"byculla\", \"byculla\", \"byculla\", \"car\", \"car\", \"case\", \"case\", \"case\", \"cause\", \"cause\", \"cause\", \"certificate\", \"certificate\", \"certificate\", \"child\", \"child\", \"child\", \"christian\", \"christian\", \"christian\", \"claim\", \"claim\", \"claim\", \"clark\", \"clark\", \"closure\", \"closure\", \"closure\", \"clot\", \"clot\", \"cmrf\", \"cmrf\", \"coach\", \"coach\", \"coach\", \"collectively\", \"collectively\", \"colony\", \"colony\", \"colony\", \"comedy\", \"comedy\", \"comedy\", \"comedy\", \"condition\", \"condition\", \"condition\", \"consciousness\", \"consciousness\", \"consciousness\", \"consultation\", \"consultation\", \"contact\", \"contact\", \"contact\", \"corporate\", \"corporate\", \"country\", \"country\", \"covid\", \"covid\", \"covid\", \"critical\", \"critical\", \"critical\", \"cute\", \"cute\", \"day\", \"day\", \"day\", \"dead\", \"dead\", \"dead\", \"death\", \"death\", \"death\", \"death_toll\", \"death_toll\", \"death_toll\", \"declared_brought\", \"declared_brought\", \"declared_brought\", \"deeply\", \"deeply\", \"deeply\", \"demand\", \"demand\", \"diagnose\", \"diagnose\", \"diagnose\", \"die\", \"die\", \"die\", \"dilip\", \"dilip\", \"discharge\", \"discharge\", \"discharge\", \"dlf\", \"dlf\", \"dlf\", \"doctor\", \"doctor\", \"doctor\", \"domlur\", \"domlur\", \"domlur\", \"domlur\", \"donor\", \"donor\", \"donor\", \"drainage\", \"drainage\", \"due\", \"due\", \"due\", \"education\", \"education\", \"enquire\", \"enquire\", \"enquire\", \"entity\", \"entity\", \"error\", \"error\", \"estimation\", \"estimation\", \"estimation\", \"even\", \"even\", \"even\", \"facility\", \"facility\", \"family\", \"family\", \"family\", \"financial\", \"financial\", \"financial\", \"fire\", \"fire\", \"fire\", \"fiver\", \"fiver\", \"flow\", \"flow\", \"flow\", \"fodder\", \"fodder\", \"footpath\", \"footpath\", \"foreigner\", \"foreigner\", \"foresee\", \"foresee\", \"front\", \"front\", \"fund\", \"fund\", \"fundamental\", \"fundamental\", \"garbage\", \"garbage\", \"garbage\", \"garu\", \"garu\", \"garu\", \"get\", \"get\", \"get\", \"give\", \"give\", \"give\", \"go\", \"go\", \"go\", \"government\", \"government\", \"government\", \"govt\", \"govt\", \"govt\", \"greeting\", \"greeting\", \"greeting\", \"growth\", \"growth\", \"growth\", \"growth\", \"guess\", \"guess\", \"guess\", \"hamper\", \"hamper\", \"hamper\", \"hamper\", \"health\", \"health\", \"health\", \"help\", \"help\", \"help\", \"herd\", \"herd\", \"hospital\", \"hospital\", \"hospital\", \"hostel\", \"hostel\", \"hostel\", \"housing\", \"housing\", \"housing\", \"illegal\", \"illegal\", \"illegal\", \"indo\", \"indo\", \"induce\", \"induce\", \"infest\", \"infest\", \"infest\", \"injection\", \"injection\", \"injure\", \"injure\", \"injure\", \"injury\", \"injury\", \"injury\", \"insulin\", \"insulin\", \"insurance\", \"insurance\", \"intensity\", \"intensity\", \"intensity\", \"jayansh\", \"jayansh\", \"junction\", \"junction\", \"lack\", \"lack\", \"lack\", \"lane\", \"lane\", \"leak\", \"leak\", \"leak\", \"lifeline\", \"lifeline\", \"lifeline\", \"localticket\", \"localticket\", \"location\", \"location\", \"location\", \"lock\", \"lock\", \"lock\", \"look\", \"look\", \"loot\", \"loot\", \"madiga\", \"madiga\", \"magical\", \"make\", \"make\", \"maleyali\", \"maleyali\", \"mean\", \"mean\", \"mean\", \"meat\", \"meat\", \"meat\", \"meat\", \"medical\", \"medical\", \"medical\", \"medicine\", \"medicine\", \"medicine\", \"metre\", \"metre\", \"metre\", \"mhe\", \"mhe\", \"migrane\", \"migrane\", \"migrant\", \"migrant\", \"migrant\", \"minister\", \"minister\", \"mishap\", \"mishap\", \"money\", \"money\", \"money\", \"mortgage\", \"mortgage\", \"mortgage\", \"mosquito\", \"mosquito\", \"movie\", \"movie\", \"movie\", \"msme_tourism\", \"msme_tourism\", \"msme_tourism\", \"name\", \"name\", \"name\", \"ndrf\", \"ndrf\", \"ndtv\", \"ndtv\", \"near_kadamba\", \"near_kadamba\", \"need\", \"need\", \"need\", \"note\", \"note\", \"note\", \"note\", \"number\", \"number\", \"number\", \"opendistrict\", \"opendistrict\", \"opposite\", \"opposite\", \"optic\", \"optic\", \"overflow\", \"overflow\", \"owaisi\", \"owaisi\", \"oxygen\", \"oxygen\", \"oxygen\", \"pa\", \"pa\", \"park\", \"park\", \"parking\", \"parking\", \"passenger\", \"passenger\", \"passenger\", \"patient\", \"patient\", \"patient\", \"patronage\", \"pedestrian\", \"pedestrian\", \"people\", \"people\", \"people\", \"person\", \"person\", \"person\", \"peshiant\", \"peshiant\", \"pharm\", \"pharm\", \"pimpripada\", \"pimpripada\", \"plain\", \"plain\", \"plain\", \"plasma\", \"plasma\", \"plaster\", \"plaster\", \"platelet\", \"platelet\", \"playlist\", \"playlist\", \"police\", \"police\", \"police\", \"ponder\", \"poor\", \"poor\", \"poor\", \"position\", \"position\", \"position\", \"pothole\", \"pothole\", \"ppt\", \"ppt\", \"prayagraj\", \"prayagraj\", \"predict\", \"predict\", \"presume\", \"presume\", \"priest\", \"priest\", \"priest\", \"private\", \"private\", \"private\", \"provide\", \"provide\", \"provide\", \"publice\", \"publice\", \"question\", \"question\", \"rail\", \"rail\", \"rail\", \"rail\", \"rainfall\", \"rainfall\", \"raising\", \"raising\", \"raising\", \"rate\", \"rate\", \"rate\", \"recover\", \"recover\", \"recover\", \"repair\", \"repair\", \"report\", \"report\", \"report\", \"reservation\", \"reservation\", \"reservation\", \"residential\", \"residential\", \"resort\", \"resort\", \"resort\", \"ritual\", \"ritual\", \"road\", \"road\", \"road\", \"salutation\", \"salutation\", \"salutation\", \"say\", \"say\", \"say\", \"scene\", \"scene\", \"scene\", \"scene\", \"scrub\", \"scrub\", \"scrub\", \"see\", \"see\", \"see\", \"series\", \"series\", \"service\", \"service\", \"severity\", \"severity\", \"sewage\", \"sewage\", \"shortage\", \"shortage\", \"showroom\", \"signal\", \"signal\", \"simple\", \"simple\", \"simple\", \"singer\", \"singer\", \"slg\", \"slg\", \"smell\", \"smell\", \"socialist\", \"spot\", \"spot\", \"spot\", \"spring\", \"spring\", \"state\", \"state\", \"state\", \"strike_rich\", \"strike_rich\", \"strike_rich\", \"sub\", \"sub\", \"sub\", \"sub\", \"subramanyam\", \"sundry\", \"sundry\", \"surgery\", \"surgery\", \"surgery\", \"swab\", \"swab\", \"sye\", \"sye\", \"take\", \"take\", \"take\", \"tear\", \"tear\", \"tear\", \"tear\", \"tell\", \"tell\", \"terminal\", \"terminal\", \"terminal\", \"test\", \"test\", \"test\", \"tollfree\", \"total\", \"total\", \"total\", \"traffic\", \"traffic\", \"traintime\", \"traintime\", \"treatment\", \"treatment\", \"treatment\", \"tribal\", \"tribal\", \"tumor\", \"tumor\", \"tumor\", \"unani\", \"unani\", \"understand\", \"understand\", \"unhygienic\", \"unhygienic\", \"unhygienic\", \"unnadu\", \"unnadu\", \"unrest\", \"unrest\", \"update\", \"update\", \"update\", \"utility\", \"utility\", \"utility\", \"vaccine\", \"vaccine\", \"vechile\", \"vechile\", \"vehicle\", \"vehicle\", \"ventilator\", \"ventilator\", \"ventilator\", \"ventilatory\", \"ventilatory\", \"vice\", \"vice\", \"villeage\", \"villeage\", \"violate\", \"violate\", \"violate\", \"wall\", \"wall\", \"washroom\", \"washroom\", \"watch\", \"watch\", \"water\", \"water\", \"water\", \"weekly\", \"weekly\", \"weekly\", \"wild\", \"wild\", \"wild\", \"work\", \"work\", \"wrong_side\", \"wrong_side\"]}, \"R\": 30, \"lambda.step\": 0.01, \"plot.opts\": {\"xlab\": \"PC1\", \"ylab\": \"PC2\"}, \"topic.order\": [1, 2, 3, 4, 5]};\n",
       "\n",
       "function LDAvis_load_lib(url, callback){\n",
       "  var s = document.createElement('script');\n",
       "  s.src = url;\n",
       "  s.async = true;\n",
       "  s.onreadystatechange = s.onload = callback;\n",
       "  s.onerror = function(){console.warn(\"failed to load library \" + url);};\n",
       "  document.getElementsByTagName(\"head\")[0].appendChild(s);\n",
       "}\n",
       "\n",
       "if(typeof(LDAvis) !== \"undefined\"){\n",
       "   // already loaded: just create the visualization\n",
       "   !function(LDAvis){\n",
       "       new LDAvis(\"#\" + \"ldavis_el2862955191121445364870818\", ldavis_el2862955191121445364870818_data);\n",
       "   }(LDAvis);\n",
       "}else if(typeof define === \"function\" && define.amd){\n",
       "   // require.js is available: use it to load d3/LDAvis\n",
       "   require.config({paths: {d3: \"https://d3js.org/d3.v5\"}});\n",
       "   require([\"d3\"], function(d3){\n",
       "      window.d3 = d3;\n",
       "      LDAvis_load_lib(\"https://cdn.jsdelivr.net/gh/bmabey/pyLDAvis@3.4.0/pyLDAvis/js/ldavis.v3.0.0.js\", function(){\n",
       "        new LDAvis(\"#\" + \"ldavis_el2862955191121445364870818\", ldavis_el2862955191121445364870818_data);\n",
       "      });\n",
       "    });\n",
       "}else{\n",
       "    // require.js not available: dynamically load d3 & LDAvis\n",
       "    LDAvis_load_lib(\"https://d3js.org/d3.v5.js\", function(){\n",
       "         LDAvis_load_lib(\"https://cdn.jsdelivr.net/gh/bmabey/pyLDAvis@3.4.0/pyLDAvis/js/ldavis.v3.0.0.js\", function(){\n",
       "                 new LDAvis(\"#\" + \"ldavis_el2862955191121445364870818\", ldavis_el2862955191121445364870818_data);\n",
       "            })\n",
       "         });\n",
       "}\n",
       "</script>"
      ],
      "text/plain": [
       "PreparedData(topic_coordinates=              x         y  topics  cluster       Freq\n",
       "topic                                                \n",
       "0     -0.221470 -0.033154       1        1  78.790563\n",
       "1     -0.080904  0.075006       2        1  15.134294\n",
       "2      0.046953 -0.050405       3        1   3.773901\n",
       "3      0.128162  0.004316       4        1   1.171370\n",
       "4      0.127259  0.004236       5        1   1.129872, topic_info=             Term         Freq        Total Category  logprob  loglift\n",
       "20       hospital  7988.000000  7988.000000  Default  30.0000  30.0000\n",
       "55          death   830.000000   830.000000  Default  29.0000  29.0000\n",
       "93      condition  1008.000000  1008.000000  Default  28.0000  28.0000\n",
       "276          road   403.000000   403.000000  Default  27.0000  27.0000\n",
       "58          guess  1453.000000  1453.000000  Default  26.0000  26.0000\n",
       "...           ...          ...          ...      ...      ...      ...\n",
       "1373        plain     0.810503     7.689980   Topic5  -7.7257   2.2330\n",
       "2814  reservation     0.898512    13.063269   Topic5  -7.6226   1.8062\n",
       "1824         note     0.868515    47.274164   Topic5  -7.6565   0.4861\n",
       "2360         lock     0.749989    17.278861   Topic5  -7.8033   1.3459\n",
       "1376       simple     0.743964    25.962771   Topic5  -7.8113   0.9306\n",
       "\n",
       "[319 rows x 6 columns], token_table=      Topic      Freq        Term\n",
       "term                             \n",
       "268       1  0.630469      action\n",
       "268       2  0.364786      action\n",
       "268       3  0.004217      action\n",
       "1406      1  0.828751    activity\n",
       "1406      2  0.046042    activity\n",
       "...     ...       ...         ...\n",
       "65        3  0.000901        wild\n",
       "287       1  0.801358        work\n",
       "287       2  0.197595        work\n",
       "3439      1  0.104609  wrong_side\n",
       "3439      2  0.836869  wrong_side\n",
       "\n",
       "[671 rows x 3 columns], R=30, lambda_step=0.01, plot_opts={'xlab': 'PC1', 'ylab': 'PC2'}, topic_order=[1, 2, 3, 4, 5])"
      ]
     },
     "execution_count": 36,
     "metadata": {},
     "output_type": "execute_result"
    }
   ],
   "source": [
    "import pyLDAvis.gensim_models as gensimvis\n",
    "import os\n",
    "import pickle \n",
    "import pyLDAvis\n",
    "\n",
    "# Visualize the topics\n",
    "pyLDAvis.enable_notebook()\n",
    "\n",
    "LDAvis_data_filepath = os.path.join('/Users/nitanshjain/Documents/Projects/Twitter_Data_Analysis/v2/results/ldavis_tuned_'+str(num_topics))\n",
    "\n",
    "# # this is a bit time consuming - make the if statement True\n",
    "# # if you want to execute visualization prep yourself\n",
    "if 1 == 1:\n",
    "    LDAvis_prepared = gensimvis.prepare(lda_model, corpus, id2word)\n",
    "    with open(LDAvis_data_filepath, 'wb') as f:\n",
    "        pickle.dump(LDAvis_prepared, f)\n",
    "\n",
    "# load the pre-prepared pyLDAvis data from disk\n",
    "with open(LDAvis_data_filepath, 'rb') as f:\n",
    "    LDAvis_prepared = pickle.load(f)\n",
    "\n",
    "pyLDAvis.save_html(LDAvis_prepared, '/Users/nitanshjain/Documents/Projects/Twitter_Data_Analysis/v2/results/ldavis_tuned_'+ str(num_topics) +'.html')\n",
    "\n",
    "LDAvis_prepared"
   ]
  },
  {
   "cell_type": "code",
   "execution_count": null,
   "metadata": {},
   "outputs": [],
   "source": []
  }
 ],
 "metadata": {
  "kernelspec": {
   "display_name": "Twitter_Data_Analysis-wZ120kVj",
   "language": "python",
   "name": "python3"
  },
  "language_info": {
   "codemirror_mode": {
    "name": "ipython",
    "version": 3
   },
   "file_extension": ".py",
   "mimetype": "text/x-python",
   "name": "python",
   "nbconvert_exporter": "python",
   "pygments_lexer": "ipython3",
   "version": "3.10.4"
  },
  "orig_nbformat": 4
 },
 "nbformat": 4,
 "nbformat_minor": 2
}
