{
 "cells": [
  {
   "cell_type": "markdown",
   "metadata": {},
   "source": [
    "Issues to solve\n",
    "* Far too many duplicates being collected in the dataset\n",
    "* Handle mispelled and redundant words\n",
    "* ~~removing mentions and hashtag~~\n",
    "* ~~removing links, special characters, punctuation marks~~\n",
    "* stopwords removal\n",
    "* contractions handling\n",
    "* stemming and lemmatization"
   ]
  },
  {
   "cell_type": "code",
   "execution_count": 251,
   "metadata": {},
   "outputs": [],
   "source": [
    "import pandas as pd\n",
    "import numpy as np\n",
    "import matplotlib.pyplot as plt\n",
    "import seaborn as sns\n",
    "\n",
    "import re\n",
    "import fnmatch\n",
    "import string\n",
    "from urllib.parse import urlparse\n"
   ]
  },
  {
   "cell_type": "code",
   "execution_count": 252,
   "metadata": {},
   "outputs": [
    {
     "data": {
      "text/html": [
       "<div>\n",
       "<style scoped>\n",
       "    .dataframe tbody tr th:only-of-type {\n",
       "        vertical-align: middle;\n",
       "    }\n",
       "\n",
       "    .dataframe tbody tr th {\n",
       "        vertical-align: top;\n",
       "    }\n",
       "\n",
       "    .dataframe thead th {\n",
       "        text-align: right;\n",
       "    }\n",
       "</style>\n",
       "<table border=\"1\" class=\"dataframe\">\n",
       "  <thead>\n",
       "    <tr style=\"text-align: right;\">\n",
       "      <th></th>\n",
       "      <th>user_id</th>\n",
       "      <th>tweet_id</th>\n",
       "      <th>username</th>\n",
       "      <th>location</th>\n",
       "      <th>following</th>\n",
       "      <th>followers</th>\n",
       "      <th>twt_created_at</th>\n",
       "      <th>total_tweets</th>\n",
       "      <th>retweet_count</th>\n",
       "      <th>text</th>\n",
       "      <th>hashtags</th>\n",
       "      <th>mentions</th>\n",
       "    </tr>\n",
       "  </thead>\n",
       "  <tbody>\n",
       "    <tr>\n",
       "      <th>0</th>\n",
       "      <td>100673521</td>\n",
       "      <td>1585301310026711041</td>\n",
       "      <td>sai1951</td>\n",
       "      <td>NaN</td>\n",
       "      <td>396</td>\n",
       "      <td>81</td>\n",
       "      <td>2022-10-26 16:04:20+00:00</td>\n",
       "      <td>8226</td>\n",
       "      <td>0</td>\n",
       "      <td>@DHFWKA @PMOIndia @MoHFW_INDIA @CMofKarnataka ...</td>\n",
       "      <td>[{'text': 'Covid_19', 'indices': [392, 401]}, ...</td>\n",
       "      <td>[{'screen_name': 'DHFWKA', 'name': \"K'taka Hea...</td>\n",
       "    </tr>\n",
       "    <tr>\n",
       "      <th>1</th>\n",
       "      <td>101430927</td>\n",
       "      <td>1585255112788017153</td>\n",
       "      <td>shivaramsingh</td>\n",
       "      <td>Cuttack</td>\n",
       "      <td>777</td>\n",
       "      <td>1242</td>\n",
       "      <td>2022-10-26 13:00:46+00:00</td>\n",
       "      <td>5578</td>\n",
       "      <td>0</td>\n",
       "      <td>@nipun29j @drsuniltaneja @doc_arka @docMPK @sa...</td>\n",
       "      <td>[]</td>\n",
       "      <td>[{'screen_name': 'nipun29j', 'name': 'nipun ve...</td>\n",
       "    </tr>\n",
       "    <tr>\n",
       "      <th>2</th>\n",
       "      <td>1550427109</td>\n",
       "      <td>1585252333013061634</td>\n",
       "      <td>rhltiwari711</td>\n",
       "      <td>Lucknow, India</td>\n",
       "      <td>2573</td>\n",
       "      <td>520</td>\n",
       "      <td>2022-10-26 12:49:43+00:00</td>\n",
       "      <td>4641</td>\n",
       "      <td>0</td>\n",
       "      <td>Dear @TwitterIndia, kindly provide @verified t...</td>\n",
       "      <td>[{'text': 'VC', 'indices': [74, 77]}, {'text':...</td>\n",
       "      <td>[{'screen_name': 'TwitterIndia', 'name': 'Twit...</td>\n",
       "    </tr>\n",
       "    <tr>\n",
       "      <th>3</th>\n",
       "      <td>190904456</td>\n",
       "      <td>1585231415532490753</td>\n",
       "      <td>amishradp</td>\n",
       "      <td>दिल्ली, भारत</td>\n",
       "      <td>51</td>\n",
       "      <td>9</td>\n",
       "      <td>2022-10-26 11:26:36+00:00</td>\n",
       "      <td>243</td>\n",
       "      <td>0</td>\n",
       "      <td>@care_mediassist @royalsundaram @naveen_shahi1...</td>\n",
       "      <td>[]</td>\n",
       "      <td>[{'screen_name': 'care_mediassist', 'name': 'S...</td>\n",
       "    </tr>\n",
       "    <tr>\n",
       "      <th>4</th>\n",
       "      <td>350945055</td>\n",
       "      <td>1585230709547237379</td>\n",
       "      <td>chouhanneeraj07</td>\n",
       "      <td>Mumbai, India</td>\n",
       "      <td>879</td>\n",
       "      <td>488</td>\n",
       "      <td>2022-10-26 11:23:47+00:00</td>\n",
       "      <td>3450</td>\n",
       "      <td>0</td>\n",
       "      <td>@drchetandeshmu1 @aparanjape @JM_Scindia @mans...</td>\n",
       "      <td>[]</td>\n",
       "      <td>[{'screen_name': 'drchetandeshmu1', 'name': 'd...</td>\n",
       "    </tr>\n",
       "  </tbody>\n",
       "</table>\n",
       "</div>"
      ],
      "text/plain": [
       "      user_id             tweet_id         username        location  \\\n",
       "0   100673521  1585301310026711041          sai1951             NaN   \n",
       "1   101430927  1585255112788017153    shivaramsingh         Cuttack   \n",
       "2  1550427109  1585252333013061634     rhltiwari711  Lucknow, India   \n",
       "3   190904456  1585231415532490753        amishradp    दिल्ली, भारत   \n",
       "4   350945055  1585230709547237379  chouhanneeraj07   Mumbai, India   \n",
       "\n",
       "   following  followers             twt_created_at  total_tweets  \\\n",
       "0        396         81  2022-10-26 16:04:20+00:00          8226   \n",
       "1        777       1242  2022-10-26 13:00:46+00:00          5578   \n",
       "2       2573        520  2022-10-26 12:49:43+00:00          4641   \n",
       "3         51          9  2022-10-26 11:26:36+00:00           243   \n",
       "4        879        488  2022-10-26 11:23:47+00:00          3450   \n",
       "\n",
       "   retweet_count                                               text  \\\n",
       "0              0  @DHFWKA @PMOIndia @MoHFW_INDIA @CMofKarnataka ...   \n",
       "1              0  @nipun29j @drsuniltaneja @doc_arka @docMPK @sa...   \n",
       "2              0  Dear @TwitterIndia, kindly provide @verified t...   \n",
       "3              0  @care_mediassist @royalsundaram @naveen_shahi1...   \n",
       "4              0  @drchetandeshmu1 @aparanjape @JM_Scindia @mans...   \n",
       "\n",
       "                                            hashtags  \\\n",
       "0  [{'text': 'Covid_19', 'indices': [392, 401]}, ...   \n",
       "1                                                 []   \n",
       "2  [{'text': 'VC', 'indices': [74, 77]}, {'text':...   \n",
       "3                                                 []   \n",
       "4                                                 []   \n",
       "\n",
       "                                            mentions  \n",
       "0  [{'screen_name': 'DHFWKA', 'name': \"K'taka Hea...  \n",
       "1  [{'screen_name': 'nipun29j', 'name': 'nipun ve...  \n",
       "2  [{'screen_name': 'TwitterIndia', 'name': 'Twit...  \n",
       "3  [{'screen_name': 'care_mediassist', 'name': 'S...  \n",
       "4  [{'screen_name': 'drchetandeshmu1', 'name': 'd...  "
      ]
     },
     "execution_count": 252,
     "metadata": {},
     "output_type": "execute_result"
    }
   ],
   "source": [
    "tweets_df = pd.read_csv('/Users/nitanshjain/Documents/Thapar 4th Sem/Machine Learing/Machine_Learning_Project/data/20221026_235416_tweets.csv')\n",
    "tweets_df.head()"
   ]
  },
  {
   "cell_type": "code",
   "execution_count": 253,
   "metadata": {},
   "outputs": [],
   "source": [
    "# tweets_df.isna().sum()"
   ]
  },
  {
   "cell_type": "code",
   "execution_count": 254,
   "metadata": {},
   "outputs": [
    {
     "name": "stdout",
     "output_type": "stream",
     "text": [
      "Shape of dataset before removal of duplicates is (1293, 12)\n",
      "Shape of dataset after removal of duplicates is (218, 12)\n"
     ]
    }
   ],
   "source": [
    "print('Shape of dataset before removal of duplicates is {}'.format(tweets_df.shape))\n",
    "tweets_df.drop_duplicates(subset=['tweet_id'], inplace=True)\n",
    "print('Shape of dataset after removal of duplicates is {}'.format(tweets_df.shape))"
   ]
  },
  {
   "cell_type": "code",
   "execution_count": 255,
   "metadata": {},
   "outputs": [
    {
     "data": {
      "text/plain": [
       "user_id            int64\n",
       "tweet_id           int64\n",
       "username          object\n",
       "location          object\n",
       "following          int64\n",
       "followers          int64\n",
       "twt_created_at    object\n",
       "total_tweets       int64\n",
       "retweet_count      int64\n",
       "text              object\n",
       "hashtags          object\n",
       "mentions          object\n",
       "dtype: object"
      ]
     },
     "execution_count": 255,
     "metadata": {},
     "output_type": "execute_result"
    }
   ],
   "source": [
    "tweets_df.dtypes"
   ]
  },
  {
   "cell_type": "code",
   "execution_count": 256,
   "metadata": {},
   "outputs": [],
   "source": [
    "\n",
    "def removing_links(df):\n",
    "    \n",
    "    for i in range(len(df)):\n",
    "        words = df.loc[i, ('text')]\n",
    "        x = [word for word in words.split() if not urlparse(word).scheme]\n",
    "        words = ' '.join(x)\n",
    "        df.loc[i, ('text')] = words\n",
    "    \n",
    "    return df"
   ]
  },
  {
   "cell_type": "code",
   "execution_count": 257,
   "metadata": {},
   "outputs": [],
   "source": [
    "tweets_df = removing_links(tweets_df)"
   ]
  },
  {
   "cell_type": "code",
   "execution_count": 258,
   "metadata": {},
   "outputs": [],
   "source": [
    "def adding_space(df):\n",
    "    \n",
    "    for i in range(len(df)):\n",
    "        \n",
    "        words = df.loc[i, ('text')]\n",
    "        words = words.replace(',', ', ').replace('.', '. ').replace('!', '! ').replace('?', '? ')\n",
    "        # print(words)\n",
    "        df.loc[i, ('text')] = words\n",
    "        \n",
    "    return df\n",
    "        "
   ]
  },
  {
   "cell_type": "code",
   "execution_count": 259,
   "metadata": {},
   "outputs": [],
   "source": [
    "tweets_df = adding_space(tweets_df)"
   ]
  },
  {
   "cell_type": "code",
   "execution_count": 260,
   "metadata": {},
   "outputs": [],
   "source": [
    "def  removing_hashtags_mentions(df):\n",
    "    # count = 0\n",
    "    for i in range(len(df)):\n",
    "        \n",
    "        words = df.loc[i, ('text')].split()\n",
    "        words = [word for word in words if word[0] not in ('#', '@')]\n",
    "        words = [word.replace('▪️', '') for word in words]        \n",
    "                \n",
    "        df.loc[i, ('text')] = ' '.join(words)\n",
    "        # break\n",
    "    # print(count)\n",
    "    return df\n",
    "    "
   ]
  },
  {
   "cell_type": "code",
   "execution_count": 261,
   "metadata": {},
   "outputs": [],
   "source": [
    "\n",
    "# print(tweets)\n",
    "tweets_df = removing_hashtags_mentions(tweets_df)"
   ]
  },
  {
   "cell_type": "code",
   "execution_count": 262,
   "metadata": {},
   "outputs": [],
   "source": [
    "def removing_punctuations_special_char(df):\n",
    "    \n",
    "    for i in range(len(df)):\n",
    "            \n",
    "        words = df.loc[i, ('text')]\n",
    "        words =  words.translate(str.maketrans('', '', string.punctuation))\n",
    "        df.loc[i, ('text')] = words\n",
    "    \n",
    "    return df\n"
   ]
  },
  {
   "cell_type": "code",
   "execution_count": 263,
   "metadata": {},
   "outputs": [],
   "source": [
    "tweets_df = removing_punctuations_special_char(tweets_df)"
   ]
  },
  {
   "cell_type": "code",
   "execution_count": 264,
   "metadata": {},
   "outputs": [],
   "source": [
    "def removing_emojis(df):\n",
    "    \n",
    "    for i in range(len(df)):\n",
    "            \n",
    "        words = df.loc[i, ('text')]\n",
    "        words = re.sub(r'[^\\x00-\\x7F]+', ' ', words)\n",
    "        df.loc[i, ('text')] = words\n",
    "    \n",
    "    return df"
   ]
  },
  {
   "cell_type": "code",
   "execution_count": 265,
   "metadata": {},
   "outputs": [],
   "source": [
    "tweets_df = removing_emojis(tweets_df)"
   ]
  },
  {
   "cell_type": "code",
   "execution_count": 266,
   "metadata": {},
   "outputs": [],
   "source": [
    "def lower_case(df):\n",
    "    \n",
    "    for i in range(len(df)):\n",
    "        words = df.loc[i, ('text')]\n",
    "        df.loc[i, ('text')] = words.lower()\n",
    "        \n",
    "    \n",
    "    return df"
   ]
  },
  {
   "cell_type": "code",
   "execution_count": 267,
   "metadata": {},
   "outputs": [],
   "source": [
    "tweets_df = lower_case(tweets_df)"
   ]
  },
  {
   "cell_type": "code",
   "execution_count": 268,
   "metadata": {},
   "outputs": [],
   "source": [
    "def remove_numbers(df):\n",
    "    \n",
    "    for i in range(len(df)):\n",
    "        words = df.loc[i, ('text')]\n",
    "        words = re.sub(r'\\d+', '', words)\n",
    "        words = re.sub(' +', ' ', words)\n",
    "        df.loc[i, ('text')] = words\n",
    "\n",
    "    return df"
   ]
  },
  {
   "cell_type": "code",
   "execution_count": 269,
   "metadata": {},
   "outputs": [],
   "source": [
    "tweets_df = remove_numbers(tweets_df)"
   ]
  },
  {
   "cell_type": "code",
   "execution_count": 270,
   "metadata": {},
   "outputs": [
    {
     "name": "stdout",
     "output_type": "stream",
     "text": [
      "covid numbers in new cases in new cases in blore positivity discharges blore deaths active cases in active cases in blore tests \n",
      "<class 'str'>\n",
      "128\n"
     ]
    }
   ],
   "source": [
    "for i in range(len(tweets_df)):\n",
    "    print(tweets_df.loc[i, ('text')])\n",
    "    print(type(tweets_df.loc[i, ('text')]))\n",
    "    print(len(tweets_df.loc[i, 'text']))\n",
    "    break"
   ]
  },
  {
   "cell_type": "code",
   "execution_count": null,
   "metadata": {},
   "outputs": [],
   "source": []
  }
 ],
 "metadata": {
  "kernelspec": {
   "display_name": "Python 3.10.4 64-bit",
   "language": "python",
   "name": "python3"
  },
  "language_info": {
   "codemirror_mode": {
    "name": "ipython",
    "version": 3
   },
   "file_extension": ".py",
   "mimetype": "text/x-python",
   "name": "python",
   "nbconvert_exporter": "python",
   "pygments_lexer": "ipython3",
   "version": "3.10.4"
  },
  "orig_nbformat": 4,
  "vscode": {
   "interpreter": {
    "hash": "aee8b7b246df8f9039afb4144a1f6fd8d2ca17a180786b69acc140d282b71a49"
   }
  }
 },
 "nbformat": 4,
 "nbformat_minor": 2
}
