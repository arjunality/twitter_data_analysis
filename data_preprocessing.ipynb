{
 "cells": [
  {
   "cell_type": "markdown",
   "metadata": {},
   "source": [
    "Issues to solve\n",
    "* Far too many duplicates being collected in the dataset\n",
    "* Handle mispelled and redundant words\n",
    "* ~~removing mentions and hashtag~~\n",
    "* ~~removing links, special characters, punctuation marks~~\n",
    "* ~~stopwords removal~~\n",
    "* contractions handling\n",
    "* ~~stemming and lemmatization~~ did only lemmatization"
   ]
  },
  {
   "cell_type": "code",
   "execution_count": 467,
   "metadata": {},
   "outputs": [
    {
     "name": "stderr",
     "output_type": "stream",
     "text": [
      "[nltk_data] Downloading package wordnet to\n",
      "[nltk_data]     /Users/nitanshjain/nltk_data...\n",
      "[nltk_data]   Package wordnet is already up-to-date!\n",
      "[nltk_data] Downloading package omw-1.4 to\n",
      "[nltk_data]     /Users/nitanshjain/nltk_data...\n",
      "[nltk_data]   Package omw-1.4 is already up-to-date!\n",
      "[nltk_data] Downloading package words to\n",
      "[nltk_data]     /Users/nitanshjain/nltk_data...\n",
      "[nltk_data]   Package words is already up-to-date!\n"
     ]
    }
   ],
   "source": [
    "import pandas as pd\n",
    "import numpy as np\n",
    "import matplotlib.pyplot as plt\n",
    "import seaborn as sns\n",
    "\n",
    "import re\n",
    "import fnmatch\n",
    "import string\n",
    "from urllib.parse import urlparse\n",
    "import contractions\n",
    "\n",
    "import nltk\n",
    "nltk.download('wordnet')\n",
    "nltk.download('omw-1.4')\n",
    "nltk.download('words')\n",
    "from nltk.tokenize import sent_tokenize, word_tokenize, TweetTokenizer\n",
    "from nltk.corpus import words\n",
    "from nltk.metrics.distance import jaccard_distance\n",
    "from nltk.util import ngrams\n",
    "from nltk.stem import WordNetLemmatizer\n"
   ]
  },
  {
   "cell_type": "code",
   "execution_count": 468,
   "metadata": {},
   "outputs": [
    {
     "data": {
      "text/html": [
       "<div>\n",
       "<style scoped>\n",
       "    .dataframe tbody tr th:only-of-type {\n",
       "        vertical-align: middle;\n",
       "    }\n",
       "\n",
       "    .dataframe tbody tr th {\n",
       "        vertical-align: top;\n",
       "    }\n",
       "\n",
       "    .dataframe thead th {\n",
       "        text-align: right;\n",
       "    }\n",
       "</style>\n",
       "<table border=\"1\" class=\"dataframe\">\n",
       "  <thead>\n",
       "    <tr style=\"text-align: right;\">\n",
       "      <th></th>\n",
       "      <th>user_id</th>\n",
       "      <th>tweet_id</th>\n",
       "      <th>username</th>\n",
       "      <th>location</th>\n",
       "      <th>following</th>\n",
       "      <th>followers</th>\n",
       "      <th>twt_created_at</th>\n",
       "      <th>total_tweets</th>\n",
       "      <th>retweet_count</th>\n",
       "      <th>text</th>\n",
       "      <th>hashtags</th>\n",
       "      <th>mentions</th>\n",
       "    </tr>\n",
       "  </thead>\n",
       "  <tbody>\n",
       "    <tr>\n",
       "      <th>0</th>\n",
       "      <td>100673521</td>\n",
       "      <td>1585301310026711041</td>\n",
       "      <td>sai1951</td>\n",
       "      <td>NaN</td>\n",
       "      <td>396</td>\n",
       "      <td>81</td>\n",
       "      <td>2022-10-26 16:04:20+00:00</td>\n",
       "      <td>8226</td>\n",
       "      <td>0</td>\n",
       "      <td>@DHFWKA @PMOIndia @MoHFW_INDIA @CMofKarnataka ...</td>\n",
       "      <td>[{'text': 'Covid_19', 'indices': [392, 401]}, ...</td>\n",
       "      <td>[{'screen_name': 'DHFWKA', 'name': \"K'taka Hea...</td>\n",
       "    </tr>\n",
       "    <tr>\n",
       "      <th>1</th>\n",
       "      <td>101430927</td>\n",
       "      <td>1585255112788017153</td>\n",
       "      <td>shivaramsingh</td>\n",
       "      <td>Cuttack</td>\n",
       "      <td>777</td>\n",
       "      <td>1242</td>\n",
       "      <td>2022-10-26 13:00:46+00:00</td>\n",
       "      <td>5578</td>\n",
       "      <td>0</td>\n",
       "      <td>@nipun29j @drsuniltaneja @doc_arka @docMPK @sa...</td>\n",
       "      <td>[]</td>\n",
       "      <td>[{'screen_name': 'nipun29j', 'name': 'nipun ve...</td>\n",
       "    </tr>\n",
       "    <tr>\n",
       "      <th>2</th>\n",
       "      <td>1550427109</td>\n",
       "      <td>1585252333013061634</td>\n",
       "      <td>rhltiwari711</td>\n",
       "      <td>Lucknow, India</td>\n",
       "      <td>2573</td>\n",
       "      <td>520</td>\n",
       "      <td>2022-10-26 12:49:43+00:00</td>\n",
       "      <td>4641</td>\n",
       "      <td>0</td>\n",
       "      <td>Dear @TwitterIndia, kindly provide @verified t...</td>\n",
       "      <td>[{'text': 'VC', 'indices': [74, 77]}, {'text':...</td>\n",
       "      <td>[{'screen_name': 'TwitterIndia', 'name': 'Twit...</td>\n",
       "    </tr>\n",
       "    <tr>\n",
       "      <th>3</th>\n",
       "      <td>190904456</td>\n",
       "      <td>1585231415532490753</td>\n",
       "      <td>amishradp</td>\n",
       "      <td>दिल्ली, भारत</td>\n",
       "      <td>51</td>\n",
       "      <td>9</td>\n",
       "      <td>2022-10-26 11:26:36+00:00</td>\n",
       "      <td>243</td>\n",
       "      <td>0</td>\n",
       "      <td>@care_mediassist @royalsundaram @naveen_shahi1...</td>\n",
       "      <td>[]</td>\n",
       "      <td>[{'screen_name': 'care_mediassist', 'name': 'S...</td>\n",
       "    </tr>\n",
       "    <tr>\n",
       "      <th>4</th>\n",
       "      <td>350945055</td>\n",
       "      <td>1585230709547237379</td>\n",
       "      <td>chouhanneeraj07</td>\n",
       "      <td>Mumbai, India</td>\n",
       "      <td>879</td>\n",
       "      <td>488</td>\n",
       "      <td>2022-10-26 11:23:47+00:00</td>\n",
       "      <td>3450</td>\n",
       "      <td>0</td>\n",
       "      <td>@drchetandeshmu1 @aparanjape @JM_Scindia @mans...</td>\n",
       "      <td>[]</td>\n",
       "      <td>[{'screen_name': 'drchetandeshmu1', 'name': 'd...</td>\n",
       "    </tr>\n",
       "  </tbody>\n",
       "</table>\n",
       "</div>"
      ],
      "text/plain": [
       "      user_id             tweet_id         username        location  \\\n",
       "0   100673521  1585301310026711041          sai1951             NaN   \n",
       "1   101430927  1585255112788017153    shivaramsingh         Cuttack   \n",
       "2  1550427109  1585252333013061634     rhltiwari711  Lucknow, India   \n",
       "3   190904456  1585231415532490753        amishradp    दिल्ली, भारत   \n",
       "4   350945055  1585230709547237379  chouhanneeraj07   Mumbai, India   \n",
       "\n",
       "   following  followers             twt_created_at  total_tweets  \\\n",
       "0        396         81  2022-10-26 16:04:20+00:00          8226   \n",
       "1        777       1242  2022-10-26 13:00:46+00:00          5578   \n",
       "2       2573        520  2022-10-26 12:49:43+00:00          4641   \n",
       "3         51          9  2022-10-26 11:26:36+00:00           243   \n",
       "4        879        488  2022-10-26 11:23:47+00:00          3450   \n",
       "\n",
       "   retweet_count                                               text  \\\n",
       "0              0  @DHFWKA @PMOIndia @MoHFW_INDIA @CMofKarnataka ...   \n",
       "1              0  @nipun29j @drsuniltaneja @doc_arka @docMPK @sa...   \n",
       "2              0  Dear @TwitterIndia, kindly provide @verified t...   \n",
       "3              0  @care_mediassist @royalsundaram @naveen_shahi1...   \n",
       "4              0  @drchetandeshmu1 @aparanjape @JM_Scindia @mans...   \n",
       "\n",
       "                                            hashtags  \\\n",
       "0  [{'text': 'Covid_19', 'indices': [392, 401]}, ...   \n",
       "1                                                 []   \n",
       "2  [{'text': 'VC', 'indices': [74, 77]}, {'text':...   \n",
       "3                                                 []   \n",
       "4                                                 []   \n",
       "\n",
       "                                            mentions  \n",
       "0  [{'screen_name': 'DHFWKA', 'name': \"K'taka Hea...  \n",
       "1  [{'screen_name': 'nipun29j', 'name': 'nipun ve...  \n",
       "2  [{'screen_name': 'TwitterIndia', 'name': 'Twit...  \n",
       "3  [{'screen_name': 'care_mediassist', 'name': 'S...  \n",
       "4  [{'screen_name': 'drchetandeshmu1', 'name': 'd...  "
      ]
     },
     "execution_count": 468,
     "metadata": {},
     "output_type": "execute_result"
    }
   ],
   "source": [
    "tweets_df = pd.read_csv('/Users/nitanshjain/Documents/Thapar 4th Sem/Machine Learing/Machine_Learning_Project/data/20221026_235416_tweets.csv')\n",
    "tweets_df.head()"
   ]
  },
  {
   "cell_type": "code",
   "execution_count": 469,
   "metadata": {},
   "outputs": [],
   "source": [
    "# tweets_df.isna().sum()"
   ]
  },
  {
   "cell_type": "code",
   "execution_count": 470,
   "metadata": {},
   "outputs": [
    {
     "name": "stdout",
     "output_type": "stream",
     "text": [
      "Shape of dataset before removal of duplicates is (1293, 12)\n",
      "Shape of dataset after removal of duplicates is (218, 12)\n"
     ]
    }
   ],
   "source": [
    "print('Shape of dataset before removal of duplicates is {}'.format(tweets_df.shape))\n",
    "tweets_df.drop_duplicates(subset=['tweet_id'], inplace=True)\n",
    "print('Shape of dataset after removal of duplicates is {}'.format(tweets_df.shape))"
   ]
  },
  {
   "cell_type": "code",
   "execution_count": 471,
   "metadata": {},
   "outputs": [
    {
     "data": {
      "text/plain": [
       "user_id            int64\n",
       "tweet_id           int64\n",
       "username          object\n",
       "location          object\n",
       "following          int64\n",
       "followers          int64\n",
       "twt_created_at    object\n",
       "total_tweets       int64\n",
       "retweet_count      int64\n",
       "text              object\n",
       "hashtags          object\n",
       "mentions          object\n",
       "dtype: object"
      ]
     },
     "execution_count": 471,
     "metadata": {},
     "output_type": "execute_result"
    }
   ],
   "source": [
    "tweets_df.dtypes"
   ]
  },
  {
   "cell_type": "code",
   "execution_count": 472,
   "metadata": {},
   "outputs": [],
   "source": [
    "# def data_preprocessing(df):\n",
    "#     \"\"\"\n",
    "#     One function to handle all the preprocessing\n",
    "#     \"\"\"\n",
    "    \n",
    "#     for tweets in df.loc[:,'text']:\n",
    "#         # print(tweets)\n",
    "#         list_words = word_tokenize(tweets)\n",
    "        \n",
    "#         # removing links\n",
    "#         x = [word for word in list_words.split() if not urlparse(word).scheme]\n",
    "#         list_words = ' '.join(x)\n",
    "        \n",
    "#         # contractions handling\n",
    "        \n",
    "        "
   ]
  },
  {
   "cell_type": "code",
   "execution_count": 473,
   "metadata": {},
   "outputs": [],
   "source": [
    "\n",
    "def removing_links(df):\n",
    "    \n",
    "    for i in range(len(df)):\n",
    "        words = df.loc[i, ('text')]\n",
    "        x = [word for word in words.split() if not urlparse(word).scheme]\n",
    "        words = ' '.join(x)\n",
    "        df.loc[i, ('text')] = words\n",
    "        print(df.loc[i, ('text')])\n",
    "        break\n",
    "        \n",
    "    return df"
   ]
  },
  {
   "cell_type": "code",
   "execution_count": 474,
   "metadata": {},
   "outputs": [
    {
     "name": "stdout",
     "output_type": "stream",
     "text": [
      "@DHFWKA @PMOIndia @MoHFW_INDIA @CMofKarnataka @BSBommai @mla_sudhakar @Comm_dhfwka @MDNHM_Kar @BBMPCOMM @mangalurucorp @DDChandanaNews @PIBBengaluru @KarnatakaVarthe Covid numbers in ▪️New cases in 96 ▪️New cases in B'lore: 57 ▪️Positivity 2.19% ▪️Discharges: 271 (B'lore-209) ▪️Deaths: 0 ▪️Active cases in 1,953 ▪️Active cases in B'lore: 1,687 ▪️Tests: 4,367 #Covid_19 #COVID19\n"
     ]
    }
   ],
   "source": [
    "tweets_df = removing_links(tweets_df)"
   ]
  },
  {
   "cell_type": "code",
   "execution_count": 475,
   "metadata": {},
   "outputs": [],
   "source": [
    "def contraction_handling(df):\n",
    "    for tweets in df.loc[:, 'text']:\n",
    "        \n",
    "        list_words = word_tokenize(tweets)\n",
    "        new_list_words = []\n",
    "        \n",
    "        for word in list_words:\n",
    "            new_list_words.append(contractions.fix(word))\n",
    "        \n",
    "        tweets = ' '.join(new_list_words)\n",
    "        print(tweets)\n",
    "        break\n",
    "    \n",
    "    return df"
   ]
  },
  {
   "cell_type": "code",
   "execution_count": 476,
   "metadata": {},
   "outputs": [
    {
     "name": "stdout",
     "output_type": "stream",
     "text": [
      "@ DHFWKA @ PMOIndia @ MoHFW_INDIA @ CMofKarnataka @ BSBommai @ mla_sudhakar @ Comm_dhfwka @ MDNHM_Kar @ BBMPCOMM @ mangalurucorp @ DDChandanaNews @ PIBBengaluru @ KarnatakaVarthe Covid numbers in ▪️New cases in 96 ▪️New cases in B'lore : 57 ▪️Positivity 2.19 % ▪️Discharges : 271 ( B'lore-209 ) ▪️Deaths : 0 ▪️Active cases in 1,953 ▪️Active cases in B'lore : 1,687 ▪️Tests : 4,367 # Covid_19 # COVID19\n"
     ]
    }
   ],
   "source": [
    "tweets_df = contraction_handling(tweets_df)"
   ]
  },
  {
   "cell_type": "code",
   "execution_count": 477,
   "metadata": {},
   "outputs": [
    {
     "name": "stdout",
     "output_type": "stream",
     "text": [
      "@DHFWKA @PMOIndia @MoHFW_INDIA @CMofKarnataka @BSBommai @mla_sudhakar @Comm_dhfwka @MDNHM_Kar @BBMPCOMM @mangalurucorp @DDChandanaNews @PIBBengaluru @KarnatakaVarthe Covid numbers in ▪️New cases in 96 ▪️New cases in B'lore: 57 ▪️Positivity 2.19% ▪️Discharges: 271 (B'lore-209) ▪️Deaths: 0 ▪️Active cases in 1,953 ▪️Active cases in B'lore: 1,687 ▪️Tests: 4,367 #Covid_19 #COVID19\n"
     ]
    }
   ],
   "source": [
    "print(tweets_df.loc[0, ('text')])"
   ]
  },
  {
   "cell_type": "code",
   "execution_count": 478,
   "metadata": {},
   "outputs": [],
   "source": [
    "def adding_space(df):\n",
    "    \n",
    "    for i in range(len(df)):\n",
    "        \n",
    "        words = df.loc[i, ('text')]\n",
    "        words = words.replace(',', ', ').replace('.', '. ').replace('!', '! ').replace('?', '? ')\n",
    "        # print(words)\n",
    "        df.loc[i, ('text')] = words\n",
    "        print(df.loc[i, ('text')])\n",
    "        break\n",
    "        \n",
    "    return df\n",
    "        "
   ]
  },
  {
   "cell_type": "code",
   "execution_count": 479,
   "metadata": {},
   "outputs": [],
   "source": [
    "# tweets_df = adding_space(tweets_df)"
   ]
  },
  {
   "cell_type": "code",
   "execution_count": 503,
   "metadata": {},
   "outputs": [],
   "source": [
    "def  removing_hashtags_mentions(df):\n",
    "    tokenizer=TweetTokenizer()\n",
    "    \n",
    "    for tweets in df.loc[:, 'text']:\n",
    "        \n",
    "        list_words = tokenizer.tokenize(tweets)\n",
    "        print(list_words)\n",
    "        list_words = [word for word in list_words if word[0] not in ('#', '@')]\n",
    "        list_words = [word.replace('▪️', '') for word in list_words]\n",
    "        \n",
    "        tweets = ' '.join(list_words)\n",
    "        print(tweets)\n",
    "        break\n",
    "    return df\n",
    "    "
   ]
  },
  {
   "cell_type": "code",
   "execution_count": 504,
   "metadata": {},
   "outputs": [
    {
     "name": "stdout",
     "output_type": "stream",
     "text": [
      "['@DHFWKA', '@PMOIndia', '@MoHFW_INDIA', '@CMofKarnataka', '@BSBommai', '@mla_sudhakar', '@Comm_dhfwka', '@MDNHM_Kar', '@BBMPCOMM', '@mangalurucorp', '@DDChandanaNews', '@PIBBengaluru', '@KarnatakaVarthe', 'Covid', 'numbers', 'in', '▪', '️New', 'cases', 'in', '96', '▪', '️New', 'cases', 'in', \"B'lore\", ':', '57', '▪', '️Positivity', '2.19', '%', '▪', '️Discharges', ':', '271', '(', \"B'lore\", '-', '209', ')', '▪', '️Deaths', ':', '0', '▪', '️Active', 'cases', 'in', '1,953', '▪', '️Active', 'cases', 'in', \"B'lore\", ':', '1,687', '▪', '️Tests', ':', '4,367', '#Covid_19', '#COVID19']\n",
      "Covid numbers in ▪ ️New cases in 96 ▪ ️New cases in B'lore : 57 ▪ ️Positivity 2.19 % ▪ ️Discharges : 271 ( B'lore - 209 ) ▪ ️Deaths : 0 ▪ ️Active cases in 1,953 ▪ ️Active cases in B'lore : 1,687 ▪ ️Tests : 4,367\n"
     ]
    }
   ],
   "source": [
    "tweets_df = removing_hashtags_mentions(tweets_df)"
   ]
  },
  {
   "cell_type": "code",
   "execution_count": null,
   "metadata": {},
   "outputs": [],
   "source": [
    "def removing_punctuations_special_char(df):\n",
    "    \n",
    "    for i in range(len(df)):\n",
    "            \n",
    "        words = df.loc[i, ('text')]\n",
    "        words =  words.translate(str.maketrans('', '', string.punctuation))\n",
    "        df.loc[i, ('text')] = words\n",
    "    \n",
    "    return df\n"
   ]
  },
  {
   "cell_type": "code",
   "execution_count": null,
   "metadata": {},
   "outputs": [],
   "source": [
    "tweets_df = removing_punctuations_special_char(tweets_df)"
   ]
  },
  {
   "cell_type": "code",
   "execution_count": null,
   "metadata": {},
   "outputs": [],
   "source": [
    "def removing_emojis(df):\n",
    "    \n",
    "    for i in range(len(df)):\n",
    "            \n",
    "        words = df.loc[i, ('text')]\n",
    "        words = re.sub(r'[^\\x00-\\x7F]+', ' ', words)\n",
    "        df.loc[i, ('text')] = words\n",
    "    \n",
    "    return df"
   ]
  },
  {
   "cell_type": "code",
   "execution_count": null,
   "metadata": {},
   "outputs": [],
   "source": [
    "tweets_df = removing_emojis(tweets_df)"
   ]
  },
  {
   "cell_type": "code",
   "execution_count": null,
   "metadata": {},
   "outputs": [],
   "source": [
    "def lower_case(df):\n",
    "    \n",
    "    for i in range(len(df)):\n",
    "        words = df.loc[i, ('text')]\n",
    "        df.loc[i, ('text')] = words.lower()\n",
    "        \n",
    "    \n",
    "    return df"
   ]
  },
  {
   "cell_type": "code",
   "execution_count": null,
   "metadata": {},
   "outputs": [],
   "source": [
    "tweets_df = lower_case(tweets_df)"
   ]
  },
  {
   "cell_type": "code",
   "execution_count": null,
   "metadata": {},
   "outputs": [],
   "source": [
    "def remove_numbers(df):\n",
    "    \n",
    "    for i in range(len(df)):\n",
    "        words = df.loc[i, ('text')]\n",
    "        words = re.sub(r'\\d+', '', words)\n",
    "        words = re.sub(' +', ' ', words)\n",
    "        df.loc[i, ('text')] = words\n",
    "\n",
    "    return df"
   ]
  },
  {
   "cell_type": "code",
   "execution_count": null,
   "metadata": {},
   "outputs": [],
   "source": [
    "tweets_df = remove_numbers(tweets_df)"
   ]
  },
  {
   "cell_type": "code",
   "execution_count": null,
   "metadata": {},
   "outputs": [],
   "source": [
    "from nltk.stem import WordNetLemmatizer\n",
    "def lemmatization(df):\n",
    "    \n",
    "    lem = WordNetLemmatizer()\n",
    "    \n",
    "    for i in range(len(df)):\n",
    "        \n",
    "        words = df.loc[i, ('text')].split()\n",
    "        # print(words)\n",
    "        for word in words:\n",
    "            words = list(map(lambda x: x.replace(word, lem.lemmatize(word)), words))\n",
    "        df.loc[i, ('text')] = ' '.join(words)\n",
    "        # print(words)\n",
    "        # break\n",
    "    return df"
   ]
  },
  {
   "cell_type": "code",
   "execution_count": null,
   "metadata": {},
   "outputs": [],
   "source": [
    "tweets_df = lemmatization(tweets_df)"
   ]
  },
  {
   "cell_type": "code",
   "execution_count": null,
   "metadata": {},
   "outputs": [],
   "source": [
    "from nltk.corpus import stopwords\n",
    "def removing_stopwords(df):\n",
    "    \n",
    "    for i in range(len(df)):\n",
    "        \n",
    "        words = df.loc[i, ('text')].split()\n",
    "        filtered_words = [word for word in words if word not in stopwords.words('english')]\n",
    "        df.loc[i, ('text')] = ' '.join(filtered_words)\n",
    "        \n",
    "    return df"
   ]
  },
  {
   "cell_type": "code",
   "execution_count": null,
   "metadata": {},
   "outputs": [],
   "source": [
    "tweets_df = removing_stopwords(tweets_df)"
   ]
  },
  {
   "cell_type": "code",
   "execution_count": null,
   "metadata": {},
   "outputs": [],
   "source": [
    "from nltk.corpus import words\n",
    "from nltk.metrics.distance import jaccard_distance\n",
    "from nltk.util import ngrams\n",
    "\n",
    "def correcting_words(df):\n",
    "    \n",
    "    for i in range(len(df)):\n",
    "        words_list = df.loc[i, ('text')].split()\n",
    "        for word in words_list:\n",
    "            if word not in words.words():\n",
    "                # print(word)\n",
    "                for w in words.words():\n",
    "                    if jaccard_distance(set(ngrams(word, n=2)), set(ngrams(w, n=2))) < 0.5:\n",
    "                        # print(w)\n",
    "                        ind = words_list.index(word)\n",
    "                        words_list[ind] = w\n",
    "                        break\n",
    "        df.loc[i, ('text')] = ' '.join(words_list)\n",
    "        \n",
    "        return df\n",
    "    "
   ]
  },
  {
   "cell_type": "code",
   "execution_count": null,
   "metadata": {},
   "outputs": [
    {
     "ename": "KeyboardInterrupt",
     "evalue": "",
     "output_type": "error",
     "traceback": [
      "\u001b[0;31m---------------------------------------------------------------------------\u001b[0m",
      "\u001b[0;31mKeyboardInterrupt\u001b[0m                         Traceback (most recent call last)",
      "\u001b[1;32m/Users/nitanshjain/Documents/Thapar 4th Sem/Machine Learing/Machine_Learning_Project/data_preprocessing.ipynb Cell 30\u001b[0m in \u001b[0;36m<cell line: 1>\u001b[0;34m()\u001b[0m\n\u001b[0;32m----> <a href='vscode-notebook-cell:/Users/nitanshjain/Documents/Thapar%204th%20Sem/Machine%20Learing/Machine_Learning_Project/data_preprocessing.ipynb#X40sZmlsZQ%3D%3D?line=0'>1</a>\u001b[0m tweets_df \u001b[39m=\u001b[39m correcting_words(tweets_df)\n",
      "\u001b[1;32m/Users/nitanshjain/Documents/Thapar 4th Sem/Machine Learing/Machine_Learning_Project/data_preprocessing.ipynb Cell 30\u001b[0m in \u001b[0;36mcorrecting_words\u001b[0;34m(df)\u001b[0m\n\u001b[1;32m      <a href='vscode-notebook-cell:/Users/nitanshjain/Documents/Thapar%204th%20Sem/Machine%20Learing/Machine_Learning_Project/data_preprocessing.ipynb#X40sZmlsZQ%3D%3D?line=8'>9</a>\u001b[0m \u001b[39mfor\u001b[39;00m word \u001b[39min\u001b[39;00m words_list:\n\u001b[1;32m     <a href='vscode-notebook-cell:/Users/nitanshjain/Documents/Thapar%204th%20Sem/Machine%20Learing/Machine_Learning_Project/data_preprocessing.ipynb#X40sZmlsZQ%3D%3D?line=9'>10</a>\u001b[0m     \u001b[39mif\u001b[39;00m word \u001b[39mnot\u001b[39;00m \u001b[39min\u001b[39;00m words\u001b[39m.\u001b[39mwords():\n\u001b[1;32m     <a href='vscode-notebook-cell:/Users/nitanshjain/Documents/Thapar%204th%20Sem/Machine%20Learing/Machine_Learning_Project/data_preprocessing.ipynb#X40sZmlsZQ%3D%3D?line=10'>11</a>\u001b[0m         \u001b[39m# print(word)\u001b[39;00m\n\u001b[0;32m---> <a href='vscode-notebook-cell:/Users/nitanshjain/Documents/Thapar%204th%20Sem/Machine%20Learing/Machine_Learning_Project/data_preprocessing.ipynb#X40sZmlsZQ%3D%3D?line=11'>12</a>\u001b[0m         \u001b[39mfor\u001b[39;00m w \u001b[39min\u001b[39;00m words\u001b[39m.\u001b[39;49mwords():\n\u001b[1;32m     <a href='vscode-notebook-cell:/Users/nitanshjain/Documents/Thapar%204th%20Sem/Machine%20Learing/Machine_Learning_Project/data_preprocessing.ipynb#X40sZmlsZQ%3D%3D?line=12'>13</a>\u001b[0m             \u001b[39mif\u001b[39;00m jaccard_distance(\u001b[39mset\u001b[39m(ngrams(word, n\u001b[39m=\u001b[39m\u001b[39m2\u001b[39m)), \u001b[39mset\u001b[39m(ngrams(w, n\u001b[39m=\u001b[39m\u001b[39m2\u001b[39m))) \u001b[39m<\u001b[39m \u001b[39m0.5\u001b[39m:\n\u001b[1;32m     <a href='vscode-notebook-cell:/Users/nitanshjain/Documents/Thapar%204th%20Sem/Machine%20Learing/Machine_Learning_Project/data_preprocessing.ipynb#X40sZmlsZQ%3D%3D?line=13'>14</a>\u001b[0m                 \u001b[39m# print(w)\u001b[39;00m\n\u001b[1;32m     <a href='vscode-notebook-cell:/Users/nitanshjain/Documents/Thapar%204th%20Sem/Machine%20Learing/Machine_Learning_Project/data_preprocessing.ipynb#X40sZmlsZQ%3D%3D?line=14'>15</a>\u001b[0m                 ind \u001b[39m=\u001b[39m words_list\u001b[39m.\u001b[39mindex(word)\n",
      "File \u001b[0;32m/Library/Frameworks/Python.framework/Versions/3.10/lib/python3.10/site-packages/nltk/corpus/reader/wordlist.py:19\u001b[0m, in \u001b[0;36mWordListCorpusReader.words\u001b[0;34m(self, fileids, ignore_lines_startswith)\u001b[0m\n\u001b[1;32m     18\u001b[0m \u001b[39mdef\u001b[39;00m \u001b[39mwords\u001b[39m(\u001b[39mself\u001b[39m, fileids\u001b[39m=\u001b[39m\u001b[39mNone\u001b[39;00m, ignore_lines_startswith\u001b[39m=\u001b[39m\u001b[39m\"\u001b[39m\u001b[39m\\n\u001b[39;00m\u001b[39m\"\u001b[39m):\n\u001b[0;32m---> 19\u001b[0m     \u001b[39mreturn\u001b[39;00m [\n\u001b[1;32m     20\u001b[0m         line\n\u001b[1;32m     21\u001b[0m         \u001b[39mfor\u001b[39;00m line \u001b[39min\u001b[39;00m line_tokenize(\u001b[39mself\u001b[39m\u001b[39m.\u001b[39mraw(fileids))\n\u001b[1;32m     22\u001b[0m         \u001b[39mif\u001b[39;00m \u001b[39mnot\u001b[39;00m line\u001b[39m.\u001b[39mstartswith(ignore_lines_startswith)\n\u001b[1;32m     23\u001b[0m     ]\n",
      "File \u001b[0;32m/Library/Frameworks/Python.framework/Versions/3.10/lib/python3.10/site-packages/nltk/corpus/reader/wordlist.py:22\u001b[0m, in \u001b[0;36m<listcomp>\u001b[0;34m(.0)\u001b[0m\n\u001b[1;32m     18\u001b[0m \u001b[39mdef\u001b[39;00m \u001b[39mwords\u001b[39m(\u001b[39mself\u001b[39m, fileids\u001b[39m=\u001b[39m\u001b[39mNone\u001b[39;00m, ignore_lines_startswith\u001b[39m=\u001b[39m\u001b[39m\"\u001b[39m\u001b[39m\\n\u001b[39;00m\u001b[39m\"\u001b[39m):\n\u001b[1;32m     19\u001b[0m     \u001b[39mreturn\u001b[39;00m [\n\u001b[1;32m     20\u001b[0m         line\n\u001b[1;32m     21\u001b[0m         \u001b[39mfor\u001b[39;00m line \u001b[39min\u001b[39;00m line_tokenize(\u001b[39mself\u001b[39m\u001b[39m.\u001b[39mraw(fileids))\n\u001b[0;32m---> 22\u001b[0m         \u001b[39mif\u001b[39;00m \u001b[39mnot\u001b[39;00m line\u001b[39m.\u001b[39;49mstartswith(ignore_lines_startswith)\n\u001b[1;32m     23\u001b[0m     ]\n",
      "\u001b[0;31mKeyboardInterrupt\u001b[0m: "
     ]
    }
   ],
   "source": [
    "tweets_df = correcting_words(tweets_df)"
   ]
  },
  {
   "cell_type": "code",
   "execution_count": null,
   "metadata": {},
   "outputs": [],
   "source": [
    "def remove_tweets_less_5_words(df):\n",
    "    \n",
    "    for i in range(len(df)):\n",
    "        words = df.loc[i, ('text')].split()\n",
    "        id = df.loc[i, ('tweet_id')] \n",
    "        if len(words)<5:\n",
    "        \n",
    "            ind_name = df[df['tweet_id']==id].index\n",
    "            df.drop(ind_name, inplace=True)\n",
    "            \n",
    "    return df"
   ]
  },
  {
   "cell_type": "code",
   "execution_count": null,
   "metadata": {},
   "outputs": [
    {
     "name": "stdout",
     "output_type": "stream",
     "text": [
      "Shape of dataset before removal of tweets with less than 5 words is (218, 12)\n",
      "Shape of dataset after removal of tweets with less than 5 words is (216, 12)\n"
     ]
    }
   ],
   "source": [
    "print('Shape of dataset before removal of tweets with less than 5 words is {}'.format(tweets_df.shape))\n",
    "tweets_df = remove_tweets_less_5_words(tweets_df)\n",
    "print('Shape of dataset after removal of tweets with less than 5 words is {}'.format(tweets_df.shape))"
   ]
  },
  {
   "cell_type": "code",
   "execution_count": null,
   "metadata": {},
   "outputs": [
    {
     "name": "stdout",
     "output_type": "stream",
     "text": [
      "dhfwka pmoindia mohfwindia cmofkarnataka bsbommai mlasudhakar commdhfwka mdnhmkar bbmpcomm mangalurucorp ddchandananews pibbengaluru karnatakavarthe covid number new case new case blore positivity discharge blore death active case active case blore test covid covid\n",
      "nipunj drsuniltaneja docarka docmpk sahajrathi rohitmehtanidm drarunkvalsan anandvkulkarni drmithunsharma mohfwindia icmrdelhi easlnews royahep asranisumeet ashokdoctor apaslaarc acanand jcehhepatology hepjournal great well done team pgi\n",
      "dear twitterindia kindly provide verified prof drvnmishraa founder vc ghatwalk amp head neurology directorimsbhu deeply involved welfare poor needy people rural area twitter bhupro vcofficebhu mohfwindia registrarbhu httpstcotmvpkcga\n",
      "caremediassist royalsundaram naveenshahi pmoindia rubikaliyaquat zeenews indiatvnews arvindkejriwal bjpindia incindia mediassistindia policybazaar mohfwindia listening word th october one willing revert\n",
      "drchetandeshmu aparanjape jmscindia mansukhmandviya totally wastage time effort air suvidha counter arrival empty mohfwindia mohfwgujarat\n",
      "aiimsbibinagar mohfwindia mansukhmandviya great job sir\n",
      "vasuragh anandhurmila womennephindia sandyrvsdav divyaa krithicism sunilmed silvishah myadla drmanishasahay priti gagaggarwal isnkidneycare kidneywarriors thekidneywarri nacoindia gnpplus ncpiplus mansukhmandviya hepcactiona jjhospital kemhospital vvvdosti sayalibthakare srbachchan rtiindia thertiactivist pmoindia mohfwindia moayush ccdtrust snehamumbai cmumbaicity mumbaiaids msacs patient ckd amp retroviraldieases rvd facing shortage antiretroviral medicine stockout lamivudine india hiv patient say shortage leaving hundred thousand without drug httpstcoxzfkpxekk courtesy dnpplus jsaindia kidneywarriors thekidneywarri\n",
      "caredomino domino dominoindia mohfwindia thanks prompt response filled feedback form looking better environment next time ill\n",
      "implementation research people multiple long term disease need capacity building among younger healthcare professional aiimsjodhpur set major site grant nihrglobal along uniofleicester narendramodi mansukhmandviya mohfwindia httpstcokpduuupoo\n",
      "policybazaar mohfwindia royalsundaram mediassistindia time take waiting hospital since th october feel mother get admit get back home\n",
      "govt seat mang seat deemed taken student kea neetpgcounselling seatblocking dghsindia favor amp sci guideline thrown dustbin nmcind mohfwindia mansukhmandviya must conduct enquire corruption pmoindia\n",
      "pleae ban chawla clinic vaant kunj new delhi support medically ill patient kind health service dr givesmohfwindia pmoindia ihsgov toiindianews httweets\n",
      "honorable supreme court india judge neetugcounselling must read article going misinterpretation created nmcind mohfwindia dghsindia lawyer amp cancel mcc nd round give justice doctor bihar karnataka jammuandkashmir uk piblaw httpstcozztnpprj\n",
      "share reach maximum number diabetes fighter wish share real story outcome program whitepaper submitted ministry mohfwindia pmoindia eduminofindia\n",
      "indian court scared giving judgement favor truth amp per law judiciary must nt give judgement false statement amp misinterpretation created dghsindia mohfwindia nmcind nbemsindia lawyer livelawindia indiankanoon kirenrijiju mljgoi pmoindia\n",
      "sumitta cmohry sudhirsinglabjp bjpgovt pmoindia caqmofficial cpcbofficial byadavbjp drgargava muncorpgurugram dcgurugram drmarianeira jksmith anumitaroychowd ipsitatoi abhishekbehl nbtakhil poonam wateburning rampantpracticemunicipalities typically focus landfill multiple spot wate fire time mohfwindia address endemic\n",
      "mohfwindia mansukhmandviya planning launch nation wide programme introducing non surgicalnon invasive obesity removal national programme using generic allurion like gastric swallowable baloon pill across india ncd narendramodi pmoindia finminindia ani\n",
      "drpratyush woncaworld ruralwonca worsacares wrhc rrhjournal mohfwindia astavdal lygidakis tsrmovement great job\n",
      "thrilled announce launching new website month hard work ready share new homepage world check httpstcosjeaodbs headandneckcancer headandcancersurgery northwestcancerhospital hospital nwch httpstcotkierzgzus\n",
      "vijaygopal mansukhmandviya mohfwindia nppa bad saw movie govt take action common man dont need telangana secretariat need good govt hospital\n",
      "gopalasinghmar anuragoffice nisithpramanik pankajsinghips yasministry nssindia mohfwindia askabir nssrdbhopal unicefindia manojsinha yupesh nice\n",
      "vijaygopal dsthakur mansukhmandviya mohfwindia nppa one belief center team case investigate find anything suspicious\n",
      "drvnmishraa mohfwindia great work sir ji\n",
      "cdcgov mohfwindia dramandeepkang leader public health humble request new boston corona virus developed thru gain functionthis horrific need immediate stoppage n banishment else world may see catatrophic situation httpstcodbecvvckk\n",
      "neeleshmisra gaonconnection gaonconnectione thank neeleshmisra sir working promoting mental health awareness among rural mass promote mohfwindia number webpagesmagazine httpstcoblylvpjp httpstcomeykwrde\n",
      "dial mohfwindia number want help person mental health need see video regarding awareness mental health issue apapsychiatric httpstcofhcucoei\n",
      "savesoil generational responsibility dont would seriously regret future prevention better cure cpsavesoil sadhgurujv fssaiindia mohfwindia agrigoi moefcc pmoindia httpstcomwdfe\n",
      "lack student de rhe neet k seat hai bolte ho kisse puchke gye govt se kyuki govt ki aukaat nai h itne baccho ko admission dene ki nmcind indiainukraine mohfwindia agent dallo ki baat sunke decision de rhi hai kuch kr nhi rahi httpstcoplufgaydog\n",
      "dhfwka pmoindia mohfwindia cmofkarnataka bsbommai mlasudhakar commdhfwka mdnhmkar bbmpcomm mangalurucorp ddchandananews pibbengaluru karnatakavarthe covid number karnataka new case state new case blore positivity rate discharge blore death active case state active case blore test covid covid\n",
      "maduraiaiims mansukhmandviya drbharatippawar hanuman mohfwindia nice\n",
      "drvnmishraa ashutoshalive mohfwindia proud bhaiya\n",
      "night sweeping started pm sez smc swachhbharatgov swachhbharat sbmugujarat swachsurvekshan sbmsurat mohfwindia mohuaindia mysuratmysmc oursmc httpstcoywdqhdoyl\n",
      "mohfwindia dearhealthminister mansukhmandviya please take little bit attention mental health many youth country facing mental health issue would say need aware hospital cure mental health country know abouthis\n",
      "ahish ranjan v union india common judgement decision indian court many know actual cae used instrument favoring corrupt mohfwindia dghsindia nmcind neetpgcounselling neetpgcounselling neetpg neetpgcounselling httpstcoachjsbq\n",
      "nazneenakhtar shreeashokoza mohfwindia cmomaharashtra mybmc saamanaonline glorification povertypoor homeless people always hv child n child source incomeold menwomenkids business tacticsthey emotionally blackmail sensitive localsset business n start landgrabbing\n",
      "good moove aiimdelhi work towards patient wellbeingit necessary make referral system govt hospitalaiimdirector called meeting government hospital delhi definitely save many life medtwitter ani httpstcoelimrkye\n",
      "puttavishnuvr telanganacmo ktrtrs mpsantoshtrs trsharish raokavitha konathamdileep btrktr drranjithreddy trspartyonline prakashraaj telanganacmo telanganacs telanganahealth could pls inquire amp take necessary action yashoda hospital looting public yashodahospital mansukhmandviya mohfwindia umasudhir oratorgreat thenaveena teenmarmallanna oratorgreat coreenasuares rspraveenswaero httpstcosywfkvh\n",
      "anilshet nageshadarsh karnatakakspcb bjpkarnataka tejavisurya bsbommai pmoindia mohfwindia stsomahekarmla tvmohandapai bjpindia bbmpcomm dkshivakumar stsomahekar stsomahekarmla stsomahekar sir superspeciality hospital smv layout garbage plant bsk shame sham bsk need multispeciality hospital people falling sick due garbage plant bsk older larger layout must get prominence httpstcorckmbmxu\n",
      "amulcares amulcoop fssaiindia mohfwindia timesofindia bought cheese spread stinking opening pack curd like formi compained shopkeeper told complain toll free tried reach mail httpstcovtiotsnfs\n",
      "mohfwindia pmoindia mansukhmandviya drbharatippawar mygovindia covidnewsbymib ddnewslive pibindia amritmahotsav airnewsalerts please consider giving vulnerable senior citizen nd precautionary httpstcosesxutsb th vaccine country given th vaccine given want take mandatory took st january\n",
      "karnataka bihar jammukahmir result nt amp nd round mcc option entry closed amp hurry decreaed percentile increae market rate indicate fishy behaviour corrupt intension mohfwindia mansukhmandviya bjpindia crore rupee involved adm\n",
      "nd round conducted mcc dghsindia mohfwindia keeping honorable supreme order garbage centralstatecentralstate mopup round money bjpindia election money merit nmcbill high fee structure approval court\n",
      "auspicious occasion diwalicorona virus tyohaarmevyavhaar unicefindia reemaganguly collcom mohfwindia nssindia ianuragthakur nssrdbhopal yktiwari manojsinha atalnss samarendras amolakorram drbrajlal dkupadhyay httpstcocbeydlntl\n",
      "chc rajpur crumbling infrastructure lack staff sole hosp village httpstcooxlyxboeq himachalpradesh assemblyelections rural india mansukhmandviya mohfwindia mygovhimachal jairamthakurbjp sukhrambjp cmofficehp drrajivsaizal httpstcozmggkfekd\n",
      "urgent need unit blood sgpgi lucknow please help brajeshpathakup mohfwindia cmofficeup\n",
      "remanagarajan mohfwindia icmrnims experience government organization people working must got kind asurances extension\n",
      "tb harega desh jeetega jhansintep ntepup aiachosup ashokbh tbdivision mohfwindia mansukhmandviya dhsjhansi httpstcooghogpbzzi\n",
      "auspicious occasion diwalipublic awareness campaign tyohaarmevyavhaar unicefindia reemaganguly collcom mohfwindia nssindia ianuragthakur nssrdbhopal yktiwari manojsinha atalnss samarendras amolakorram drbrajlal dkupadhyay httpstcoiyoqhxlo\n",
      "ummermushtaq dhskashmir healthmedicale officeofmm diprjk directorskims mohfwindia sudanayushi iasbhupinder reckon good clinical decision\n",
      "dhskashmir healthmedicale officeofmm diprjk directorskims mohfwindia sudanayushi iasbhupinder doe mean operation wa done without imaging\n",
      "happy diwali cracker bursting outside celebrating diwali indian railway railminindia mohfwindia swrrly ashwinivaishnaw mygovindia httpstcopizcxwgom\n",
      "today world polio day requires drop save life narendramodi ganjamhealth mohfwindia httpstcottuyu\n",
      "dear friend one friend daughter wa admitted udupi manipal hospital required blood kindly contact immediately patient name jeevitha h age year phone blooddonorsin bloodmattersorg\n",
      "anilshet nageshadarsh karnatakakspcb bjpkarnataka tejasvisurya bsbommai pmoindia mohfwindia stsomashekarmla tvmohandaspai bjpindia bbmpcomm dkshivakumar stsomashekar stsomashekar bsbommai tejasvisurya pmoindia tushar girinath sir gubnath deepavali wish bsk resident look leachate unscientifically let drain water pollutes sompura lake want palm greased close bsk waste plant httpstcobcoqra\n",
      "nmc ugc nmcind ugcindia mbbsinternshipmustpayindeemeduniversity job must paid whether deemed university government college mohfwindia hmoindia pmoindia mansukhmandviya officeofmm drbharatippawar mbbs student course mbbs\n",
      "heart attack death rate increase youth kishkindha giving cpr training factory worker safe amp save others myogiadityanath myogioffice pmoindia narendramodi mohfwindia aajtak sudhirchaudhary ani piyushgoyal piyushgoyaloffc httpstcorexvqxlc\n",
      "may lord rama bless best virtue life endow love success good health happiness shubh deepawali httpstcohuovjywl headandneckcancer headandcancersurgery headandneckcancerawareness headandcancersurvivor hospital nwch httpstcobmakkf\n",
      "ranjitd jagograhakjago mohfwindia pharmeasyapp dharmilsheth ohh problem sir tata better tha pharmeasy future tata available everything\n",
      "mansukhmandviya mohfwindia narendramodi still hwcs getting adequate facility hwcs cho posted delivery facility availableno govt building\n",
      "ramangaonwala unicefindia ministrywcd eduminofindia mohfwindia mscmccaffrey definitelywe taking action\n",
      "httpstcogxqmelvci plz like share subscribe forget comment pmoindia nitiaayog mohfwindia\n",
      "moayush eduminofindia minofculturegoi indiasports mohfwindia mibindia meaindia goimeity railminindia mocagoi pibhomeaffairs tourismgoi moprgoi spokespersonmod pmoindia narendramodi sarbanandsonwal drmunjparabjp secymoayush pibindia mygovindia wishing everyone happy ayurvedaday httpstcotqluwcn\n",
      "askdrshashank mohfwindia drjitendrasingh thank sir\n",
      "nestleindia abpmajhatv zeem bbcnewsmarathi zeemarathi today maggie milletreally surprised food standard nestle notomaggie mohfwindia pmoindia httpstcowvuehsnwtx\n",
      "mohfwindia mental health helpline run every needy person psychiatric issue retweet matter u spreading awareness common man make number viral httpstcobwdrvqjc\n",
      "arvindkejriwal mohfwindia nhpindia pmoindia request flyingbeast carryminati bhuvanbam sonuood ashchanchlani iamharshbeniwal please help u reach message official httpstcorhpamoiokr\n",
      "gindrajitking ashwinivaishnaw serailwaykol railminindia pmoindia bjpodisha ddnewslive pibindia rashtrapatibhvn mohfwindia risked life serve people covid many year never thought family appears government thinking\n",
      "askdrshashank mohfwindia drjitendrasingh great sir\n",
      "singapore wave coming major clinical impact recombinant omicron vigilance still key protecting vulnerable good sign mohfwindia drjitendrasingh httpstcouihfitlu\n",
      "mild omicron strain predominantno increase severe disease hospitalization mortality india close vigilance cab panic keep science mohfwindia drjitendrasingh httpstcotwisiakfgu\n",
      "ranjitd jagograhakjago mohfwindia pharmeasyapp dharmilsheth try tata mg always try use tata product trust tata pharmeasy aur mujhe aisa lagta hai future tata group pharmeasy ko take kar legi tata kharid legi puri pharmeasy\n",
      "dhfwka pmoindia mohfwindia cmofkarnataka bsbommai mlasudhakar commdhfwka mdnhmkar bbmpcomm mangalurucorp ddchandananews pibbengaluru karnatakavarthe covid number karnataka new case state new case blore positivity rate discharge blore death active case state active case blore test covid covid\n",
      "nurse nurse nurse hospital indian httpstcozwscaxtazm\n",
      "virenvjadhav cmomaharashtra aajtak zeenewsenglish bbcworld maharashtrahmo mohfwindia mpcbofficial already filed complaint still company running errand\n",
      "virenvjadhav cmomaharashtra aajtak zeenewsenglish bbcworld maharashtrahmo mohfwindia mpcbofficial already filed complaint still company running\n",
      "mepratap please please help u including private hospital mysore bangalore within cghs empanel pmoindia narendramodi mansukhmandviya officeofmm cmofkarnataka sriramulubjp mlasudhakar dhfwka commdhfwka karnatakadipr drashwathcn joshipralhad mohfwindia\n",
      "mepratap please please help u including private hospital bangalore within cghs empanel pmoindia narendramodi mansukhmandviya officeofmm bsbommai cmofkarnataka sriramulubjp mlasudhakar dhfwka commdhfwka karnatakadipr drashwathcn joshipralhad mohfwindia\n",
      "ashwini mohfwindia thats great beginning ashwini\n",
      "narendramodi myogiadityanath dmkanpurdehat mohfwindia salary worker working govt hospital contract basis paid since last month celebrate festival manishbabu abpnews zeenews ndtvindia\n",
      "contributed action plan elderly woman india day workshop mohfwindia wa great learning experience wa indeed something presenting dghs appreciated httpstcoepxyeum\n",
      "sanghavisaurabh pmcpune collectorpune punehealthcare mohfwindia appears like odomos goodknite give cut pmcmco\n",
      "httpstcopnithsh kgmu administration told cut running cost hospital slahing food served attendant consume patient diet thats ok uttarpradesh u destitute state think providing food subsidised rate\n",
      "congratulation sksaiims principal college nursing aiimsjodhpur publishing th edition book nursing research amp statistic nursing student per indiannursingcouncil guideline health improvement evidence baed nursing practice mohfwindia httpstcogakeod\n",
      "avaradharajalu ayushmanhwcs mansukhmandviya drbharatippawar pmoindia mohfwindia mygovindia\n",
      "thank ezekiel community worker across world go beyond make sure community remain safe must investincommunity gfadvocates gfanap gfan apcaso ceg gcta csmeglobal ippfsar mohfwindia nacoindia httpstcoltimskjp\n",
      "global iodine deficiency disorder prevention day observed samdongkaluk hwc usaidnishtha jhpiego mohfwindia httpstcognpwvcqhhq\n",
      "extremely hurtful incident extreme incident call harsher step igrangevaranasi mansukhmandviya mohfwindia benarasiyaa httpstconjepbbxu\n",
      "cmo cuttackdm ospcb mohfwindia dpradhanbjp kindly atleast pay attention take strict action httpstcoedrebtxz\n",
      "calf antelope wa attacked straydogs accident near godrej garden city jagatpur wa unable move due severe bleeding called gujforestdept amp arrived minute safely rescue calf mohfwindia kpilthakran animalcrossing httpstcorjtofafqy\n",
      "public hospital face change day medical bill politician bureaucrat stopped govt fund come public hospitalsbut bell cat narendramodi pmoindia mansukhmandviya mohfwindia ani\n",
      "sabkadentist mohfwindia happy service provided add say cleaning polishing etc visit clinic treated min based doctor opinion must pay r didnt receive feedback link also aapka dentist\n",
      "cleanup hospital like home cleaning house prior auspicious diwali festivalthe team hospitalmohfwindia mohfwgujarat gujhfwdept shapmjayma ayushmannha nhmgujarat infogujarat gujaratshrbsk junagadhgog collectorjunag httpstcopfwtinulqq\n",
      "mohfwindia punjabgovtindia cmopb imaindiaorg rule doctor visit till pm civil hospital amritsar waiting rapid test due policy treatment given without covid test doctor wa httpstcoyocjxqqwti\n",
      "ranjitd jagograhakjago mohfwindia pharmeasyapp dharmilsheth deliver bad decision future company dark\n",
      "moprgoi girirajsinghbjp kapilpatil finminindia eduminofindia mordgoi mojsdowrrdgr mojsddws mohfwindia pibmord mygovindia post technical assistance post qualification btech salarymafter yr high qualification low salary le panchayat chokidar pls something increase salary decisiondepartment degrade higher education shamefull decision httpstcowbtjck\n",
      "despite neet pg eligibility almost seat sold crore onwards name management nri quota something wrong somewhere corruption high level need attention neetpgcounselling pmoindia mohfwindia narendramodi rahulgandhi\n",
      "shocking disregard officer chair open violation law controversial politician us bmos chair surankote officeoflgjandk divcomjammu dwivedimkias mohfwindia poonchdm ddcchairperson cbcpoonch chimranzaffar ddcdelhi nykspoonch sspcbk jkacb httpstcowockxcyy\n",
      "tshealth mohfwindia healachildfoun please help sir daughter admitted parimitha hospital chandanagar iam cab driver poor family please seva daughter httpstcodluyovph\n",
      "aiimsjodhpur lokeshs pedneurojournal mohfwindia aocnindia aiimsnewdelhi congratulation sir\n",
      "mbbs nmc internship education nmcind mohfwindia mansukhmandviya officeofmm deemed university mbbs student must paid internship salary everyworkmustpaid workmoney\n",
      "much treatment necessary patientthe motivation also necessaryso door patient ntepup tbdivision stdcup sanjaysinghmla dmpilibhit mohfwindia upgovt ddgtb cmofficeup cmopilibhit pmoindia httpstcolljxypjnob\n",
      "dhfwka pmoindia mohfwindia cmofkarnataka bsbommai mlasudhakar commdhfwka mdnhmkar bbmpcomm mangalurucorp ddchandananews pibbengaluru karnatakavarthe covid number karnataka new case state new case blore positivity rate discharge blore death active case state active case blore test covid covid\n",
      "aiimsrda asd aiimsnewdelhi drjaswantjangra drvinayaiims healthyageing hemantrajora mohfwindia medicaltoday healthlive americanheart congratulation asd research foundation science proud friend keep\n",
      "toddler care physical growth monitoring aaganwadimathiya hwctenuathmathiya dinara abhwcsbihar ayushmanhwcs mohfwindia httpstcoqnmvwnj\n",
      "perfect power partner festival seasonsfor uninterrupted power supply advanced feature detail visit u httpstconerydhfr call u andhrapradesh telangana vijayawada eluru rajahmundry amalapuram indutry hospital kirloskar httpstcoozhumtv\n",
      "mohfwindia mpgovt hi sir u pls update ayush mediclaim facility enrollment open citizen need uncle aunty live mp kotma town pincode get pm modi health facility pls update\n",
      "heartiest congratulation shivalsri associate professor physiology aiimsjodhpur awarded best oral presentation assopicon held aiimsnagpur work ultra short heart rate variability index mohfwindia httpstcobmynugxztw\n",
      "moayush sarbanandsonwal pmoindia narendramodi vaidyakotecha drmunjparabjp pibindia mygovindia mohfwindia eduminofindia amritmahotsav minofculturegoi yes sir right request give importance branch ayush system like homoeopathy give cost effective treatment people safer way\n",
      "im door narayanahealth hospital ahmedabad emergency old aged mother smt qamar jahan hospital refused admit cghs active card pmoindia mohfwindia cmoguj please help httpstcolhphxqsa\n",
      "mohfwindia pmoindia fssaiindia hello something learn wanted educate people avoid harming food product httpstcoykeneic\n",
      "bajajfinance adityabirlagrp mohfwindia bajaj team claim file submitted aditya birla office vashi theyre saying policy inactive system still understanding two statement coming please help\n",
      "blinkitcares letsblinkit albinder fssaiindia mohfwindia jagograhakjago consaff kwalityfoods kwalitywallsin letsblinkit blinkitcares providing refund solution please call registered mobile number\n",
      "royalsundaram naveenshahi policybazaar mediassistindia mohfwindia pmoindia arvindkejriwal wait clear asap\n",
      "drnirajsinghu livelawindia nmcind dghsindia mohfwindia join hospital wait india counselling two cancellation new second round counselling\n",
      "expect construction aiims hospital madurai waiting many year still started expeditemaduraiaiims pmoindia narendramodi nsitharaman mohfwindia mansukhmandviya drbharatippawar httpstcocoqqt\n",
      "congratulation lokeshs appointed editorial board member prestigius pedneurojournal moreover first indian achieve honour great dr lokesh mohfwindia aocnindia aiimsnewdelhi httpstcomkmjveaw\n",
      "observation global iodine deficiency disorder prevention day austaram para awc jamircherra hampwc manughat chc ltv dhalai tripura pmoindia tripuracmo nhmtripura cstripura hfwtripura mohfwindia nitiaayog unicefindia jsihealth httpstcoaxbjgqrdk\n",
      "news flashgermany may shut hospital request narendramodi plz depute mansukhmandviya drsjaishankar ampfind solution mohfwindia help german citizen mass sud suffer due encroached cartel nato joebiden vonderleyen see httpstcowsfcnipnyh httpstcoosnqywjzzv\n",
      "anilshet nageshadarsh karnatakakspcb bjpkarnataka tejasvisurya bsbommai pmoindia mohfwindia stsomashekarmla tvmohandaspai bjpindia bbmpcomm dkshivakumar gubnath started tushar girinath stsomashekarmla stsomashekar sir merrymaking spree please close bsk waste processing plant httpstcolvbahttde\n",
      "abccare mohfwindia pmoindia really disappointed holding valid insurance medical policy vashi branch saying policy active document submitted amp theyre saying negative attaching valid document httpstcohbyxgjn\n",
      "support usaidmomentum tci foundation team chhindwara promoting amritmahotsav booster dose vaccination jsihealth mohfwindia adanifoundation mibindia cdcgov csrindia ficciindia tcilgroup ethealthworld dmchhindwara tcifindia httpstcougpafcxs\n",
      "moprgoi mordgoi ministrywcd mohfwindia mojsddws eduminofindia finminindia girirajsinghbjp kapilpatil mojsdowrrdgr pibmord mygovindia post technical assistance post qualification btech salarymafter yr high qualification low salary le panchayat chokidar pls something increase salary decision department degrade higher education shamefull decision httpstcoyjkfmxzwm\n",
      "urgent please take note pmoindia mansukhmandviya mohfwindia cmofficeup cc narendramodi myogiadityanath myogioffice httpstcoiqkpmbfcl\n",
      "majestic n pride building tiruvallur medical college n hospital ready serve public todaypeople across district get best treatment tiruvallur medicalcollege hospital cmotamilnadu mkstalin albyjohnv tiruvallurcollr subramanianma avadinasar httpstcohbxbikib\n",
      "abhwcsbihar ayushmanhwcs mohfwindia shsbihar kavitas someshkumr bulbulsood devenkhandait jhpiegoindia bmgfindia pallavisinha drbhartendu nice work\n",
      "respected cmoodishamosarkartsecychief sirkindly look matter amp needful step based data published daily newspaper naveenodisha mohfwindia balangircdmo thstbalangir collectorbgr bkhaprakhol chanchalranaias sdmpatnagarh httpstcoxnxjzxgkyi\n",
      "mohfwindia respect sir per direction gov bihar india neet pg qualified inservice candidate central govt hospital need submit yr service bond patna medical college principal compelling submit bond kindly help httpstcoafapmrmqk\n",
      "vikkypaedia amitsurg naveenthacker iapindia mohfwindia icmrdelhi dhfwka shimogahealth maulikdr profpiyushgupta pushpakini abhishbanerj method issue fact remains huge burden malnutrition sync improvement economy\n",
      "c wat found floating dead insect inside packed bisleri bottleif happens bisleri wat water bottel called fssaiindia indianstandards shameful bisleri water bislerizone mohfwindia biharhealthdept drbharatippawar aajtak httpstcoryyvfnyt\n",
      "mepratap please please help u including private hospital bangalore within cghs empanel pmoindia narendramodi mansukhmandviya officeofmm bsbommai cmofkarnataka sriramulubjp mlasudhakar dhfwka commdhfwka karnatakadipr drashwathcn joshipralhad mohfwindia\n",
      "officeofmm mansukhmandviya mepratap please please help u including private hospital bangalore within cghs empanel pmoindia narendramodi mansukhmandviya officeofmm bsbommai cmofkarnataka sriramulubjp mlasudhakar dhfwka commdhfwka karnatakadipr drashwathcn joshipralhad mohfwindia\n",
      "mansukhmandviya mepratap please please help u including private hospital bangalore within cghs empanel pmoindia narendramodi mansukhmandviya officeofmm bsbommai cmofkarnataka sriramulubjp mlasudhakar dhfwka commdhfwka karnatakadipr drashwathcn joshipralhad mohfwindia\n",
      "pibindia mansukhmandviya mohfwindia please please help u including private hospital bangalore within cghs empanel pmoindia narendramodi mansukhmandviya officeofmm bsbommai cmofkarnataka sriramulubjp mlasudhakar dhfwka commdhfwka karnatakadipr drashwathcn joshipralhad mohfwindia\n",
      "pbnsindia mansukhmandviya mohfwindia please please help u including private hospital bangalore within cghs empanel pmoindia narendramodi mansukhmandviya officeofmm bsbommai cmofkarnataka sriramulubjp mlasudhakar dhfwka commdhfwka karnatakadipr drashwathcn joshipralhad mohfwindia\n",
      "mohfwindia mansukhmandviya drbharatippawar pmoindia pibindia mygovindia amritmahotsav ddnewslive airnewsalerts please please help u including private hospital bangalore within cghs empanel pmoindia narendramodi mansukhmandviya officeofmm bsbommai cmofkarnataka sriramulubjp mlasudhakar dhfwka commdhfwka karnatakadipr drashwathcn joshipralhad mohfwindia\n",
      "officeofmm mansukhmandviya please please help u including private hospital bangalore within cghs empanel pmoindia narendramodi mansukhmandviya officeofmm bsbommai cmofkarnataka sriramulubjp mlasudhakar dhfwka commdhfwka karnatakadipr drashwathcn joshipralhad mohfwindia\n",
      "shahimtiyaz mansukhmandviya drbharatippawar please please help u including private hospital bangalore within cghs empanel pmoindia narendramodi mansukhmandviya officeofmm bsbommai cmofkarnataka sriramulubjp mlasudhakar dhfwka commdhfwka karnatakadipr drashwathcn joshipralhad mohfwindia\n",
      "pibvijayawada mansukhmandviya mepratap please please help u including private hospital bangalore within cghs empanel pmoindia narendramodi mansukhmandviya officeofmm bsbommai cmofkarnataka sriramulubjp mlasudhakar dhfwka commdhfwka karnatakadipr drashwathcn joshipralhad mohfwindia\n",
      "odishadiary mepratap please please help u including private hospital bangalore within cghs empanel pmoindia narendramodi mansukhmandviya officeofmm bsbommai cmofkarnataka sriramulubjp mlasudhakar dhfwka commdhfwka karnatakadipr drashwathcn joshipralhad mohfwindia\n",
      "officeofmm mansukhmandviya mepratap please please help u including private hospital bangalore within cghs empanel pmoindia narendramodi mansukhmandviya officeofmm bsbommai cmofkarnataka sriramulubjp mlasudhakar dhfwka commdhfwka karnatakadipr drashwathcn joshipralhad mohfwindia\n",
      "mansukhmandviya mepratap please please help u including private hospital bangalore within cghs empanel pmoindia narendramodi mansukhmandviya officeofmm bsbommai cmofkarnataka sriramulubjp mlasudhakar dhfwka commdhfwka karnatakadipr drashwathcn joshipralhad mohfwindia\n",
      "khuhhalramban mansukhmandviya mepratap please please help u including private hospital bangalore within cghs empanel pmoindia narendramodi mansukhmandviya officeofmm bsbommai cmofkarnataka sriramulubjp mlasudhakar dhfwka commdhfwka karnatakadipr drashwathcn joshipralhad mohfwindia\n",
      "prashanthns mohfwindia mepratap please please help u including private hospital bangalore within cghs empanel pmoindia narendramodi mansukhmandviya officeofmm bsbommai cmofkarnataka sriramulubjp mlasudhakar dhfwka commdhfwka karnatakadipr drashwathcn joshipralhad mohfwindia\n",
      "mpathrike mepratap please please help u including private hospital bangalore within cghs empanel pmoindia narendramodi mansukhmandviya officeofmm bsbommai cmofkarnataka sriramulubjp mlasudhakar dhfwka commdhfwka karnatakadipr drashwathcn joshipralhad mohfwindia\n",
      "mepratap please please help u including private hospital bangalore within cghs empanel pmoindia narendramodi mansukhmandviya officeofmm bsbommai cmofkarnataka sriramulubjp mlasudhakar dhfwka commdhfwka karnatakadipr drashwathcn joshipralhad mohfwindia\n",
      "prof atul goel dghsdranil kumaraddldghsddg leprosy many expert attended workshop develop thensp leprosy roadmap sdg held th amp th october gurgaon wa grand success nsp would released soon dghsindia mohfwindia httpstcoczfyeuovx\n",
      "deshbandhucoll eduminofindia ugcindia univofdelhi duteacher mohfwindia mibindia rajiv varshabaweja congratulation\n",
      "help india help life hospital bjpdelhi prafullmbachai myogiadityanath myogioffice arvindkejriwal pmoindia amitshahoffice rajnathsingh srbachchan narendramodi yadavakhilesh adminlko uppolice mohfwindia upgovt myogioffice uptakofficial homeupgov httpstcoxezldby\n",
      "mreyazuddin mohfwindia drrkdhamija nhpindia ha four tele mana cell currently two functional per information available picked government suggestion central government\n",
      "prashanthns mohfwindia quite recently cghs wa honoured select provider provider lot woe scheme genuine think wa power sort\n",
      "tndphpm nhmtn cmotamilnadu mohfwindia pls let inoxmovies know officially declared goi mask mandated across india let refund hard earned wa collected mask tnx\n",
      "unfortunate absolutely public debate important matter pollution dangerous healthhazard need long term plan short term deliverable facemask vanished covid though still sad mohfwindia httpstcodjobfihjbp\n",
      "dear narendramodi pmoindia mohfwindia proud indian india great country change cannot happen overnight agree always initiated pls educate knowledge promote using western lavatory\n",
      "itisamanta mohfwindia hfwodisha unicef unicefindia undpindia ostio arthritis detrimental health aged woman\n",
      "middle ring road parvat eastsez smc swachhbharat sbmsurat swachsurvekshan sbmugujarat swachhbharatgov oursmc mohfwindia mohuaindia mysuratmysmc httpstcovqrlzthtcb\n",
      "noon cleaning drive mangal bhavan road parvat west sez smc swachhbharatgov swachhbharat sbmugujarat swachsurvekshan sbmsurat mohfwindia mohuaindia mysuratmycity oursmc httpstcoaeodjaj\n",
      "nhmassam cmofficeassam mohfwindia keshabmahanta pomibaruah diprassam brightsonnhm mygovassam good initiative\n",
      "mohfwindia pharmacist registration green card generate\n",
      "time cancer designated notifiable diseae india actual burden diseae acertained congratulation state odisha hopefully implemented pan india level soon medtwitter cryptovita mohfwindia narendramodi pmoindia dhfwka commdhfwka httpstcozierhgsa\n",
      "rmlhdelhi mohfwindia aajtak abpnews zeenews see new emergency building th floor nicu water available since lat day attendant aked take water tap guard refused take water tab directed doctor httpstcohjwhffi\n",
      "subhasi govt ssamal centrecoastal cmoodisha drjitendrasingh kanaknews narendramodi swachhsurakshi otvnews mohfwindia one man army\n",
      "nestsemrs mohfwindia minofculturegoi nitiaayog ayushmannha drjitendrasingh indiasports pibindia piramals kirenrijiju alongimna lgladakh undpindia unesconewdelhi airnewsalerts ddnational ranchipib jharkhanddd call httpstcojzpukjyy\n",
      "subhasi govt ssamal centrecoastal cmoodisha drjitendrasingh kanaknews narendramodi swachhsurakshi otvnews mohfwindia doctor second god\n",
      "drsangitareddy doctorsoumya mohfwindia kiranshaw wonderfully differentiated corrective preventive measure dr sangita prevention better cure paradigm shift needed halopathy whole medical care ha gone commercial bond\n",
      "rashmipandeyind covidnewsbymib covidindiaseva amritmahotsav mohfwindia healthminmp drbharatippawar indorecollector shirish chouhanshivraj usaidnishtha ayushmanhwcs abhwcmp jatinbhatt mansukhmandviya vishalchauhan usaidindia usaidgh jhpiego ayushmannha nhmmp sarveshmalviya pratikm drroshni aiachomedia officeofssc nice job\n",
      "morning breeze majestical fragrance venuschowk udhampur indukanwal see mam udhampur changing quite fast udhadm jkchanneltv udhampurofcl pmoindia mohfwindia swachhbharat tag till resolve appeal httpstcoxfzzmkgsf\n",
      "n unit bmc took paet clean india program organised university calcutta babughat pankajsinghips yasministry rdnkolkata mohfwindia eduminofindia nrdd nchennai pibindia pibkolkata connectingn nrdpatna nrdchandigarh httpstcomcpkaaw\n",
      "special swachhta campaign observance aiims mangalagiri cleaning hospital surrounding area conducted swachhta awareness session administrative staff swachhbharat swachhtacampaign swachhbharat mohfwindia mansukhmandviya drbharatippawar httpstcodvryuoj\n",
      "absolutely pmoindia hmoindia narendramodi amitshah ashwinivaishnaw jmscindia drsjaishankar piyushgoyaloffc mohfwindia mansukhmandviya pushkardhami myogiadityanath ltgengurmit mahendrabhatbjp ajaybhattbjpuk ajaytamtabjp politics abt sir httpstcohrgmjylgfg\n",
      "happy get evaluated basic health parameter health kiosk chc bagpat uttarpradesh nhmup mohfwindia httpstcoteoojudfz\n",
      "bjp leader kerala claim icu sut hospital trivandrum sad know pvt hospital kerala ha pathetic icu morover allow visitor sit icu mohfwindia keralahealth take immidiate action regard httpstconoxlmiybp\n",
      "trinity hospital silai mual aizawl pic credit muanawmaralte silaimual trinityhospital hospital damdawiin aizawl hospitalcampus medical building mizoram mizoraminsta northeastindia httpstcodoeezdm\n",
      "glimpse routine immunization session manughat chc pmoindia tripuracmo nhmtripura cstripura hfwtripura mohfwindia unicef nitiaayog unicefindia jsihealth httpstcodopvwha\n",
      "maternal health intervention nhm arogyaandhra vidadalarajini mohfwindia httpstcoelznvtlbwh\n",
      "pharmeasyapp unable cancel order id mohfwindia\n",
      "visrane goagmc mohfwindia mansukhmandviya jpnadda pmoindia narendramodi congratulation\n",
      "nishantyadavias cmohry diprharyana mohfwindia dcsofindia dcgurugram place marked every sector purpose used activity sector gurgaon tehsil instead govt dispensary\n",
      "dhfwka mohfwindia covidnewsbymib covidindiaseva covidindiaorg joke taken dos last year year today httpstcoehsjbweqq\n",
      "cowin app update new kind message easy hack link health bbmpsplhealth nhpindia mohfwindia dhfwka httpstcorfvewhqrx\n",
      "mohfwindia pmoindia mansukhmandviya drbharatippawar pibindia mygovindia amritmahotsav covidnewsbymib ddnewslive airnewsalerts going request ministry affairsplease think kind issue air india unhygienic amp dirty smile spread disease inside flight ticket provided air india april flight ai eticket httpstcolquiloxkx\n",
      "plan power backup monsoon high performance kirloskar generator detail visit u httpstconerydhfr call u andhrapradesh telangana vijayawada eluru raahmundry amalapuram indutry hospital kirloskargenerator vizag httpstcoasgoerr\n",
      "adolescent camp kavi shree dalal school education nutrition oral hygienemenstrual hygieneto prevent anemiaover weightampmalnutrition amp carbevax vaccination done sez smc swachhbharat oursmc mohfwindia mohuaindia swachsurvekshan sbmsurat swachhbharatgov httpstcoxjgkehh\n",
      "rashmipandeyind amritmahotsav mohfwindia healthminmp drbharatippawar indorecollector shirish chouhanshivraj usaidnishtha ayushmanhwcs abhwcmp unicefindia jhpiego usaidindia jatinbhatt mansukhmandviya vishalchauhan nhmmp officeofssc jdjsindore jhmidwifery pmoindia pibindia ptinews anaspresident drroshni pratikm great work\n",
      "msisodia arvindkejriwal please concentrate health education job hospital etc someone attack home tell care focusing shame day say ambani ambani today want adani adani httpstcoafszdfccy\n",
      "diprogurugram cmohry diprharyana ayushmannha mohfwindia mlkhattar csharyana mygovharyana gurgaon future tense guy clueless ground reality check httpstcoxrgpm\n",
      "poverty povertyindia karnatakateam preferred life livelihood policy recommendation life without livelihood insensitivity sad dhfwka mohfwindia httpstcoyuypbnkvu\n",
      "hi telangana pharmadians let u introduce association named telangana pharmd doctor association regd congratulation kindly request support tpda association telanganacmo mohfwindia ministerktr harishraooffice httpstcoconclecyh\n",
      "hi telangana pharmadians let u introduce association named telangana pharmd doctor association regd congratulation kindly request support tpda association presidentpci telanganacmo mohfwindia teenmarmallanna httpstcodihsnyocym\n",
      "pmcpune mohfwindia mlatapkir narhe dhayri road opp jadhavar collage th complain ni action many day citizen staying suffer httpstcoxplwfjcvo\n",
      "mohfwindia hfwodisha healthinfrastructure hwc controlof noncommunicablediseases httpstcofpgdfzbni\n",
      "respected surekhakishore maam ur presence made world anatomy day historical amp grand academic event anatomist country highly grateful u thank much giving u ur preciou time amp blessing u world anatomy dayaiimsgkp mohfwindia httpstcozhmbipfiw\n",
      "felicitation interaction fopl ccc member uttar pradesh sideline gaw event held lucknow oct thanks ccc member kind courtesy extended consumerguild consumercoordi advabhigunjan cutscart mohfwindia dscuts httpstcojeypnvcd\n",
      "cancer screening program hepatobilliary malignancy readily available modality like usg arent cancer even detectable self exam glorified americancancer cancergridindia rsna cirse nccn mohfwindia cancercreening\n",
      "manipalhealth stained hospital patient gown given patient manipal hospital varthur road httpstcoejsaxgydp\n",
      "nishantyadavia cmohry diprharyana mohfwindia dcsofindia dcgurugram considered mcmanesar area well area cmohry doesnt exist record road street light gurugramuniver pending constructed kdtollremoval mishraamresh developnewggn ahokkmalik dharm rudra sayan\n",
      "neetpg kea karnataka finish first bcece bihar given result yesterday mcc r result many state announced nd date monopoly monopsony running around neetpgcounselling amp nmcind mohfwindia sleeping\n",
      "vishvassarang narendramodi pmoindia jpnadda amitshah amitshahoffice chouhanshivraj mansukhmandviya mygovindia mohfwindia pibhindi jay ho\n",
      "dhfwka pmoindia mohfwindia cmofkarnataka bsbommai mlasudhakar commdhfwka mdnhmkar bbmpcomm mangalurucorp ddchandananews pibbengaluru karnatakavarthe covid number karnataka new case state new case blore positivity rate discharge blore death active case state active case blore test covid covid\n",
      "ihba delhi launch mohfwindia national telemana programme state telemana cell mentoring institutfor delhi state amp regional coordinating centre statesuts north india httpstcoxnququyll\n",
      "homoeopathycure drpradeepkumarhomoeopath naiminathhomoeopathicmedicalcollege diabities drpradeepnhmc moayush mohfwindia aiimsnewdelhi aiiandelhi yogrishiramdev sadhgurujv myogiadityanath rajnathsingh kpmaurya homoeopathy httpstcojqnqs\n",
      "adminghazipur installation apheresis machine sdp resolve case dengue patient ghazipur nearby city also shishirgoup myogiadityanath myogioffice heeralalias mohfwindia nhmup brajeshpathakup nacoindia cmofficeup httpstcojjvukmhg\n",
      "singhpiya delhicomplaint sandhyatimesu cmodelhi imaindiaorg primaryhealth mohfwindia surajsolanki gulshanrainbt world class health model\n",
      "image video domino dominoindia mohfwindia mofpigoi fssaiindia ndtv republic httpstcorhlycfd httpstcoyfmvctdmar\n",
      "ordered pizza domino app pizza insect tried contact customer care store none responded call also registered complaint domino app dominoindia fssaiindia domino mohfwindia ndtv brutindia mofpigoi httpstcocvovkubd\n",
      "much treatment necessary patientthe motivation also necessaryso door patient ntepup tbdivision stdcup sanjaysinghmla dmpilibhit mohfwindia upgovt ddgtb cmofficeup tbhdj pmoindia httpstcosvmgqxsrhh\n",
      "pmoindia mohfwindia narendramodi amitshah cmofficeup pleae look old law made incindia rahulgandhi disturb make comman man life worst street dog dog get protection human life httpstcoidvugsqc\n",
      "mohfwindia pmoindia cowin wife received text today although given shot date snd time specified message appears clear case someone committing identity theft amp fraud kindly investigate httpstcoeblxnsts\n",
      "occasion world anaesthesia day th october department anesthesiology aiims mangalagiri conducted open poster competition awareness radio talk theme safe anesthesia safe surgery mohfwindia mansukhmandviya drbharatippawar httpstcouxjgetzz\n",
      "need love save mental health psychologsindia mohfwindia mentalhealth mentalhealthsupport httpstcodxpfwkmwq\n",
      "diksham cmohry muncorpgurugram zeenewsenglish hrw pmoindia mohfwindia happening past month daily struggle move home disease come water toigurgaon cmohry\n",
      "igimspatna bihar bceceb neetpg counseling r ent amp radiooncology gone vacant ur category top college clinical seat going vacant nmcbill nitishkumar nmcind dghsindia mohfwindia yadavtejashwi shsbihar biharhealthdept pratyayaias navbhaarat tvbihar\n",
      "httpstcocivzgkzamu hon ble pm narendramodi pmoindia high time seriously considered law harmonising healthcare activity assure safety quality accessibility affordability healthcare india mansukhmandviya mohfwindia ayushmannha safemedsindia\n",
      "govt medical dmcdarbhanga ur category opthal amp ent allotted bceceb neetpgcounselling r many seat per seat matrix nt allotted bihar neetpgcounselling nitishkumar nmcind dghsindia mohfwindia yadavtejahwi shsbihar biharhealthdept pratyayaia httpstcocrobkmno\n",
      "indianmedicalservice best interest nation recommended mudaliar committee amp later drafted central council health faimaindia pmoindia officeofmm anidigital ndtvindia mohfwindia medicaldialogs drrohankrishna ptinews\n",
      "smcgujarat nirliptrai pmoindia hmoindia amitshah hmofficegujarat sanghaviharsh ashishbhatiaips infogujarat ddnewsgujarati iasassociation fbi potus donaldjtrumpjr cia newjerseydoe nytimes whitehouse ecisveep iasgujarat pankajbhaidesai cmoguj devusinh devusinhoffice dired cbitweets finminindia vhpdigital rssorg fcigujarat fao mofpigoi fciindia fooddeptgoi mohfwindia moayush httpstcowtgpqctg high level enquiry committe must set sect using non resident gujarati accumulate wealth destroy sanatan dharam brainwash child even raid follower pmoindia finminindia eduminofindia meaindia dired\n",
      "onehealth initiative effective high index suspicion kept evaluating patient may lead search emerging zoonotic diseaes livestock rajathan aiimsjodhpur aiimsjodhpur worldhealthsmt mohfwindia httpstcomuuohutw\n"
     ]
    }
   ],
   "source": [
    "for tweets in tweets_df['text']:\n",
    "    # print(tweets_df.loc[i, ('text')])\n",
    "    print(tweets)"
   ]
  },
  {
   "cell_type": "code",
   "execution_count": null,
   "metadata": {},
   "outputs": [],
   "source": []
  }
 ],
 "metadata": {
  "kernelspec": {
   "display_name": "Python 3.10.4 64-bit",
   "language": "python",
   "name": "python3"
  },
  "language_info": {
   "codemirror_mode": {
    "name": "ipython",
    "version": 3
   },
   "file_extension": ".py",
   "mimetype": "text/x-python",
   "name": "python",
   "nbconvert_exporter": "python",
   "pygments_lexer": "ipython3",
   "version": "3.10.4"
  },
  "orig_nbformat": 4,
  "vscode": {
   "interpreter": {
    "hash": "aee8b7b246df8f9039afb4144a1f6fd8d2ca17a180786b69acc140d282b71a49"
   }
  }
 },
 "nbformat": 4,
 "nbformat_minor": 2
}
