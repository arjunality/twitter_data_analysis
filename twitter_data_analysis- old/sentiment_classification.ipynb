{
 "cells": [
  {
   "cell_type": "code",
   "execution_count": 24,
   "metadata": {},
   "outputs": [
    {
     "name": "stdout",
     "output_type": "stream",
     "text": [
      "showing info https://raw.githubusercontent.com/nltk/nltk_data/gh-pages/index.xml\n"
     ]
    },
    {
     "data": {
      "text/plain": [
       "True"
      ]
     },
     "execution_count": 24,
     "metadata": {},
     "output_type": "execute_result"
    }
   ],
   "source": [
    "import nltk\n",
    "import ssl\n",
    "\n",
    "try:\n",
    "    _create_unverified_https_context = ssl._create_unverified_context\n",
    "except AttributeError:\n",
    "    pass\n",
    "else:\n",
    "    ssl._create_default_https_context = _create_unverified_https_context\n",
    "\n",
    "nltk.download()"
   ]
  },
  {
   "cell_type": "code",
   "execution_count": 45,
   "metadata": {},
   "outputs": [
    {
     "name": "stderr",
     "output_type": "stream",
     "text": [
      "[nltk_data] Downloading package vader_lexicon to\n",
      "[nltk_data]     /Users/arjunkhanchandani/nltk_data...\n",
      "[nltk_data]   Package vader_lexicon is already up-to-date!\n"
     ]
    },
    {
     "data": {
      "text/plain": [
       "True"
      ]
     },
     "execution_count": 45,
     "metadata": {},
     "output_type": "execute_result"
    }
   ],
   "source": [
    "import pandas as pd\n",
    "import numpy as np\n",
    "import matplotlib.pyplot as plt\n",
    "import seaborn as sns\n",
    "\n",
    "import nltk\n",
    "from nltk.sentiment import SentimentIntensityAnalyzer\n",
    "import textblob\n",
    "\n",
    "nltk.download('vader_lexicon')"
   ]
  },
  {
   "cell_type": "code",
   "execution_count": 46,
   "metadata": {},
   "outputs": [
    {
     "data": {
      "text/html": [
       "<div>\n",
       "<style scoped>\n",
       "    .dataframe tbody tr th:only-of-type {\n",
       "        vertical-align: middle;\n",
       "    }\n",
       "\n",
       "    .dataframe tbody tr th {\n",
       "        vertical-align: top;\n",
       "    }\n",
       "\n",
       "    .dataframe thead th {\n",
       "        text-align: right;\n",
       "    }\n",
       "</style>\n",
       "<table border=\"1\" class=\"dataframe\">\n",
       "  <thead>\n",
       "    <tr style=\"text-align: right;\">\n",
       "      <th></th>\n",
       "      <th>user_id</th>\n",
       "      <th>tweet_id</th>\n",
       "      <th>username</th>\n",
       "      <th>location</th>\n",
       "      <th>following</th>\n",
       "      <th>followers</th>\n",
       "      <th>twt_created_at</th>\n",
       "      <th>total_tweets</th>\n",
       "      <th>retweet_count</th>\n",
       "      <th>text</th>\n",
       "      <th>hashtags</th>\n",
       "      <th>mentions</th>\n",
       "    </tr>\n",
       "  </thead>\n",
       "  <tbody>\n",
       "    <tr>\n",
       "      <th>0</th>\n",
       "      <td>2</td>\n",
       "      <td>2</td>\n",
       "      <td>pspatilsbi</td>\n",
       "      <td>Bangalore</td>\n",
       "      <td>325</td>\n",
       "      <td>25</td>\n",
       "      <td>2022-11-08 22:08:44+00:00</td>\n",
       "      <td>2704</td>\n",
       "      <td>0</td>\n",
       "      <td>agenda great old god blees end</td>\n",
       "      <td>[]</td>\n",
       "      <td>[{'screen_name': 'INCIndia', 'name': 'Congress...</td>\n",
       "    </tr>\n",
       "    <tr>\n",
       "      <th>1</th>\n",
       "      <td>3</td>\n",
       "      <td>3</td>\n",
       "      <td>ththegde</td>\n",
       "      <td>Kandivali East, Mumbai</td>\n",
       "      <td>582</td>\n",
       "      <td>57</td>\n",
       "      <td>2022-11-08 22:00:49+00:00</td>\n",
       "      <td>1969</td>\n",
       "      <td>0</td>\n",
       "      <td>please allow citizen buy forex investment like...</td>\n",
       "      <td>[]</td>\n",
       "      <td>[{'screen_name': 'PMOIndia', 'name': 'PMO Indi...</td>\n",
       "    </tr>\n",
       "    <tr>\n",
       "      <th>2</th>\n",
       "      <td>5</td>\n",
       "      <td>5</td>\n",
       "      <td>rupz_boruah</td>\n",
       "      <td>Chabua, India</td>\n",
       "      <td>14</td>\n",
       "      <td>33</td>\n",
       "      <td>2022-11-08 21:54:37+00:00</td>\n",
       "      <td>309</td>\n",
       "      <td>0</td>\n",
       "      <td>please take necessary action neurologist amc d...</td>\n",
       "      <td>[{'text': 'Dr_Dhrubajyoti_Kurmi', 'indices': [...</td>\n",
       "      <td>[{'screen_name': 'MoHFW_INDIA', 'name': 'Minis...</td>\n",
       "    </tr>\n",
       "    <tr>\n",
       "      <th>3</th>\n",
       "      <td>8</td>\n",
       "      <td>8</td>\n",
       "      <td>lazizpizza99</td>\n",
       "      <td>Jasola Vihar, New Delhi</td>\n",
       "      <td>23</td>\n",
       "      <td>1</td>\n",
       "      <td>2022-11-08 21:28:48+00:00</td>\n",
       "      <td>6</td>\n",
       "      <td>0</td>\n",
       "      <td>sleeping suddenly bed start shaking ignored ke...</td>\n",
       "      <td>[{'text': 'peace', 'indices': [231, 237]}, {'t...</td>\n",
       "      <td>[{'screen_name': 'LtGovDelhi', 'name': 'LG Del...</td>\n",
       "    </tr>\n",
       "    <tr>\n",
       "      <th>4</th>\n",
       "      <td>11</td>\n",
       "      <td>11</td>\n",
       "      <td>UtkarshMishra_9</td>\n",
       "      <td>Noida, India</td>\n",
       "      <td>707</td>\n",
       "      <td>1122</td>\n",
       "      <td>2022-11-08 21:14:55+00:00</td>\n",
       "      <td>5764</td>\n",
       "      <td>0</td>\n",
       "      <td>estimated magnitude earthquake affected countr...</td>\n",
       "      <td>[{'text': 'earthquake', 'indices': [137, 148]}...</td>\n",
       "      <td>[{'screen_name': 'ANI', 'name': 'ANI', 'id': 3...</td>\n",
       "    </tr>\n",
       "  </tbody>\n",
       "</table>\n",
       "</div>"
      ],
      "text/plain": [
       "   user_id  tweet_id         username                 location  following  \\\n",
       "0        2         2       pspatilsbi               Bangalore         325   \n",
       "1        3         3         ththegde   Kandivali East, Mumbai        582   \n",
       "2        5         5      rupz_boruah            Chabua, India         14   \n",
       "3        8         8     lazizpizza99  Jasola Vihar, New Delhi         23   \n",
       "4       11        11  UtkarshMishra_9             Noida, India        707   \n",
       "\n",
       "   followers             twt_created_at  total_tweets  retweet_count  \\\n",
       "0         25  2022-11-08 22:08:44+00:00          2704              0   \n",
       "1         57  2022-11-08 22:00:49+00:00          1969              0   \n",
       "2         33  2022-11-08 21:54:37+00:00           309              0   \n",
       "3          1  2022-11-08 21:28:48+00:00             6              0   \n",
       "4       1122  2022-11-08 21:14:55+00:00          5764              0   \n",
       "\n",
       "                                                text  \\\n",
       "0                     agenda great old god blees end   \n",
       "1  please allow citizen buy forex investment like...   \n",
       "2  please take necessary action neurologist amc d...   \n",
       "3  sleeping suddenly bed start shaking ignored ke...   \n",
       "4  estimated magnitude earthquake affected countr...   \n",
       "\n",
       "                                            hashtags  \\\n",
       "0                                                 []   \n",
       "1                                                 []   \n",
       "2  [{'text': 'Dr_Dhrubajyoti_Kurmi', 'indices': [...   \n",
       "3  [{'text': 'peace', 'indices': [231, 237]}, {'t...   \n",
       "4  [{'text': 'earthquake', 'indices': [137, 148]}...   \n",
       "\n",
       "                                            mentions  \n",
       "0  [{'screen_name': 'INCIndia', 'name': 'Congress...  \n",
       "1  [{'screen_name': 'PMOIndia', 'name': 'PMO Indi...  \n",
       "2  [{'screen_name': 'MoHFW_INDIA', 'name': 'Minis...  \n",
       "3  [{'screen_name': 'LtGovDelhi', 'name': 'LG Del...  \n",
       "4  [{'screen_name': 'ANI', 'name': 'ANI', 'id': 3...  "
      ]
     },
     "execution_count": 46,
     "metadata": {},
     "output_type": "execute_result"
    }
   ],
   "source": [
    "tweets_df = pd.read_csv('/Users/arjunkhanchandani/Desktop/twitter_data_analysis-main/data/final_dataset.csv')\n",
    "tweets_df.head()"
   ]
  },
  {
   "cell_type": "code",
   "execution_count": 47,
   "metadata": {},
   "outputs": [],
   "source": [
    "def get_textblob_sentiment(df):\n",
    "    polarities = list()\n",
    "    # subj = list()\n",
    "    for tweets in df.loc[:,'text']:\n",
    "        # print(type(tweets))\n",
    "        testimonial = textblob.TextBlob(str(tweets))\n",
    "        polarity = testimonial.sentiment.polarity\n",
    "        polarities.append(polarity)\n",
    "        # subjectivity = testimonial.sentiment.subjectivity\n",
    "        # subj.append(subjectivity)\n",
    "    \n",
    "    df['textblob_polarity'] = polarities\n",
    "    # df['textblob_subjectivity'] = subj\n",
    "    \n",
    "    return df\n",
    "    "
   ]
  },
  {
   "cell_type": "code",
   "execution_count": 48,
   "metadata": {},
   "outputs": [],
   "source": [
    "tweets_df = get_textblob_sentiment(tweets_df)"
   ]
  },
  {
   "cell_type": "code",
   "execution_count": 49,
   "metadata": {},
   "outputs": [],
   "source": [
    "def get_nltk_sentiment(df):\n",
    "    sia  = SentimentIntensityAnalyzer()\n",
    "    compound = list()\n",
    "    for tweets in df.loc[:,'text']:\n",
    "        try:\n",
    "            compound.append(sia.polarity_scores(tweets)['compound'])\n",
    "        except:\n",
    "            compound.append(-100)\n",
    "    df['nltk_compound'] = compound\n",
    "    return df"
   ]
  },
  {
   "cell_type": "code",
   "execution_count": 50,
   "metadata": {},
   "outputs": [],
   "source": [
    "tweets_df = get_nltk_sentiment(tweets_df)"
   ]
  },
  {
   "cell_type": "code",
   "execution_count": 51,
   "metadata": {},
   "outputs": [],
   "source": [
    "def get_avg_sentiment(df):\n",
    "    df['avg_sentiment'] = (df['textblob_polarity'] + df['nltk_compound'])/2\n",
    "    return df"
   ]
  },
  {
   "cell_type": "code",
   "execution_count": 52,
   "metadata": {},
   "outputs": [],
   "source": [
    "tweets_df = get_avg_sentiment(tweets_df)"
   ]
  },
  {
   "cell_type": "code",
   "execution_count": 53,
   "metadata": {},
   "outputs": [],
   "source": [
    "def get_textblob_sentiment_label(df):\n",
    "    sentiment = list()\n",
    "    for polarity in df.loc[:,'textblob_polarity']:\n",
    "        if polarity > 0:\n",
    "            sentiment.append(1)\n",
    "        elif polarity == 0:\n",
    "            sentiment.append(0)\n",
    "        else:\n",
    "            sentiment.append(-1)\n",
    "    \n",
    "    df['textblob_sentiment'] = sentiment\n",
    "    \n",
    "    return df"
   ]
  },
  {
   "cell_type": "code",
   "execution_count": 54,
   "metadata": {},
   "outputs": [],
   "source": [
    "tweets_df = get_textblob_sentiment_label(tweets_df)"
   ]
  },
  {
   "cell_type": "code",
   "execution_count": 55,
   "metadata": {},
   "outputs": [],
   "source": [
    "def get_nltk_label_sentiment(df):\n",
    "    sentiment = list()\n",
    "    for compound in df.loc[:,'nltk_compound']:\n",
    "        if compound == -100:\n",
    "            sentiment.append(np.nan)\n",
    "        elif compound > 0:\n",
    "            sentiment.append(1)\n",
    "        elif compound == 0:\n",
    "            sentiment.append(0)\n",
    "        else:\n",
    "            sentiment.append(-1)\n",
    "    \n",
    "    df['nltk_sentiment'] = sentiment\n",
    "    return df"
   ]
  },
  {
   "cell_type": "code",
   "execution_count": 56,
   "metadata": {},
   "outputs": [],
   "source": [
    "tweets_df = get_nltk_label_sentiment(tweets_df)"
   ]
  },
  {
   "cell_type": "code",
   "execution_count": 57,
   "metadata": {},
   "outputs": [],
   "source": [
    "def get_avg_label_sentiment(df):\n",
    "    sentiment = list()\n",
    "    for compound in df.loc[:,'avg_sentiment']:\n",
    "        if compound > 0:\n",
    "            sentiment.append(1)\n",
    "        elif compound == 0:\n",
    "            sentiment.append(0)\n",
    "        else:\n",
    "            sentiment.append(-1)\n",
    "    \n",
    "    df['avg_sentiment'] = sentiment\n",
    "    return df"
   ]
  },
  {
   "cell_type": "code",
   "execution_count": 58,
   "metadata": {},
   "outputs": [],
   "source": [
    "tweets_df = get_avg_label_sentiment(tweets_df)"
   ]
  },
  {
   "cell_type": "code",
   "execution_count": 59,
   "metadata": {},
   "outputs": [
    {
     "data": {
      "text/html": [
       "<div>\n",
       "<style scoped>\n",
       "    .dataframe tbody tr th:only-of-type {\n",
       "        vertical-align: middle;\n",
       "    }\n",
       "\n",
       "    .dataframe tbody tr th {\n",
       "        vertical-align: top;\n",
       "    }\n",
       "\n",
       "    .dataframe thead th {\n",
       "        text-align: right;\n",
       "    }\n",
       "</style>\n",
       "<table border=\"1\" class=\"dataframe\">\n",
       "  <thead>\n",
       "    <tr style=\"text-align: right;\">\n",
       "      <th></th>\n",
       "      <th>user_id</th>\n",
       "      <th>tweet_id</th>\n",
       "      <th>username</th>\n",
       "      <th>location</th>\n",
       "      <th>following</th>\n",
       "      <th>followers</th>\n",
       "      <th>twt_created_at</th>\n",
       "      <th>total_tweets</th>\n",
       "      <th>retweet_count</th>\n",
       "      <th>text</th>\n",
       "      <th>hashtags</th>\n",
       "      <th>mentions</th>\n",
       "      <th>textblob_polarity</th>\n",
       "      <th>nltk_compound</th>\n",
       "      <th>avg_sentiment</th>\n",
       "      <th>textblob_sentiment</th>\n",
       "      <th>nltk_sentiment</th>\n",
       "    </tr>\n",
       "  </thead>\n",
       "  <tbody>\n",
       "    <tr>\n",
       "      <th>0</th>\n",
       "      <td>2</td>\n",
       "      <td>2</td>\n",
       "      <td>pspatilsbi</td>\n",
       "      <td>Bangalore</td>\n",
       "      <td>325</td>\n",
       "      <td>25</td>\n",
       "      <td>2022-11-08 22:08:44+00:00</td>\n",
       "      <td>2704</td>\n",
       "      <td>0</td>\n",
       "      <td>agenda great old god blees end</td>\n",
       "      <td>[]</td>\n",
       "      <td>[{'screen_name': 'INCIndia', 'name': 'Congress...</td>\n",
       "      <td>0.450000</td>\n",
       "      <td>0.7351</td>\n",
       "      <td>1</td>\n",
       "      <td>1</td>\n",
       "      <td>1</td>\n",
       "    </tr>\n",
       "    <tr>\n",
       "      <th>1</th>\n",
       "      <td>3</td>\n",
       "      <td>3</td>\n",
       "      <td>ththegde</td>\n",
       "      <td>Kandivali East, Mumbai</td>\n",
       "      <td>582</td>\n",
       "      <td>57</td>\n",
       "      <td>2022-11-08 22:00:49+00:00</td>\n",
       "      <td>1969</td>\n",
       "      <td>0</td>\n",
       "      <td>please allow citizen buy forex investment like...</td>\n",
       "      <td>[]</td>\n",
       "      <td>[{'screen_name': 'PMOIndia', 'name': 'PMO Indi...</td>\n",
       "      <td>0.000000</td>\n",
       "      <td>0.8020</td>\n",
       "      <td>1</td>\n",
       "      <td>0</td>\n",
       "      <td>1</td>\n",
       "    </tr>\n",
       "    <tr>\n",
       "      <th>2</th>\n",
       "      <td>5</td>\n",
       "      <td>5</td>\n",
       "      <td>rupz_boruah</td>\n",
       "      <td>Chabua, India</td>\n",
       "      <td>14</td>\n",
       "      <td>33</td>\n",
       "      <td>2022-11-08 21:54:37+00:00</td>\n",
       "      <td>309</td>\n",
       "      <td>0</td>\n",
       "      <td>please take necessary action neurologist amc d...</td>\n",
       "      <td>[{'text': 'Dr_Dhrubajyoti_Kurmi', 'indices': [...</td>\n",
       "      <td>[{'screen_name': 'MoHFW_INDIA', 'name': 'Minis...</td>\n",
       "      <td>0.033333</td>\n",
       "      <td>0.6369</td>\n",
       "      <td>1</td>\n",
       "      <td>1</td>\n",
       "      <td>1</td>\n",
       "    </tr>\n",
       "    <tr>\n",
       "      <th>3</th>\n",
       "      <td>8</td>\n",
       "      <td>8</td>\n",
       "      <td>lazizpizza99</td>\n",
       "      <td>Jasola Vihar, New Delhi</td>\n",
       "      <td>23</td>\n",
       "      <td>1</td>\n",
       "      <td>2022-11-08 21:28:48+00:00</td>\n",
       "      <td>6</td>\n",
       "      <td>0</td>\n",
       "      <td>sleeping suddenly bed start shaking ignored ke...</td>\n",
       "      <td>[{'text': 'peace', 'indices': [231, 237]}, {'t...</td>\n",
       "      <td>[{'screen_name': 'LtGovDelhi', 'name': 'LG Del...</td>\n",
       "      <td>0.198333</td>\n",
       "      <td>0.6597</td>\n",
       "      <td>1</td>\n",
       "      <td>1</td>\n",
       "      <td>1</td>\n",
       "    </tr>\n",
       "    <tr>\n",
       "      <th>4</th>\n",
       "      <td>11</td>\n",
       "      <td>11</td>\n",
       "      <td>UtkarshMishra_9</td>\n",
       "      <td>Noida, India</td>\n",
       "      <td>707</td>\n",
       "      <td>1122</td>\n",
       "      <td>2022-11-08 21:14:55+00:00</td>\n",
       "      <td>5764</td>\n",
       "      <td>0</td>\n",
       "      <td>estimated magnitude earthquake affected countr...</td>\n",
       "      <td>[{'text': 'earthquake', 'indices': [137, 148]}...</td>\n",
       "      <td>[{'screen_name': 'ANI', 'name': 'ANI', 'id': 3...</td>\n",
       "      <td>0.000000</td>\n",
       "      <td>-0.1531</td>\n",
       "      <td>-1</td>\n",
       "      <td>0</td>\n",
       "      <td>-1</td>\n",
       "    </tr>\n",
       "  </tbody>\n",
       "</table>\n",
       "</div>"
      ],
      "text/plain": [
       "   user_id  tweet_id         username                 location  following  \\\n",
       "0        2         2       pspatilsbi               Bangalore         325   \n",
       "1        3         3         ththegde   Kandivali East, Mumbai        582   \n",
       "2        5         5      rupz_boruah            Chabua, India         14   \n",
       "3        8         8     lazizpizza99  Jasola Vihar, New Delhi         23   \n",
       "4       11        11  UtkarshMishra_9             Noida, India        707   \n",
       "\n",
       "   followers             twt_created_at  total_tweets  retweet_count  \\\n",
       "0         25  2022-11-08 22:08:44+00:00          2704              0   \n",
       "1         57  2022-11-08 22:00:49+00:00          1969              0   \n",
       "2         33  2022-11-08 21:54:37+00:00           309              0   \n",
       "3          1  2022-11-08 21:28:48+00:00             6              0   \n",
       "4       1122  2022-11-08 21:14:55+00:00          5764              0   \n",
       "\n",
       "                                                text  \\\n",
       "0                     agenda great old god blees end   \n",
       "1  please allow citizen buy forex investment like...   \n",
       "2  please take necessary action neurologist amc d...   \n",
       "3  sleeping suddenly bed start shaking ignored ke...   \n",
       "4  estimated magnitude earthquake affected countr...   \n",
       "\n",
       "                                            hashtags  \\\n",
       "0                                                 []   \n",
       "1                                                 []   \n",
       "2  [{'text': 'Dr_Dhrubajyoti_Kurmi', 'indices': [...   \n",
       "3  [{'text': 'peace', 'indices': [231, 237]}, {'t...   \n",
       "4  [{'text': 'earthquake', 'indices': [137, 148]}...   \n",
       "\n",
       "                                            mentions  textblob_polarity  \\\n",
       "0  [{'screen_name': 'INCIndia', 'name': 'Congress...           0.450000   \n",
       "1  [{'screen_name': 'PMOIndia', 'name': 'PMO Indi...           0.000000   \n",
       "2  [{'screen_name': 'MoHFW_INDIA', 'name': 'Minis...           0.033333   \n",
       "3  [{'screen_name': 'LtGovDelhi', 'name': 'LG Del...           0.198333   \n",
       "4  [{'screen_name': 'ANI', 'name': 'ANI', 'id': 3...           0.000000   \n",
       "\n",
       "   nltk_compound  avg_sentiment  textblob_sentiment  nltk_sentiment  \n",
       "0         0.7351              1                   1               1  \n",
       "1         0.8020              1                   0               1  \n",
       "2         0.6369              1                   1               1  \n",
       "3         0.6597              1                   1               1  \n",
       "4        -0.1531             -1                   0              -1  "
      ]
     },
     "execution_count": 59,
     "metadata": {},
     "output_type": "execute_result"
    }
   ],
   "source": [
    "tweets_df.head()"
   ]
  },
  {
   "cell_type": "code",
   "execution_count": 60,
   "metadata": {},
   "outputs": [],
   "source": [
    "tweets_df.to_csv('/Users/arjunkhanchandani/Desktop/twitter_data_analysis-main/data/final_sentiment_analysis.csv')"
   ]
  },
  {
   "cell_type": "code",
   "execution_count": 61,
   "metadata": {},
   "outputs": [
    {
     "data": {
      "text/plain": [
       " 1    321\n",
       "-1    187\n",
       " 0    150\n",
       "Name: textblob_sentiment, dtype: int64"
      ]
     },
     "execution_count": 61,
     "metadata": {},
     "output_type": "execute_result"
    }
   ],
   "source": [
    "tweets_df['textblob_sentiment'].value_counts()"
   ]
  },
  {
   "cell_type": "code",
   "execution_count": 62,
   "metadata": {},
   "outputs": [
    {
     "data": {
      "text/plain": [
       " 1    389\n",
       "-1    181\n",
       " 0     88\n",
       "Name: nltk_sentiment, dtype: int64"
      ]
     },
     "execution_count": 62,
     "metadata": {},
     "output_type": "execute_result"
    }
   ],
   "source": [
    "tweets_df['nltk_sentiment'].value_counts()"
   ]
  },
  {
   "cell_type": "code",
   "execution_count": 63,
   "metadata": {},
   "outputs": [
    {
     "data": {
      "text/plain": [
       " 1    421\n",
       "-1    198\n",
       " 0     39\n",
       "Name: avg_sentiment, dtype: int64"
      ]
     },
     "execution_count": 63,
     "metadata": {},
     "output_type": "execute_result"
    }
   ],
   "source": [
    "tweets_df['avg_sentiment'].value_counts()"
   ]
  }
 ],
 "metadata": {
  "kernelspec": {
   "display_name": "Python 3.10.4 64-bit",
   "language": "python",
   "name": "python3"
  },
  "language_info": {
   "codemirror_mode": {
    "name": "ipython",
    "version": 3
   },
   "file_extension": ".py",
   "mimetype": "text/x-python",
   "name": "python",
   "nbconvert_exporter": "python",
   "pygments_lexer": "ipython3",
   "version": "3.10.0"
  },
  "orig_nbformat": 4,
  "vscode": {
   "interpreter": {
    "hash": "aee8b7b246df8f9039afb4144a1f6fd8d2ca17a180786b69acc140d282b71a49"
   }
  }
 },
 "nbformat": 4,
 "nbformat_minor": 2
}
