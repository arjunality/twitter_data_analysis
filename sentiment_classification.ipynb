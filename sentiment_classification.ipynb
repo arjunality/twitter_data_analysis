{
 "cells": [
  {
   "cell_type": "code",
   "execution_count": 1,
   "metadata": {},
   "outputs": [
    {
     "name": "stderr",
     "output_type": "stream",
     "text": [
      "[nltk_data] Downloading package vader_lexicon to\n",
      "[nltk_data]     /Users/nitanshjain/nltk_data...\n",
      "[nltk_data]   Package vader_lexicon is already up-to-date!\n"
     ]
    },
    {
     "data": {
      "text/plain": [
       "True"
      ]
     },
     "execution_count": 1,
     "metadata": {},
     "output_type": "execute_result"
    }
   ],
   "source": [
    "import pandas as pd\n",
    "import numpy as np\n",
    "import matplotlib.pyplot as plt\n",
    "import seaborn as sns\n",
    "\n",
    "import nltk\n",
    "from nltk.sentiment import SentimentIntensityAnalyzer\n",
    "import textblob\n",
    "\n",
    "nltk.download('vader_lexicon')"
   ]
  },
  {
   "cell_type": "code",
   "execution_count": 2,
   "metadata": {},
   "outputs": [
    {
     "data": {
      "text/html": [
       "<div>\n",
       "<style scoped>\n",
       "    .dataframe tbody tr th:only-of-type {\n",
       "        vertical-align: middle;\n",
       "    }\n",
       "\n",
       "    .dataframe tbody tr th {\n",
       "        vertical-align: top;\n",
       "    }\n",
       "\n",
       "    .dataframe thead th {\n",
       "        text-align: right;\n",
       "    }\n",
       "</style>\n",
       "<table border=\"1\" class=\"dataframe\">\n",
       "  <thead>\n",
       "    <tr style=\"text-align: right;\">\n",
       "      <th></th>\n",
       "      <th>user_id</th>\n",
       "      <th>tweet_id</th>\n",
       "      <th>username</th>\n",
       "      <th>location</th>\n",
       "      <th>following</th>\n",
       "      <th>followers</th>\n",
       "      <th>twt_created_at</th>\n",
       "      <th>total_tweets</th>\n",
       "      <th>retweet_count</th>\n",
       "      <th>text</th>\n",
       "      <th>hashtags</th>\n",
       "      <th>mentions</th>\n",
       "      <th>tweet_id_dup</th>\n",
       "    </tr>\n",
       "  </thead>\n",
       "  <tbody>\n",
       "    <tr>\n",
       "      <th>0</th>\n",
       "      <td>1.113370e+18</td>\n",
       "      <td>1.589270e+18</td>\n",
       "      <td>LifestyleVishnu</td>\n",
       "      <td>Ambikapur, India</td>\n",
       "      <td>304</td>\n",
       "      <td>286</td>\n",
       "      <td>2022-11-06 15:04:46+00:00</td>\n",
       "      <td>5764</td>\n",
       "      <td>0</td>\n",
       "      <td>india demanding arrest deepak chaurasia pocso ...</td>\n",
       "      <td>[{'text': 'NoActionOnArrestWarrant', 'indices'...</td>\n",
       "      <td>[{'screen_name': 'AjayHimatlal', 'name': 'Ajay...</td>\n",
       "      <td>1.589273e+18</td>\n",
       "    </tr>\n",
       "    <tr>\n",
       "      <th>1</th>\n",
       "      <td>2.249900e+09</td>\n",
       "      <td>1.589270e+18</td>\n",
       "      <td>prkgarg</td>\n",
       "      <td>GLOBE</td>\n",
       "      <td>709</td>\n",
       "      <td>203</td>\n",
       "      <td>2022-11-06 15:04:40+00:00</td>\n",
       "      <td>24799</td>\n",
       "      <td>0</td>\n",
       "      <td>get vote gujarat soon entire gang jail looting...</td>\n",
       "      <td>[]</td>\n",
       "      <td>[{'screen_name': 'ArvindKejriwal', 'name': 'Ar...</td>\n",
       "      <td>1.589273e+18</td>\n",
       "    </tr>\n",
       "    <tr>\n",
       "      <th>2</th>\n",
       "      <td>7.808170e+17</td>\n",
       "      <td>1.589270e+18</td>\n",
       "      <td>SunilBhatM</td>\n",
       "      <td>New Delhi, India</td>\n",
       "      <td>930</td>\n",
       "      <td>2284</td>\n",
       "      <td>2022-11-06 15:04:38+00:00</td>\n",
       "      <td>8235</td>\n",
       "      <td>0</td>\n",
       "      <td>magnificent visited pradhan manthri sangrahala...</td>\n",
       "      <td>[]</td>\n",
       "      <td>[{'screen_name': 'narendramodi', 'name': 'Nare...</td>\n",
       "      <td>1.589273e+18</td>\n",
       "    </tr>\n",
       "    <tr>\n",
       "      <th>3</th>\n",
       "      <td>1.388460e+18</td>\n",
       "      <td>1.589270e+18</td>\n",
       "      <td>veerappavenkap1</td>\n",
       "      <td>Bengaluru, India</td>\n",
       "      <td>4924</td>\n",
       "      <td>5453</td>\n",
       "      <td>2022-11-06 15:03:55+00:00</td>\n",
       "      <td>53735</td>\n",
       "      <td>0</td>\n",
       "      <td>almost year bjp ruled gujarat chacha still tal...</td>\n",
       "      <td>[]</td>\n",
       "      <td>[{'screen_name': 'PTI_News', 'name': 'Press Tr...</td>\n",
       "      <td>1.589272e+18</td>\n",
       "    </tr>\n",
       "    <tr>\n",
       "      <th>4</th>\n",
       "      <td>1.469320e+18</td>\n",
       "      <td>1.589270e+18</td>\n",
       "      <td>MukeshS68108786</td>\n",
       "      <td>NaN</td>\n",
       "      <td>173</td>\n",
       "      <td>903</td>\n",
       "      <td>2022-11-06 15:00:20+00:00</td>\n",
       "      <td>14241</td>\n",
       "      <td>2</td>\n",
       "      <td>time gurugram police come action money minded ...</td>\n",
       "      <td>[{'text': 'NoActionOnArrestWarrant', 'indices'...</td>\n",
       "      <td>[{'screen_name': 'AJAYGUP69169747', 'name': 'A...</td>\n",
       "      <td>1.589271e+18</td>\n",
       "    </tr>\n",
       "  </tbody>\n",
       "</table>\n",
       "</div>"
      ],
      "text/plain": [
       "        user_id      tweet_id         username          location  following  \\\n",
       "0  1.113370e+18  1.589270e+18  LifestyleVishnu  Ambikapur, India        304   \n",
       "1  2.249900e+09  1.589270e+18          prkgarg             GLOBE        709   \n",
       "2  7.808170e+17  1.589270e+18       SunilBhatM  New Delhi, India        930   \n",
       "3  1.388460e+18  1.589270e+18  veerappavenkap1  Bengaluru, India       4924   \n",
       "4  1.469320e+18  1.589270e+18  MukeshS68108786               NaN        173   \n",
       "\n",
       "   followers             twt_created_at  total_tweets  retweet_count  \\\n",
       "0        286  2022-11-06 15:04:46+00:00          5764              0   \n",
       "1        203  2022-11-06 15:04:40+00:00         24799              0   \n",
       "2       2284  2022-11-06 15:04:38+00:00          8235              0   \n",
       "3       5453  2022-11-06 15:03:55+00:00         53735              0   \n",
       "4        903  2022-11-06 15:00:20+00:00         14241              2   \n",
       "\n",
       "                                                text  \\\n",
       "0  india demanding arrest deepak chaurasia pocso ...   \n",
       "1  get vote gujarat soon entire gang jail looting...   \n",
       "2  magnificent visited pradhan manthri sangrahala...   \n",
       "3  almost year bjp ruled gujarat chacha still tal...   \n",
       "4  time gurugram police come action money minded ...   \n",
       "\n",
       "                                            hashtags  \\\n",
       "0  [{'text': 'NoActionOnArrestWarrant', 'indices'...   \n",
       "1                                                 []   \n",
       "2                                                 []   \n",
       "3                                                 []   \n",
       "4  [{'text': 'NoActionOnArrestWarrant', 'indices'...   \n",
       "\n",
       "                                            mentions  tweet_id_dup  \n",
       "0  [{'screen_name': 'AjayHimatlal', 'name': 'Ajay...  1.589273e+18  \n",
       "1  [{'screen_name': 'ArvindKejriwal', 'name': 'Ar...  1.589273e+18  \n",
       "2  [{'screen_name': 'narendramodi', 'name': 'Nare...  1.589273e+18  \n",
       "3  [{'screen_name': 'PTI_News', 'name': 'Press Tr...  1.589272e+18  \n",
       "4  [{'screen_name': 'AJAYGUP69169747', 'name': 'A...  1.589271e+18  "
      ]
     },
     "execution_count": 2,
     "metadata": {},
     "output_type": "execute_result"
    }
   ],
   "source": [
    "tweets_df = pd.read_csv('/Users/nitanshjain/Documents/Thapar 4th Sem/Machine Learing/Machine_Learning_Project/data/tweets_preprocessed_1.csv')\n",
    "tweets_df.head()"
   ]
  },
  {
   "cell_type": "code",
   "execution_count": 3,
   "metadata": {},
   "outputs": [],
   "source": [
    "def get_textblob_sentiment(df):\n",
    "    polarities = list()\n",
    "    # subj = list()\n",
    "    for tweets in df.loc[:,'text']:\n",
    "        # print(type(tweets))\n",
    "        testimonial = textblob.TextBlob(str(tweets))\n",
    "        polarity = testimonial.sentiment.polarity\n",
    "        polarities.append(polarity)\n",
    "        # subjectivity = testimonial.sentiment.subjectivity\n",
    "        # subj.append(subjectivity)\n",
    "    \n",
    "    df['textblob_polarity'] = polarities\n",
    "    # df['textblob_subjectivity'] = subj\n",
    "    \n",
    "    return df\n",
    "    "
   ]
  },
  {
   "cell_type": "code",
   "execution_count": 4,
   "metadata": {},
   "outputs": [],
   "source": [
    "tweets_df = get_textblob_sentiment(tweets_df)"
   ]
  },
  {
   "cell_type": "code",
   "execution_count": 5,
   "metadata": {},
   "outputs": [],
   "source": [
    "def get_nltk_sentiment(df):\n",
    "    sia  = SentimentIntensityAnalyzer()\n",
    "    compound = list()\n",
    "    for tweets in df.loc[:,'text']:\n",
    "        try:\n",
    "            compound.append(sia.polarity_scores(tweets)['compound'])\n",
    "        except:\n",
    "            compound.append(-100)\n",
    "    df['nltk_compound'] = compound\n",
    "    return df"
   ]
  },
  {
   "cell_type": "code",
   "execution_count": 6,
   "metadata": {},
   "outputs": [],
   "source": [
    "tweets_df = get_nltk_sentiment(tweets_df)"
   ]
  },
  {
   "cell_type": "code",
   "execution_count": 7,
   "metadata": {},
   "outputs": [],
   "source": [
    "def get_avg_sentiment(df):\n",
    "    df['avg_sentiment'] = (df['textblob_polarity'] + df['nltk_compound'])/2\n",
    "    return df"
   ]
  },
  {
   "cell_type": "code",
   "execution_count": 8,
   "metadata": {},
   "outputs": [],
   "source": [
    "tweets_df = get_avg_sentiment(tweets_df)"
   ]
  },
  {
   "cell_type": "code",
   "execution_count": 9,
   "metadata": {},
   "outputs": [],
   "source": [
    "def get_textblob_sentiment_label(df):\n",
    "    sentiment = list()\n",
    "    for polarity in df.loc[:,'textblob_polarity']:\n",
    "        if polarity > 0:\n",
    "            sentiment.append(1)\n",
    "        elif polarity == 0:\n",
    "            sentiment.append(0)\n",
    "        else:\n",
    "            sentiment.append(-1)\n",
    "    \n",
    "    df['textblob_sentiment'] = sentiment\n",
    "    \n",
    "    return df"
   ]
  },
  {
   "cell_type": "code",
   "execution_count": 10,
   "metadata": {},
   "outputs": [],
   "source": [
    "tweets_df = get_textblob_sentiment_label(tweets_df)"
   ]
  },
  {
   "cell_type": "code",
   "execution_count": 11,
   "metadata": {},
   "outputs": [],
   "source": [
    "def get_nltk_label_sentiment(df):\n",
    "    sentiment = list()\n",
    "    for compound in df.loc[:,'nltk_compound']:\n",
    "        if compound == -100:\n",
    "            sentiment.append(np.nan)\n",
    "        elif compound > 0:\n",
    "            sentiment.append(1)\n",
    "        elif compound == 0:\n",
    "            sentiment.append(0)\n",
    "        else:\n",
    "            sentiment.append(-1)\n",
    "    \n",
    "    df['nltk_sentiment'] = sentiment\n",
    "    return df"
   ]
  },
  {
   "cell_type": "code",
   "execution_count": 12,
   "metadata": {},
   "outputs": [],
   "source": [
    "tweets_df = get_nltk_label_sentiment(tweets_df)"
   ]
  },
  {
   "cell_type": "code",
   "execution_count": 13,
   "metadata": {},
   "outputs": [],
   "source": [
    "def get_avg_label_sentiment(df):\n",
    "    sentiment = list()\n",
    "    for compound in df.loc[:,'avg_sentiment']:\n",
    "        if compound > 0:\n",
    "            sentiment.append(1)\n",
    "        elif compound == 0:\n",
    "            sentiment.append(0)\n",
    "        else:\n",
    "            sentiment.append(-1)\n",
    "    \n",
    "    df['avg_sentiment'] = sentiment\n",
    "    return df"
   ]
  },
  {
   "cell_type": "code",
   "execution_count": 14,
   "metadata": {},
   "outputs": [],
   "source": [
    "tweets_df = get_avg_label_sentiment(tweets_df)"
   ]
  },
  {
   "cell_type": "code",
   "execution_count": 15,
   "metadata": {},
   "outputs": [
    {
     "data": {
      "text/html": [
       "<div>\n",
       "<style scoped>\n",
       "    .dataframe tbody tr th:only-of-type {\n",
       "        vertical-align: middle;\n",
       "    }\n",
       "\n",
       "    .dataframe tbody tr th {\n",
       "        vertical-align: top;\n",
       "    }\n",
       "\n",
       "    .dataframe thead th {\n",
       "        text-align: right;\n",
       "    }\n",
       "</style>\n",
       "<table border=\"1\" class=\"dataframe\">\n",
       "  <thead>\n",
       "    <tr style=\"text-align: right;\">\n",
       "      <th></th>\n",
       "      <th>user_id</th>\n",
       "      <th>tweet_id</th>\n",
       "      <th>username</th>\n",
       "      <th>location</th>\n",
       "      <th>following</th>\n",
       "      <th>followers</th>\n",
       "      <th>twt_created_at</th>\n",
       "      <th>total_tweets</th>\n",
       "      <th>retweet_count</th>\n",
       "      <th>text</th>\n",
       "      <th>hashtags</th>\n",
       "      <th>mentions</th>\n",
       "      <th>tweet_id_dup</th>\n",
       "      <th>textblob_polarity</th>\n",
       "      <th>nltk_compound</th>\n",
       "      <th>avg_sentiment</th>\n",
       "      <th>textblob_sentiment</th>\n",
       "      <th>nltk_sentiment</th>\n",
       "    </tr>\n",
       "  </thead>\n",
       "  <tbody>\n",
       "    <tr>\n",
       "      <th>0</th>\n",
       "      <td>1.113370e+18</td>\n",
       "      <td>1.589270e+18</td>\n",
       "      <td>LifestyleVishnu</td>\n",
       "      <td>Ambikapur, India</td>\n",
       "      <td>304</td>\n",
       "      <td>286</td>\n",
       "      <td>2022-11-06 15:04:46+00:00</td>\n",
       "      <td>5764</td>\n",
       "      <td>0</td>\n",
       "      <td>india demanding arrest deepak chaurasia pocso ...</td>\n",
       "      <td>[{'text': 'NoActionOnArrestWarrant', 'indices'...</td>\n",
       "      <td>[{'screen_name': 'AjayHimatlal', 'name': 'Ajay...</td>\n",
       "      <td>1.589273e+18</td>\n",
       "      <td>-0.050000</td>\n",
       "      <td>-0.8750</td>\n",
       "      <td>-1</td>\n",
       "      <td>-1</td>\n",
       "      <td>-1</td>\n",
       "    </tr>\n",
       "    <tr>\n",
       "      <th>1</th>\n",
       "      <td>2.249900e+09</td>\n",
       "      <td>1.589270e+18</td>\n",
       "      <td>prkgarg</td>\n",
       "      <td>GLOBE</td>\n",
       "      <td>709</td>\n",
       "      <td>203</td>\n",
       "      <td>2022-11-06 15:04:40+00:00</td>\n",
       "      <td>24799</td>\n",
       "      <td>0</td>\n",
       "      <td>get vote gujarat soon entire gang jail looting...</td>\n",
       "      <td>[]</td>\n",
       "      <td>[{'screen_name': 'ArvindKejriwal', 'name': 'Ar...</td>\n",
       "      <td>1.589273e+18</td>\n",
       "      <td>-0.050000</td>\n",
       "      <td>0.0000</td>\n",
       "      <td>-1</td>\n",
       "      <td>-1</td>\n",
       "      <td>0</td>\n",
       "    </tr>\n",
       "    <tr>\n",
       "      <th>2</th>\n",
       "      <td>7.808170e+17</td>\n",
       "      <td>1.589270e+18</td>\n",
       "      <td>SunilBhatM</td>\n",
       "      <td>New Delhi, India</td>\n",
       "      <td>930</td>\n",
       "      <td>2284</td>\n",
       "      <td>2022-11-06 15:04:38+00:00</td>\n",
       "      <td>8235</td>\n",
       "      <td>0</td>\n",
       "      <td>magnificent visited pradhan manthri sangrahala...</td>\n",
       "      <td>[]</td>\n",
       "      <td>[{'screen_name': 'narendramodi', 'name': 'Nare...</td>\n",
       "      <td>1.589273e+18</td>\n",
       "      <td>0.386667</td>\n",
       "      <td>0.8807</td>\n",
       "      <td>1</td>\n",
       "      <td>1</td>\n",
       "      <td>1</td>\n",
       "    </tr>\n",
       "    <tr>\n",
       "      <th>3</th>\n",
       "      <td>1.388460e+18</td>\n",
       "      <td>1.589270e+18</td>\n",
       "      <td>veerappavenkap1</td>\n",
       "      <td>Bengaluru, India</td>\n",
       "      <td>4924</td>\n",
       "      <td>5453</td>\n",
       "      <td>2022-11-06 15:03:55+00:00</td>\n",
       "      <td>53735</td>\n",
       "      <td>0</td>\n",
       "      <td>almost year bjp ruled gujarat chacha still tal...</td>\n",
       "      <td>[]</td>\n",
       "      <td>[{'screen_name': 'PTI_News', 'name': 'Press Tr...</td>\n",
       "      <td>1.589272e+18</td>\n",
       "      <td>0.000000</td>\n",
       "      <td>0.0000</td>\n",
       "      <td>0</td>\n",
       "      <td>0</td>\n",
       "      <td>0</td>\n",
       "    </tr>\n",
       "    <tr>\n",
       "      <th>4</th>\n",
       "      <td>1.469320e+18</td>\n",
       "      <td>1.589270e+18</td>\n",
       "      <td>MukeshS68108786</td>\n",
       "      <td>NaN</td>\n",
       "      <td>173</td>\n",
       "      <td>903</td>\n",
       "      <td>2022-11-06 15:00:20+00:00</td>\n",
       "      <td>14241</td>\n",
       "      <td>2</td>\n",
       "      <td>time gurugram police come action money minded ...</td>\n",
       "      <td>[{'text': 'NoActionOnArrestWarrant', 'indices'...</td>\n",
       "      <td>[{'screen_name': 'AJAYGUP69169747', 'name': 'A...</td>\n",
       "      <td>1.589271e+18</td>\n",
       "      <td>0.183333</td>\n",
       "      <td>-0.6486</td>\n",
       "      <td>-1</td>\n",
       "      <td>1</td>\n",
       "      <td>-1</td>\n",
       "    </tr>\n",
       "  </tbody>\n",
       "</table>\n",
       "</div>"
      ],
      "text/plain": [
       "        user_id      tweet_id         username          location  following  \\\n",
       "0  1.113370e+18  1.589270e+18  LifestyleVishnu  Ambikapur, India        304   \n",
       "1  2.249900e+09  1.589270e+18          prkgarg             GLOBE        709   \n",
       "2  7.808170e+17  1.589270e+18       SunilBhatM  New Delhi, India        930   \n",
       "3  1.388460e+18  1.589270e+18  veerappavenkap1  Bengaluru, India       4924   \n",
       "4  1.469320e+18  1.589270e+18  MukeshS68108786               NaN        173   \n",
       "\n",
       "   followers             twt_created_at  total_tweets  retweet_count  \\\n",
       "0        286  2022-11-06 15:04:46+00:00          5764              0   \n",
       "1        203  2022-11-06 15:04:40+00:00         24799              0   \n",
       "2       2284  2022-11-06 15:04:38+00:00          8235              0   \n",
       "3       5453  2022-11-06 15:03:55+00:00         53735              0   \n",
       "4        903  2022-11-06 15:00:20+00:00         14241              2   \n",
       "\n",
       "                                                text  \\\n",
       "0  india demanding arrest deepak chaurasia pocso ...   \n",
       "1  get vote gujarat soon entire gang jail looting...   \n",
       "2  magnificent visited pradhan manthri sangrahala...   \n",
       "3  almost year bjp ruled gujarat chacha still tal...   \n",
       "4  time gurugram police come action money minded ...   \n",
       "\n",
       "                                            hashtags  \\\n",
       "0  [{'text': 'NoActionOnArrestWarrant', 'indices'...   \n",
       "1                                                 []   \n",
       "2                                                 []   \n",
       "3                                                 []   \n",
       "4  [{'text': 'NoActionOnArrestWarrant', 'indices'...   \n",
       "\n",
       "                                            mentions  tweet_id_dup  \\\n",
       "0  [{'screen_name': 'AjayHimatlal', 'name': 'Ajay...  1.589273e+18   \n",
       "1  [{'screen_name': 'ArvindKejriwal', 'name': 'Ar...  1.589273e+18   \n",
       "2  [{'screen_name': 'narendramodi', 'name': 'Nare...  1.589273e+18   \n",
       "3  [{'screen_name': 'PTI_News', 'name': 'Press Tr...  1.589272e+18   \n",
       "4  [{'screen_name': 'AJAYGUP69169747', 'name': 'A...  1.589271e+18   \n",
       "\n",
       "   textblob_polarity  nltk_compound  avg_sentiment  textblob_sentiment  \\\n",
       "0          -0.050000        -0.8750             -1                  -1   \n",
       "1          -0.050000         0.0000             -1                  -1   \n",
       "2           0.386667         0.8807              1                   1   \n",
       "3           0.000000         0.0000              0                   0   \n",
       "4           0.183333        -0.6486             -1                   1   \n",
       "\n",
       "   nltk_sentiment  \n",
       "0              -1  \n",
       "1               0  \n",
       "2               1  \n",
       "3               0  \n",
       "4              -1  "
      ]
     },
     "execution_count": 15,
     "metadata": {},
     "output_type": "execute_result"
    }
   ],
   "source": [
    "tweets_df.head()"
   ]
  },
  {
   "cell_type": "code",
   "execution_count": 16,
   "metadata": {},
   "outputs": [],
   "source": [
    "tweets_df.to_csv('/Users/nitanshjain/Documents/Thapar 4th Sem/Machine Learing/Machine_Learning_Project/data/sentiment.csv')"
   ]
  },
  {
   "cell_type": "code",
   "execution_count": 17,
   "metadata": {},
   "outputs": [
    {
     "data": {
      "text/plain": [
       " 1    705\n",
       " 0    465\n",
       "-1    404\n",
       "Name: textblob_sentiment, dtype: int64"
      ]
     },
     "execution_count": 17,
     "metadata": {},
     "output_type": "execute_result"
    }
   ],
   "source": [
    "tweets_df['textblob_sentiment'].value_counts()"
   ]
  },
  {
   "cell_type": "code",
   "execution_count": 18,
   "metadata": {},
   "outputs": [
    {
     "data": {
      "text/plain": [
       " 1    798\n",
       "-1    538\n",
       " 0    238\n",
       "Name: nltk_sentiment, dtype: int64"
      ]
     },
     "execution_count": 18,
     "metadata": {},
     "output_type": "execute_result"
    }
   ],
   "source": [
    "tweets_df['nltk_sentiment'].value_counts()"
   ]
  },
  {
   "cell_type": "code",
   "execution_count": 19,
   "metadata": {},
   "outputs": [
    {
     "data": {
      "text/plain": [
       " 1    861\n",
       "-1    580\n",
       " 0    133\n",
       "Name: avg_sentiment, dtype: int64"
      ]
     },
     "execution_count": 19,
     "metadata": {},
     "output_type": "execute_result"
    }
   ],
   "source": [
    "tweets_df['avg_sentiment'].value_counts()"
   ]
  }
 ],
 "metadata": {
  "kernelspec": {
   "display_name": "Python 3.10.4 64-bit",
   "language": "python",
   "name": "python3"
  },
  "language_info": {
   "codemirror_mode": {
    "name": "ipython",
    "version": 3
   },
   "file_extension": ".py",
   "mimetype": "text/x-python",
   "name": "python",
   "nbconvert_exporter": "python",
   "pygments_lexer": "ipython3",
   "version": "3.10.4"
  },
  "orig_nbformat": 4,
  "vscode": {
   "interpreter": {
    "hash": "aee8b7b246df8f9039afb4144a1f6fd8d2ca17a180786b69acc140d282b71a49"
   }
  }
 },
 "nbformat": 4,
 "nbformat_minor": 2
}
