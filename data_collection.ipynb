{
 "cells": [
  {
   "cell_type": "code",
   "execution_count": 27,
   "metadata": {},
   "outputs": [],
   "source": [
    "import os\n",
    "import tweepy\n",
    "from dotenv import load_dotenv\n",
    "import pandas as pd\n",
    "import numpy as np\n",
    "import time\n",
    "from datetime import datetime"
   ]
  },
  {
   "cell_type": "code",
   "execution_count": 28,
   "metadata": {},
   "outputs": [],
   "source": [
    "consumer_key = os.environ[\"TWITTER_API_KEY\"]\n",
    "consumer_secret = os.environ[\"TWITTER_API_KEY_SECRET\"]\n",
    "access_token = os.environ[\"TWITTER_ACCESS_TOKEN\"]\n",
    "access_token_secret = os.environ[\"TWITTER_ACCESS_TOKEN_SECRET\"]"
   ]
  },
  {
   "cell_type": "code",
   "execution_count": 29,
   "metadata": {},
   "outputs": [
    {
     "data": {
      "text/plain": [
       "<tweepy.api.API at 0x105dcbc10>"
      ]
     },
     "execution_count": 29,
     "metadata": {},
     "output_type": "execute_result"
    }
   ],
   "source": [
    "auth = tweepy.OAuth1UserHandler(\n",
    "    consumer_key, \n",
    "    consumer_secret,\n",
    "    access_token,\n",
    "    access_token_secret\n",
    "    )\n",
    "\n",
    "api = tweepy.API(auth)\n",
    "api\n"
   ]
  },
  {
   "cell_type": "code",
   "execution_count": 30,
   "metadata": {},
   "outputs": [],
   "source": [
    "me = api.verify_credentials()\n"
   ]
  },
  {
   "cell_type": "code",
   "execution_count": 31,
   "metadata": {},
   "outputs": [],
   "source": [
    "search_country = 'India'"
   ]
  },
  {
   "cell_type": "code",
   "execution_count": 32,
   "metadata": {},
   "outputs": [],
   "source": [
    "def scrape_tweets(search_words_list, date_since, date_until, num_tweets, num_runs, search_country):\n",
    "    \n",
    "    tweets_df = pd.DataFrame(columns = ['user_id', 'tweet_id', 'username', 'location', \n",
    "                                        'following', 'followers', 'twt_created_at', 'total_tweets', \n",
    "                                        'retweet_count', 'text', 'hashtags', 'mentions'])\n",
    "    \n",
    "    program_start = time.time()\n",
    "    \n",
    "    places = api.search_geo(query=search_country, granularity=\"country\")\n",
    "    place_id = places[0].id\n",
    "    count_num = 0\n",
    "    count_tweet = 0\n",
    "    for i in range(0, num_runs):\n",
    "        count_num+=1\n",
    "        \n",
    "        start_run = time.time()\n",
    "        \n",
    "        for search_words in search_words_list:\n",
    "            tweets = tweepy.Cursor(api.search_tweets, q=search_words + ' AND ' + (\"place:%s\" % place_id), lang='en', tweet_mode='extended').items(num_tweets)\n",
    "            print(\"count_num = \", count_num)\n",
    "            \n",
    "        \n",
    "            \n",
    "            tweet_list = [tweet for tweet in tweets]\n",
    "            print(len(tweet_list))\n",
    "            no_tweet = 0\n",
    "            # print(tweet_list)\n",
    "            for tweet in tweet_list:\n",
    "                # print(tweet.full_text)\n",
    "                count_tweet+=1\n",
    "                # print(tweet.created_at)\n",
    "                if tweet.created_at.date() < datetime.strptime(date_until, '%Y-%m-%d').date():\n",
    "                    # print(\"In here\")\n",
    "                    # print(\"In here\")\n",
    "                    user_id = tweet.user.id\n",
    "                    tweet_id = tweet.id\n",
    "                    username = tweet.user.screen_name\n",
    "                    # acctdesc = tweet.user.description\n",
    "                    location = tweet.user.location\n",
    "                    following = tweet.user.friends_count\n",
    "                    followers = tweet.user.followers_count\n",
    "                    twt_created_at = tweet.created_at\n",
    "                    total_tweets = tweet.user.statuses_count\n",
    "                    retweet_count = tweet.retweet_count\n",
    "                    hashtags = tweet.entities['hashtags']\n",
    "                    mentions = tweet.entities['user_mentions']\n",
    "                \n",
    "                    try:    \n",
    "                        text = tweet.retweeted_status.full_text\n",
    "                    except AttributeError:\n",
    "                        text = tweet.full_text\n",
    "                    # print(text)\n",
    "                    ith_tweet = [user_id, tweet_id, username, location, \n",
    "                                following, followers, twt_created_at ,total_tweets, \n",
    "                                retweet_count, text, hashtags, mentions]\n",
    "                    \n",
    "                    tweets_df.loc[len(tweets_df)] = ith_tweet\n",
    "            \n",
    "                    no_tweet += 1\n",
    "            print(\"count_tweet = \", count_tweet)\n",
    "            time.sleep(920)\n",
    "\n",
    "        end_run = time.time()\n",
    "        duration_run = round((end_run-start_run)/60, 2)\n",
    "        \n",
    "        print('Number of tweets scraped for run {} is {}'.format(i+1, no_tweet))\n",
    "        print('Time take for {} run to complete is {} mins'.format(i+1, duration_run))\n",
    "    \n",
    "    \n",
    "    to_csv_timestamp = datetime.today().strftime('%Y%m%d_%H%M%S')\n",
    "    \n",
    "    path = os.getcwd()\n",
    "    filename = path + '/data/' + to_csv_timestamp + '_tweets.csv'\n",
    "    tweets_df.to_csv(filename, index=False)\n",
    "    \n",
    "    program_end = time.time()\n",
    "    print('Scraping is completed.')    \n",
    "    print('Total time taken to scrape is {} minutes.'.format(round(program_end-program_start)/60, 2))\n",
    "    \n",
    "    return tweets_df\n",
    "    \n"
   ]
  },
  {
   "cell_type": "code",
   "execution_count": 33,
   "metadata": {},
   "outputs": [],
   "source": [
    "# search_queries = [\"hygienic OR medical OR lack OR facilities OR beds OR medicines OR hygienic OR hygiene OR #emergency OR #complaints OR #medicalnegligence OR #patientdeath OR @MoHFW_INDIA OR @PMOIndia OR @ArvindKejriwal OR @mansukhmandviya OR @ANI OR @PTI_News OR @narendramodi\"] "
   ]
  },
  {
   "cell_type": "code",
   "execution_count": 34,
   "metadata": {},
   "outputs": [],
   "source": [
    "search_words_list = [\"#malpractice OR #medicalcare OR #patientdeath OR #unionhealthministry OR #hospital OR @MoHFW_INDIA OR @PMOIndia OR @ArvindKejriwal OR @mansukhmandviya OR @ANI OR @PTI_News OR @narendramodi\",\n",
    "                    \"#mcdcomplaint OR #noaction OR #mcd311 OR @MCD_Delhi OR @LtGovDelhi OR @ArvindKejriwal OR @DCkpzon OR @HMOIndia OR @AshwaniKumar_92 OR @narendramodi OR @PMOIndia OR @DelhiComplaint OR @SBM_MCD OR medical+protest OR #MedTwitter\"]\n",
    "date_since = '2020-01-01'\n",
    "date_until = '2022-11-06'\n",
    "num_tweets = 500\n",
    "num_runs = 5\n",
    "time.sleep(920)\n",
    "scrape_tweets(search_words_list, date_since, date_until, num_tweets, num_runs, search_country)"
   ]
  },
  {
   "cell_type": "code",
   "execution_count": null,
   "metadata": {},
   "outputs": [],
   "source": [
    "# search_words = \"emergency OR complaints OR @narendramodi OR condition OR conditions\"\n",
    "\n",
    "# date_since = '2020-01-01'\n",
    "# date_until = '2022-01-01'\n",
    "# num_tweets = 2500\n",
    "# num_runs = 1\n",
    "# places = api.search_geo(query=search_country, granularity=\"country\")\n",
    "# place_id = places[0].id\n",
    "\n",
    "# scrape_tweets(search_words, date_since, date_until, num_tweets, num_runs, search_country, place_id)\n"
   ]
  }
 ],
 "metadata": {
  "kernelspec": {
   "display_name": "Python 3.10.4 64-bit",
   "language": "python",
   "name": "python3"
  },
  "language_info": {
   "codemirror_mode": {
    "name": "ipython",
    "version": 3
   },
   "file_extension": ".py",
   "mimetype": "text/x-python",
   "name": "python",
   "nbconvert_exporter": "python",
   "pygments_lexer": "ipython3",
   "version": "3.10.4"
  },
  "orig_nbformat": 4,
  "vscode": {
   "interpreter": {
    "hash": "aee8b7b246df8f9039afb4144a1f6fd8d2ca17a180786b69acc140d282b71a49"
   }
  }
 },
 "nbformat": 4,
 "nbformat_minor": 2
}
