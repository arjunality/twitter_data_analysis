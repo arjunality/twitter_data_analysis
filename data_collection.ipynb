{
 "cells": [
  {
   "cell_type": "code",
   "execution_count": 91,
   "metadata": {},
   "outputs": [],
   "source": [
    "import os\n",
    "import tweepy\n",
    "from dotenv import load_dotenv\n",
    "import pandas as pd\n",
    "import numpy as np\n",
    "import time\n",
    "from datetime import datetime"
   ]
  },
  {
   "cell_type": "code",
   "execution_count": 92,
   "metadata": {},
   "outputs": [],
   "source": [
    "consumer_key = os.environ[\"TWITTER_API_KEY\"]\n",
    "consumer_secret = os.environ[\"TWITTER_API_KEY_SECRET\"]\n",
    "access_token = os.environ[\"TWITTER_ACCESS_TOKEN\"]\n",
    "access_token_secret = os.environ[\"TWITTER_ACCESS_TOKEN_SECRET\"]"
   ]
  },
  {
   "cell_type": "code",
   "execution_count": 93,
   "metadata": {},
   "outputs": [
    {
     "data": {
      "text/plain": [
       "<tweepy.api.API at 0x12b0d9fc0>"
      ]
     },
     "execution_count": 93,
     "metadata": {},
     "output_type": "execute_result"
    }
   ],
   "source": [
    "auth = tweepy.OAuth1UserHandler(\n",
    "    consumer_key, \n",
    "    consumer_secret,\n",
    "    access_token,\n",
    "    access_token_secret\n",
    "    )\n",
    "\n",
    "api = tweepy.API(auth)\n",
    "api\n"
   ]
  },
  {
   "cell_type": "code",
   "execution_count": 94,
   "metadata": {},
   "outputs": [],
   "source": [
    "me = api.verify_credentials()\n",
    "# me\n"
   ]
  },
  {
   "cell_type": "code",
   "execution_count": 95,
   "metadata": {},
   "outputs": [],
   "source": [
    "search_country = 'India'"
   ]
  },
  {
   "cell_type": "code",
   "execution_count": 143,
   "metadata": {},
   "outputs": [],
   "source": [
    "def scrape_tweets(search_words, date_since, date_until, num_tweets, num_runs, search_country, place_id):\n",
    "    \n",
    "    tweets_df = pd.DataFrame(columns = ['user_id', 'tweet_id', 'username', 'location', \n",
    "                                        'following', 'followers', 'twt_created_at', 'total_tweets', \n",
    "                                        'retweet_count', 'text', 'hashtags', 'mentions'])\n",
    "    \n",
    "    program_start = time.time()\n",
    "    \n",
    "    \n",
    "    \n",
    "    for i in range(0, num_runs):\n",
    "        \n",
    "        start_run = time.time()\n",
    "        tweets = tweepy.Cursor(api.search_tweets, q=search_words + ' AND ' + (\"place:%s\" % place_id), lang='en', tweet_mode='extended').items(num_tweets)\n",
    "        \n",
    "    \n",
    "        \n",
    "        tweet_list = [tweet for tweet in tweets]\n",
    "\n",
    "        no_tweet = 0\n",
    "        \n",
    "        for tweet in tweet_list:\n",
    "            # print(datetime.strptime(str(tweet.created_at), '%Y-%m-%d'))\n",
    "            # print(tweet.created_at.date())\n",
    "            # print(tweet.created_at.date() > datetime.strptime(date_since, '%Y-%m-%d').date())\n",
    "            # print(tweet.created_at.date() < datetime.strptime(date_until, '%Y-%m-%d').date())\n",
    "            \n",
    "            \n",
    "            # print(type(tweet.created_at))\n",
    "            if tweet.created_at.date() <= datetime.strptime(date_until, '%Y-%m-%d').date():\n",
    "            # print(\"In here\")\n",
    "                user_id = tweet.user.id\n",
    "                tweet_id = tweet.id\n",
    "                username = tweet.user.screen_name\n",
    "                # acctdesc = tweet.user.description\n",
    "                location = tweet.user.location\n",
    "                following = tweet.user.friends_count\n",
    "                followers = tweet.user.followers_count\n",
    "                twt_created_at = tweet.created_at\n",
    "                total_tweets = tweet.user.statuses_count\n",
    "                retweet_count = tweet.retweet_count\n",
    "                hashtags = tweet.entities['hashtags']\n",
    "                mentions = tweet.entities['user_mentions']\n",
    "            \n",
    "                try:    \n",
    "                    text = tweet.retweeted_status.full_text\n",
    "                except AttributeError:\n",
    "                    text = tweet.full_text\n",
    "                    # print(text)\n",
    "                ith_tweet = [user_id, tweet_id, username, location, \n",
    "                            following, followers, twt_created_at ,total_tweets, \n",
    "                            retweet_count, text, hashtags, mentions]\n",
    "                \n",
    "                tweets_df.loc[len(tweets_df)] = ith_tweet\n",
    "        \n",
    "                no_tweet += 1\n",
    "        \n",
    "        end_run = time.time()\n",
    "        duration_run = round((end_run-start_run)/60, 2)\n",
    "        \n",
    "        print('Number of tweets scraped for run {} is {}'.format(i+1, no_tweet))\n",
    "        print('Time take for {} run to complete is {} mins'.format(i+1, duration_run))\n",
    "    \n",
    "        time.sleep(920)\n",
    "    \n",
    "    to_csv_timestamp = datetime.today().strftime('%Y%m%d_%H%M%S')\n",
    "    \n",
    "    path = os.getcwd()\n",
    "    filename = path + '/data/' + to_csv_timestamp + '_tweets.csv'\n",
    "    tweets_df.to_csv(filename, index=False)\n",
    "    \n",
    "    program_end = time.time()\n",
    "    print('Scraping is completed.')    \n",
    "    print('Total time taken to scrape is {} minutes.'.format(round(program_end-program_start)/60, 2))\n",
    "    \n",
    "    return tweets_df\n",
    "    \n"
   ]
  },
  {
   "cell_type": "code",
   "execution_count": 144,
   "metadata": {},
   "outputs": [
    {
     "name": "stdout",
     "output_type": "stream",
     "text": [
      "Number of tweets scraped for run 1 is 218\n",
      "Time take for 1 run to complete is 0.19 mins\n",
      "Number of tweets scraped for run 2 is 215\n",
      "Time take for 2 run to complete is 0.18 mins\n",
      "Number of tweets scraped for run 3 is 215\n",
      "Time take for 3 run to complete is 0.2 mins\n",
      "Number of tweets scraped for run 4 is 215\n",
      "Time take for 4 run to complete is 0.21 mins\n",
      "Number of tweets scraped for run 5 is 215\n",
      "Time take for 5 run to complete is 0.18 mins\n",
      "Number of tweets scraped for run 6 is 215\n",
      "Time take for 6 run to complete is 0.19 mins\n"
     ]
    }
   ],
   "source": [
    "search_words = \"#governmenthospital OR #hospital OR #patientdeath OR #medicalnegligence OR @MoHFW_INDIA OR #medicalmalpractice OR #medicalerrors OR #lackofmedicalcare\"\n",
    "\n",
    "date_since = '2022-01-01'\n",
    "date_until = '2022-10-30'\n",
    "num_tweets = 2500\n",
    "num_runs = 6\n",
    "places = api.search_geo(query=search_country, granularity=\"country\")\n",
    "place_id = places[0].id\n",
    "\n",
    "scrape_tweets(search_words, date_since, date_until, num_tweets, num_runs, search_country, place_id)"
   ]
  },
  {
   "cell_type": "code",
   "execution_count": null,
   "metadata": {},
   "outputs": [],
   "source": []
  }
 ],
 "metadata": {
  "kernelspec": {
   "display_name": "Python 3.10.4 64-bit",
   "language": "python",
   "name": "python3"
  },
  "language_info": {
   "codemirror_mode": {
    "name": "ipython",
    "version": 3
   },
   "file_extension": ".py",
   "mimetype": "text/x-python",
   "name": "python",
   "nbconvert_exporter": "python",
   "pygments_lexer": "ipython3",
   "version": "3.10.4"
  },
  "orig_nbformat": 4,
  "vscode": {
   "interpreter": {
    "hash": "aee8b7b246df8f9039afb4144a1f6fd8d2ca17a180786b69acc140d282b71a49"
   }
  }
 },
 "nbformat": 4,
 "nbformat_minor": 2
}
