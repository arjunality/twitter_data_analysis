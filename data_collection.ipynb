{
 "cells": [
  {
   "cell_type": "code",
   "execution_count": 2,
   "metadata": {},
   "outputs": [],
   "source": [
    "import os\n",
    "import tweepy\n",
    "from dotenv import load_dotenv\n",
    "import pandas as pd\n",
    "import numpy as np\n",
    "import time\n",
    "from datetime import datetime"
   ]
  },
  {
   "cell_type": "code",
   "execution_count": 3,
   "metadata": {},
   "outputs": [],
   "source": [
    "consumer_key = os.environ[\"TWITTER_API_KEY\"]\n",
    "consumer_secret = os.environ[\"TWITTER_API_KEY_SECRET\"]\n",
    "access_token = os.environ[\"TWITTER_ACCESS_TOKEN\"]\n",
    "access_token_secret = os.environ[\"TWITTER_ACCESS_TOKEN_SECRET\"]"
   ]
  },
  {
   "cell_type": "code",
   "execution_count": 4,
   "metadata": {},
   "outputs": [
    {
     "data": {
      "text/plain": [
       "<tweepy.api.API at 0x11aadaf50>"
      ]
     },
     "execution_count": 4,
     "metadata": {},
     "output_type": "execute_result"
    }
   ],
   "source": [
    "auth = tweepy.OAuth1UserHandler(\n",
    "    consumer_key, \n",
    "    consumer_secret,\n",
    "    access_token,\n",
    "    access_token_secret\n",
    "    )\n",
    "\n",
    "api = tweepy.API(auth)\n",
    "api\n"
   ]
  },
  {
   "cell_type": "code",
   "execution_count": 5,
   "metadata": {},
   "outputs": [],
   "source": [
    "me = api.verify_credentials()\n"
   ]
  },
  {
   "cell_type": "code",
   "execution_count": 6,
   "metadata": {},
   "outputs": [],
   "source": [
    "search_country = 'India'"
   ]
  },
  {
   "cell_type": "code",
   "execution_count": 7,
   "metadata": {},
   "outputs": [],
   "source": [
    "def scrape_tweets(search_words, date_since, date_until, num_tweets, num_runs, search_country, place_id):\n",
    "    \n",
    "    tweets_df = pd.DataFrame(columns = ['user_id', 'tweet_id', 'username', 'location', \n",
    "                                        'following', 'followers', 'twt_created_at', 'total_tweets', \n",
    "                                        'retweet_count', 'text', 'hashtags', 'mentions'])\n",
    "    \n",
    "    program_start = time.time()\n",
    "    \n",
    "    \n",
    "    \n",
    "    for i in range(0, num_runs):\n",
    "        \n",
    "        start_run = time.time()\n",
    "        tweets = tweepy.Cursor(api.search_tweets, q=search_words + ' AND ' + (\"place:%s\" % place_id), lang='en', tweet_mode='extended').items(num_tweets)\n",
    "        \n",
    "    \n",
    "        \n",
    "        tweet_list = [tweet for tweet in tweets]\n",
    "\n",
    "        no_tweet = 0\n",
    "        \n",
    "        for tweet in tweet_list:\n",
    "            # print(datetime.strptime(str(tweet.created_at), '%Y-%m-%d'))\n",
    "            # print(tweet.created_at.date())\n",
    "            # print(tweet.created_at.date() > datetime.strptime(date_since, '%Y-%m-%d').date())\n",
    "            # print(tweet.created_at.date() < datetime.strptime(date_until, '%Y-%m-%d').date())\n",
    "            \n",
    "            \n",
    "            # print(type(tweet.created_at))\n",
    "            if tweet.created_at.date() <= datetime.strptime(date_until, '%Y-%m-%d').date():\n",
    "            # print(\"In here\")\n",
    "                user_id = tweet.user.id\n",
    "                tweet_id = tweet.id\n",
    "                username = tweet.user.screen_name\n",
    "                # acctdesc = tweet.user.description\n",
    "                location = tweet.user.location\n",
    "                following = tweet.user.friends_count\n",
    "                followers = tweet.user.followers_count\n",
    "                twt_created_at = tweet.created_at\n",
    "                total_tweets = tweet.user.statuses_count\n",
    "                retweet_count = tweet.retweet_count\n",
    "                hashtags = tweet.entities['hashtags']\n",
    "                mentions = tweet.entities['user_mentions']\n",
    "            \n",
    "                try:    \n",
    "                    text = tweet.retweeted_status.full_text\n",
    "                except AttributeError:\n",
    "                    text = tweet.full_text\n",
    "                    # print(text)\n",
    "                ith_tweet = [user_id, tweet_id, username, location, \n",
    "                            following, followers, twt_created_at ,total_tweets, \n",
    "                            retweet_count, text, hashtags, mentions]\n",
    "                \n",
    "                tweets_df.loc[len(tweets_df)] = ith_tweet\n",
    "        \n",
    "                no_tweet += 1\n",
    "        \n",
    "        end_run = time.time()\n",
    "        duration_run = round((end_run-start_run)/60, 2)\n",
    "        \n",
    "        print('Number of tweets scraped for run {} is {}'.format(i+1, no_tweet))\n",
    "        print('Time take for {} run to complete is {} mins'.format(i+1, duration_run))\n",
    "    \n",
    "        time.sleep(920)\n",
    "    \n",
    "    to_csv_timestamp = datetime.today().strftime('%Y%m%d_%H%M%S')\n",
    "    \n",
    "    path = os.getcwd()\n",
    "    filename = path + '/data/' + to_csv_timestamp + '_tweets.csv'\n",
    "    tweets_df.to_csv(filename, index=False)\n",
    "    \n",
    "    program_end = time.time()\n",
    "    print('Scraping is completed.')    \n",
    "    print('Total time taken to scrape is {} minutes.'.format(round(program_end-program_start)/60, 2))\n",
    "    \n",
    "    return tweets_df\n",
    "    \n"
   ]
  },
  {
   "cell_type": "code",
   "execution_count": 8,
   "metadata": {},
   "outputs": [
    {
     "ename": "TooManyRequests",
     "evalue": "429 Too Many Requests\n88 - Rate limit exceeded",
     "output_type": "error",
     "traceback": [
      "\u001b[0;31m---------------------------------------------------------------------------\u001b[0m",
      "\u001b[0;31mTooManyRequests\u001b[0m                           Traceback (most recent call last)",
      "\u001b[1;32m/Users/nitanshjain/Documents/Thapar 4th Sem/Machine Learing/Machine_Learning_Project/data_collection.ipynb Cell 7\u001b[0m in \u001b[0;36m<cell line: 10>\u001b[0;34m()\u001b[0m\n\u001b[1;32m      <a href='vscode-notebook-cell:/Users/nitanshjain/Documents/Thapar%204th%20Sem/Machine%20Learing/Machine_Learning_Project/data_collection.ipynb#W6sZmlsZQ%3D%3D?line=6'>7</a>\u001b[0m places \u001b[39m=\u001b[39m api\u001b[39m.\u001b[39msearch_geo(query\u001b[39m=\u001b[39msearch_country, granularity\u001b[39m=\u001b[39m\u001b[39m\"\u001b[39m\u001b[39mcountry\u001b[39m\u001b[39m\"\u001b[39m)\n\u001b[1;32m      <a href='vscode-notebook-cell:/Users/nitanshjain/Documents/Thapar%204th%20Sem/Machine%20Learing/Machine_Learning_Project/data_collection.ipynb#W6sZmlsZQ%3D%3D?line=7'>8</a>\u001b[0m place_id \u001b[39m=\u001b[39m places[\u001b[39m0\u001b[39m]\u001b[39m.\u001b[39mid\n\u001b[0;32m---> <a href='vscode-notebook-cell:/Users/nitanshjain/Documents/Thapar%204th%20Sem/Machine%20Learing/Machine_Learning_Project/data_collection.ipynb#W6sZmlsZQ%3D%3D?line=9'>10</a>\u001b[0m scrape_tweets(search_words, date_since, date_until, num_tweets, num_runs, search_country, place_id)\n",
      "\u001b[1;32m/Users/nitanshjain/Documents/Thapar 4th Sem/Machine Learing/Machine_Learning_Project/data_collection.ipynb Cell 7\u001b[0m in \u001b[0;36mscrape_tweets\u001b[0;34m(search_words, date_since, date_until, num_tweets, num_runs, search_country, place_id)\u001b[0m\n\u001b[1;32m     <a href='vscode-notebook-cell:/Users/nitanshjain/Documents/Thapar%204th%20Sem/Machine%20Learing/Machine_Learning_Project/data_collection.ipynb#W6sZmlsZQ%3D%3D?line=12'>13</a>\u001b[0m start_run \u001b[39m=\u001b[39m time\u001b[39m.\u001b[39mtime()\n\u001b[1;32m     <a href='vscode-notebook-cell:/Users/nitanshjain/Documents/Thapar%204th%20Sem/Machine%20Learing/Machine_Learning_Project/data_collection.ipynb#W6sZmlsZQ%3D%3D?line=13'>14</a>\u001b[0m tweets \u001b[39m=\u001b[39m tweepy\u001b[39m.\u001b[39mCursor(api\u001b[39m.\u001b[39msearch_tweets, q\u001b[39m=\u001b[39msearch_words \u001b[39m+\u001b[39m \u001b[39m'\u001b[39m\u001b[39m AND \u001b[39m\u001b[39m'\u001b[39m \u001b[39m+\u001b[39m (\u001b[39m\"\u001b[39m\u001b[39mplace:\u001b[39m\u001b[39m%s\u001b[39;00m\u001b[39m\"\u001b[39m \u001b[39m%\u001b[39m place_id), lang\u001b[39m=\u001b[39m\u001b[39m'\u001b[39m\u001b[39men\u001b[39m\u001b[39m'\u001b[39m, tweet_mode\u001b[39m=\u001b[39m\u001b[39m'\u001b[39m\u001b[39mextended\u001b[39m\u001b[39m'\u001b[39m)\u001b[39m.\u001b[39mitems(num_tweets)\n\u001b[0;32m---> <a href='vscode-notebook-cell:/Users/nitanshjain/Documents/Thapar%204th%20Sem/Machine%20Learing/Machine_Learning_Project/data_collection.ipynb#W6sZmlsZQ%3D%3D?line=17'>18</a>\u001b[0m tweet_list \u001b[39m=\u001b[39m [tweet \u001b[39mfor\u001b[39;00m tweet \u001b[39min\u001b[39;00m tweets]\n\u001b[1;32m     <a href='vscode-notebook-cell:/Users/nitanshjain/Documents/Thapar%204th%20Sem/Machine%20Learing/Machine_Learning_Project/data_collection.ipynb#W6sZmlsZQ%3D%3D?line=19'>20</a>\u001b[0m no_tweet \u001b[39m=\u001b[39m \u001b[39m0\u001b[39m\n\u001b[1;32m     <a href='vscode-notebook-cell:/Users/nitanshjain/Documents/Thapar%204th%20Sem/Machine%20Learing/Machine_Learning_Project/data_collection.ipynb#W6sZmlsZQ%3D%3D?line=21'>22</a>\u001b[0m \u001b[39mfor\u001b[39;00m tweet \u001b[39min\u001b[39;00m tweet_list:\n\u001b[1;32m     <a href='vscode-notebook-cell:/Users/nitanshjain/Documents/Thapar%204th%20Sem/Machine%20Learing/Machine_Learning_Project/data_collection.ipynb#W6sZmlsZQ%3D%3D?line=22'>23</a>\u001b[0m     \u001b[39m# print(datetime.strptime(str(tweet.created_at), '%Y-%m-%d'))\u001b[39;00m\n\u001b[1;32m     <a href='vscode-notebook-cell:/Users/nitanshjain/Documents/Thapar%204th%20Sem/Machine%20Learing/Machine_Learning_Project/data_collection.ipynb#W6sZmlsZQ%3D%3D?line=23'>24</a>\u001b[0m     \u001b[39m# print(tweet.created_at.date())\u001b[39;00m\n\u001b[0;32m   (...)\u001b[0m\n\u001b[1;32m     <a href='vscode-notebook-cell:/Users/nitanshjain/Documents/Thapar%204th%20Sem/Machine%20Learing/Machine_Learning_Project/data_collection.ipynb#W6sZmlsZQ%3D%3D?line=27'>28</a>\u001b[0m     \n\u001b[1;32m     <a href='vscode-notebook-cell:/Users/nitanshjain/Documents/Thapar%204th%20Sem/Machine%20Learing/Machine_Learning_Project/data_collection.ipynb#W6sZmlsZQ%3D%3D?line=28'>29</a>\u001b[0m     \u001b[39m# print(type(tweet.created_at))\u001b[39;00m\n",
      "\u001b[1;32m/Users/nitanshjain/Documents/Thapar 4th Sem/Machine Learing/Machine_Learning_Project/data_collection.ipynb Cell 7\u001b[0m in \u001b[0;36m<listcomp>\u001b[0;34m(.0)\u001b[0m\n\u001b[1;32m     <a href='vscode-notebook-cell:/Users/nitanshjain/Documents/Thapar%204th%20Sem/Machine%20Learing/Machine_Learning_Project/data_collection.ipynb#W6sZmlsZQ%3D%3D?line=12'>13</a>\u001b[0m start_run \u001b[39m=\u001b[39m time\u001b[39m.\u001b[39mtime()\n\u001b[1;32m     <a href='vscode-notebook-cell:/Users/nitanshjain/Documents/Thapar%204th%20Sem/Machine%20Learing/Machine_Learning_Project/data_collection.ipynb#W6sZmlsZQ%3D%3D?line=13'>14</a>\u001b[0m tweets \u001b[39m=\u001b[39m tweepy\u001b[39m.\u001b[39mCursor(api\u001b[39m.\u001b[39msearch_tweets, q\u001b[39m=\u001b[39msearch_words \u001b[39m+\u001b[39m \u001b[39m'\u001b[39m\u001b[39m AND \u001b[39m\u001b[39m'\u001b[39m \u001b[39m+\u001b[39m (\u001b[39m\"\u001b[39m\u001b[39mplace:\u001b[39m\u001b[39m%s\u001b[39;00m\u001b[39m\"\u001b[39m \u001b[39m%\u001b[39m place_id), lang\u001b[39m=\u001b[39m\u001b[39m'\u001b[39m\u001b[39men\u001b[39m\u001b[39m'\u001b[39m, tweet_mode\u001b[39m=\u001b[39m\u001b[39m'\u001b[39m\u001b[39mextended\u001b[39m\u001b[39m'\u001b[39m)\u001b[39m.\u001b[39mitems(num_tweets)\n\u001b[0;32m---> <a href='vscode-notebook-cell:/Users/nitanshjain/Documents/Thapar%204th%20Sem/Machine%20Learing/Machine_Learning_Project/data_collection.ipynb#W6sZmlsZQ%3D%3D?line=17'>18</a>\u001b[0m tweet_list \u001b[39m=\u001b[39m [tweet \u001b[39mfor\u001b[39;00m tweet \u001b[39min\u001b[39;00m tweets]\n\u001b[1;32m     <a href='vscode-notebook-cell:/Users/nitanshjain/Documents/Thapar%204th%20Sem/Machine%20Learing/Machine_Learning_Project/data_collection.ipynb#W6sZmlsZQ%3D%3D?line=19'>20</a>\u001b[0m no_tweet \u001b[39m=\u001b[39m \u001b[39m0\u001b[39m\n\u001b[1;32m     <a href='vscode-notebook-cell:/Users/nitanshjain/Documents/Thapar%204th%20Sem/Machine%20Learing/Machine_Learning_Project/data_collection.ipynb#W6sZmlsZQ%3D%3D?line=21'>22</a>\u001b[0m \u001b[39mfor\u001b[39;00m tweet \u001b[39min\u001b[39;00m tweet_list:\n\u001b[1;32m     <a href='vscode-notebook-cell:/Users/nitanshjain/Documents/Thapar%204th%20Sem/Machine%20Learing/Machine_Learning_Project/data_collection.ipynb#W6sZmlsZQ%3D%3D?line=22'>23</a>\u001b[0m     \u001b[39m# print(datetime.strptime(str(tweet.created_at), '%Y-%m-%d'))\u001b[39;00m\n\u001b[1;32m     <a href='vscode-notebook-cell:/Users/nitanshjain/Documents/Thapar%204th%20Sem/Machine%20Learing/Machine_Learning_Project/data_collection.ipynb#W6sZmlsZQ%3D%3D?line=23'>24</a>\u001b[0m     \u001b[39m# print(tweet.created_at.date())\u001b[39;00m\n\u001b[0;32m   (...)\u001b[0m\n\u001b[1;32m     <a href='vscode-notebook-cell:/Users/nitanshjain/Documents/Thapar%204th%20Sem/Machine%20Learing/Machine_Learning_Project/data_collection.ipynb#W6sZmlsZQ%3D%3D?line=27'>28</a>\u001b[0m     \n\u001b[1;32m     <a href='vscode-notebook-cell:/Users/nitanshjain/Documents/Thapar%204th%20Sem/Machine%20Learing/Machine_Learning_Project/data_collection.ipynb#W6sZmlsZQ%3D%3D?line=28'>29</a>\u001b[0m     \u001b[39m# print(type(tweet.created_at))\u001b[39;00m\n",
      "File \u001b[0;32m/Library/Frameworks/Python.framework/Versions/3.10/lib/python3.10/site-packages/tweepy/cursor.py:86\u001b[0m, in \u001b[0;36mBaseIterator.__next__\u001b[0;34m(self)\u001b[0m\n\u001b[1;32m     85\u001b[0m \u001b[39mdef\u001b[39;00m \u001b[39m__next__\u001b[39m(\u001b[39mself\u001b[39m):\n\u001b[0;32m---> 86\u001b[0m     \u001b[39mreturn\u001b[39;00m \u001b[39mself\u001b[39;49m\u001b[39m.\u001b[39;49mnext()\n",
      "File \u001b[0;32m/Library/Frameworks/Python.framework/Versions/3.10/lib/python3.10/site-packages/tweepy/cursor.py:286\u001b[0m, in \u001b[0;36mItemIterator.next\u001b[0;34m(self)\u001b[0m\n\u001b[1;32m    283\u001b[0m     \u001b[39mraise\u001b[39;00m \u001b[39mStopIteration\u001b[39;00m\n\u001b[1;32m    284\u001b[0m \u001b[39mif\u001b[39;00m \u001b[39mself\u001b[39m\u001b[39m.\u001b[39mcurrent_page \u001b[39mis\u001b[39;00m \u001b[39mNone\u001b[39;00m \u001b[39mor\u001b[39;00m \u001b[39mself\u001b[39m\u001b[39m.\u001b[39mpage_index \u001b[39m==\u001b[39m \u001b[39mlen\u001b[39m(\u001b[39mself\u001b[39m\u001b[39m.\u001b[39mcurrent_page) \u001b[39m-\u001b[39m \u001b[39m1\u001b[39m:\n\u001b[1;32m    285\u001b[0m     \u001b[39m# Reached end of current page, get the next page...\u001b[39;00m\n\u001b[0;32m--> 286\u001b[0m     \u001b[39mself\u001b[39m\u001b[39m.\u001b[39mcurrent_page \u001b[39m=\u001b[39m \u001b[39mnext\u001b[39;49m(\u001b[39mself\u001b[39;49m\u001b[39m.\u001b[39;49mpage_iterator)\n\u001b[1;32m    287\u001b[0m     \u001b[39mwhile\u001b[39;00m \u001b[39mlen\u001b[39m(\u001b[39mself\u001b[39m\u001b[39m.\u001b[39mcurrent_page) \u001b[39m==\u001b[39m \u001b[39m0\u001b[39m:\n\u001b[1;32m    288\u001b[0m         \u001b[39mself\u001b[39m\u001b[39m.\u001b[39mcurrent_page \u001b[39m=\u001b[39m \u001b[39mnext\u001b[39m(\u001b[39mself\u001b[39m\u001b[39m.\u001b[39mpage_iterator)\n",
      "File \u001b[0;32m/Library/Frameworks/Python.framework/Versions/3.10/lib/python3.10/site-packages/tweepy/cursor.py:86\u001b[0m, in \u001b[0;36mBaseIterator.__next__\u001b[0;34m(self)\u001b[0m\n\u001b[1;32m     85\u001b[0m \u001b[39mdef\u001b[39;00m \u001b[39m__next__\u001b[39m(\u001b[39mself\u001b[39m):\n\u001b[0;32m---> 86\u001b[0m     \u001b[39mreturn\u001b[39;00m \u001b[39mself\u001b[39;49m\u001b[39m.\u001b[39;49mnext()\n",
      "File \u001b[0;32m/Library/Frameworks/Python.framework/Versions/3.10/lib/python3.10/site-packages/tweepy/cursor.py:167\u001b[0m, in \u001b[0;36mIdIterator.next\u001b[0;34m(self)\u001b[0m\n\u001b[1;32m    164\u001b[0m     \u001b[39mraise\u001b[39;00m \u001b[39mStopIteration\u001b[39;00m\n\u001b[1;32m    166\u001b[0m \u001b[39mif\u001b[39;00m \u001b[39mself\u001b[39m\u001b[39m.\u001b[39mindex \u001b[39m>\u001b[39m\u001b[39m=\u001b[39m \u001b[39mlen\u001b[39m(\u001b[39mself\u001b[39m\u001b[39m.\u001b[39mresults) \u001b[39m-\u001b[39m \u001b[39m1\u001b[39m:\n\u001b[0;32m--> 167\u001b[0m     data \u001b[39m=\u001b[39m \u001b[39mself\u001b[39;49m\u001b[39m.\u001b[39;49mmethod(max_id\u001b[39m=\u001b[39;49m\u001b[39mself\u001b[39;49m\u001b[39m.\u001b[39;49mmax_id, parser\u001b[39m=\u001b[39;49mRawParser(), \u001b[39m*\u001b[39;49m\u001b[39mself\u001b[39;49m\u001b[39m.\u001b[39;49margs, \u001b[39m*\u001b[39;49m\u001b[39m*\u001b[39;49m\u001b[39mself\u001b[39;49m\u001b[39m.\u001b[39;49mkwargs)\n\u001b[1;32m    169\u001b[0m     model \u001b[39m=\u001b[39m ModelParser()\u001b[39m.\u001b[39mparse(\n\u001b[1;32m    170\u001b[0m         data, api \u001b[39m=\u001b[39m \u001b[39mself\u001b[39m\u001b[39m.\u001b[39mmethod\u001b[39m.\u001b[39m\u001b[39m__self__\u001b[39m,\n\u001b[1;32m    171\u001b[0m         payload_list\u001b[39m=\u001b[39m\u001b[39mself\u001b[39m\u001b[39m.\u001b[39mmethod\u001b[39m.\u001b[39mpayload_list,\n\u001b[1;32m    172\u001b[0m         payload_type\u001b[39m=\u001b[39m\u001b[39mself\u001b[39m\u001b[39m.\u001b[39mmethod\u001b[39m.\u001b[39mpayload_type\n\u001b[1;32m    173\u001b[0m     )\n\u001b[1;32m    174\u001b[0m     result \u001b[39m=\u001b[39m \u001b[39mself\u001b[39m\u001b[39m.\u001b[39mmethod\u001b[39m.\u001b[39m\u001b[39m__self__\u001b[39m\u001b[39m.\u001b[39mparser\u001b[39m.\u001b[39mparse(\n\u001b[1;32m    175\u001b[0m         data, api \u001b[39m=\u001b[39m \u001b[39mself\u001b[39m\u001b[39m.\u001b[39mmethod\u001b[39m.\u001b[39m\u001b[39m__self__\u001b[39m,\n\u001b[1;32m    176\u001b[0m         payload_list\u001b[39m=\u001b[39m\u001b[39mself\u001b[39m\u001b[39m.\u001b[39mmethod\u001b[39m.\u001b[39mpayload_list,\n\u001b[1;32m    177\u001b[0m         payload_type\u001b[39m=\u001b[39m\u001b[39mself\u001b[39m\u001b[39m.\u001b[39mmethod\u001b[39m.\u001b[39mpayload_type\n\u001b[1;32m    178\u001b[0m     )\n",
      "File \u001b[0;32m/Library/Frameworks/Python.framework/Versions/3.10/lib/python3.10/site-packages/tweepy/api.py:33\u001b[0m, in \u001b[0;36mpagination.<locals>.decorator.<locals>.wrapper\u001b[0;34m(*args, **kwargs)\u001b[0m\n\u001b[1;32m     31\u001b[0m \u001b[39m@functools\u001b[39m\u001b[39m.\u001b[39mwraps(method)\n\u001b[1;32m     32\u001b[0m \u001b[39mdef\u001b[39;00m \u001b[39mwrapper\u001b[39m(\u001b[39m*\u001b[39margs, \u001b[39m*\u001b[39m\u001b[39m*\u001b[39mkwargs):\n\u001b[0;32m---> 33\u001b[0m     \u001b[39mreturn\u001b[39;00m method(\u001b[39m*\u001b[39;49margs, \u001b[39m*\u001b[39;49m\u001b[39m*\u001b[39;49mkwargs)\n",
      "File \u001b[0;32m/Library/Frameworks/Python.framework/Versions/3.10/lib/python3.10/site-packages/tweepy/api.py:46\u001b[0m, in \u001b[0;36mpayload.<locals>.decorator.<locals>.wrapper\u001b[0;34m(*args, **kwargs)\u001b[0m\n\u001b[1;32m     44\u001b[0m kwargs[\u001b[39m'\u001b[39m\u001b[39mpayload_list\u001b[39m\u001b[39m'\u001b[39m] \u001b[39m=\u001b[39m payload_list\n\u001b[1;32m     45\u001b[0m kwargs[\u001b[39m'\u001b[39m\u001b[39mpayload_type\u001b[39m\u001b[39m'\u001b[39m] \u001b[39m=\u001b[39m payload_type\n\u001b[0;32m---> 46\u001b[0m \u001b[39mreturn\u001b[39;00m method(\u001b[39m*\u001b[39;49margs, \u001b[39m*\u001b[39;49m\u001b[39m*\u001b[39;49mkwargs)\n",
      "File \u001b[0;32m/Library/Frameworks/Python.framework/Versions/3.10/lib/python3.10/site-packages/tweepy/api.py:1309\u001b[0m, in \u001b[0;36mAPI.search_tweets\u001b[0;34m(self, q, **kwargs)\u001b[0m\n\u001b[1;32m   1215\u001b[0m \u001b[39m@pagination\u001b[39m(mode\u001b[39m=\u001b[39m\u001b[39m'\u001b[39m\u001b[39mid\u001b[39m\u001b[39m'\u001b[39m)\n\u001b[1;32m   1216\u001b[0m \u001b[39m@payload\u001b[39m(\u001b[39m'\u001b[39m\u001b[39msearch_results\u001b[39m\u001b[39m'\u001b[39m)\n\u001b[1;32m   1217\u001b[0m \u001b[39mdef\u001b[39;00m \u001b[39msearch_tweets\u001b[39m(\u001b[39mself\u001b[39m, q, \u001b[39m*\u001b[39m\u001b[39m*\u001b[39mkwargs):\n\u001b[1;32m   1218\u001b[0m     \u001b[39m\"\"\"search_tweets(q, *, geocode, lang, locale, result_type, count, \\\u001b[39;00m\n\u001b[1;32m   1219\u001b[0m \u001b[39m                     until, since_id, max_id, include_entities)\u001b[39;00m\n\u001b[1;32m   1220\u001b[0m \n\u001b[0;32m   (...)\u001b[0m\n\u001b[1;32m   1307\u001b[0m \u001b[39m    .. _Twitter's documentation on the standard search API: https://developer.twitter.com/en/docs/twitter-api/v1/tweets/search/overview\u001b[39;00m\n\u001b[1;32m   1308\u001b[0m \u001b[39m    \"\"\"\u001b[39;00m\n\u001b[0;32m-> 1309\u001b[0m     \u001b[39mreturn\u001b[39;00m \u001b[39mself\u001b[39;49m\u001b[39m.\u001b[39;49mrequest(\n\u001b[1;32m   1310\u001b[0m         \u001b[39m'\u001b[39;49m\u001b[39mGET\u001b[39;49m\u001b[39m'\u001b[39;49m, \u001b[39m'\u001b[39;49m\u001b[39msearch/tweets\u001b[39;49m\u001b[39m'\u001b[39;49m, endpoint_parameters\u001b[39m=\u001b[39;49m(\n\u001b[1;32m   1311\u001b[0m             \u001b[39m'\u001b[39;49m\u001b[39mq\u001b[39;49m\u001b[39m'\u001b[39;49m, \u001b[39m'\u001b[39;49m\u001b[39mgeocode\u001b[39;49m\u001b[39m'\u001b[39;49m, \u001b[39m'\u001b[39;49m\u001b[39mlang\u001b[39;49m\u001b[39m'\u001b[39;49m, \u001b[39m'\u001b[39;49m\u001b[39mlocale\u001b[39;49m\u001b[39m'\u001b[39;49m, \u001b[39m'\u001b[39;49m\u001b[39mresult_type\u001b[39;49m\u001b[39m'\u001b[39;49m, \u001b[39m'\u001b[39;49m\u001b[39mcount\u001b[39;49m\u001b[39m'\u001b[39;49m,\n\u001b[1;32m   1312\u001b[0m             \u001b[39m'\u001b[39;49m\u001b[39muntil\u001b[39;49m\u001b[39m'\u001b[39;49m, \u001b[39m'\u001b[39;49m\u001b[39msince_id\u001b[39;49m\u001b[39m'\u001b[39;49m, \u001b[39m'\u001b[39;49m\u001b[39mmax_id\u001b[39;49m\u001b[39m'\u001b[39;49m, \u001b[39m'\u001b[39;49m\u001b[39minclude_entities\u001b[39;49m\u001b[39m'\u001b[39;49m\n\u001b[1;32m   1313\u001b[0m         ), q\u001b[39m=\u001b[39;49mq, \u001b[39m*\u001b[39;49m\u001b[39m*\u001b[39;49mkwargs\n\u001b[1;32m   1314\u001b[0m     )\n",
      "File \u001b[0;32m/Library/Frameworks/Python.framework/Versions/3.10/lib/python3.10/site-packages/tweepy/api.py:269\u001b[0m, in \u001b[0;36mAPI.request\u001b[0;34m(self, method, endpoint, endpoint_parameters, params, headers, json_payload, parser, payload_list, payload_type, post_data, files, require_auth, return_cursors, upload_api, use_cache, **kwargs)\u001b[0m\n\u001b[1;32m    267\u001b[0m     \u001b[39mraise\u001b[39;00m NotFound(resp)\n\u001b[1;32m    268\u001b[0m \u001b[39mif\u001b[39;00m resp\u001b[39m.\u001b[39mstatus_code \u001b[39m==\u001b[39m \u001b[39m429\u001b[39m:\n\u001b[0;32m--> 269\u001b[0m     \u001b[39mraise\u001b[39;00m TooManyRequests(resp)\n\u001b[1;32m    270\u001b[0m \u001b[39mif\u001b[39;00m resp\u001b[39m.\u001b[39mstatus_code \u001b[39m>\u001b[39m\u001b[39m=\u001b[39m \u001b[39m500\u001b[39m:\n\u001b[1;32m    271\u001b[0m     \u001b[39mraise\u001b[39;00m TwitterServerError(resp)\n",
      "\u001b[0;31mTooManyRequests\u001b[0m: 429 Too Many Requests\n88 - Rate limit exceeded"
     ]
    }
   ],
   "source": [
    "search_words = \"#governmenthospital OR #hospital OR #patientdeath OR #medicalnegligence OR @MoHFW_INDIA OR #medicalmalpractice OR #medicalerrors OR #lackofmedicalcare OR #aiims OR @aiims_newdelhi OR @SJHDELHI OR #safdarjunghospital OR #PMOIndia OR @PMOIndia OR @ArvindKejriwal OR #PresidentKovind OR @mansukhmandviya OR @ANI OR @PTI_News\"\n",
    "\n",
    "date_since = '2021-01-01'\n",
    "date_until = '2022-10-30'\n",
    "num_tweets = 2500\n",
    "num_runs = 1\n",
    "places = api.search_geo(query=search_country, granularity=\"country\")\n",
    "place_id = places[0].id\n",
    "\n",
    "scrape_tweets(search_words, date_since, date_until, num_tweets, num_runs, search_country, place_id)"
   ]
  },
  {
   "cell_type": "code",
   "execution_count": null,
   "metadata": {},
   "outputs": [],
   "source": [
    "search_words = \"emergency OR complaints OR @narendramodi OR condition OR conditions\"\n",
    "\n",
    "date_since = '2021-01-01'\n",
    "date_until = '2022-10-30'\n",
    "num_tweets = 2500\n",
    "num_runs = 1\n",
    "places = api.search_geo(query=search_country, granularity=\"country\")\n",
    "place_id = places[0].id\n",
    "\n",
    "scrape_tweets(search_words, date_since, date_until, num_tweets, num_runs, search_country, place_id)"
   ]
  }
 ],
 "metadata": {
  "kernelspec": {
   "display_name": "Python 3.10.4 64-bit",
   "language": "python",
   "name": "python3"
  },
  "language_info": {
   "codemirror_mode": {
    "name": "ipython",
    "version": 3
   },
   "file_extension": ".py",
   "mimetype": "text/x-python",
   "name": "python",
   "nbconvert_exporter": "python",
   "pygments_lexer": "ipython3",
   "version": "3.10.4"
  },
  "orig_nbformat": 4,
  "vscode": {
   "interpreter": {
    "hash": "aee8b7b246df8f9039afb4144a1f6fd8d2ca17a180786b69acc140d282b71a49"
   }
  }
 },
 "nbformat": 4,
 "nbformat_minor": 2
}
