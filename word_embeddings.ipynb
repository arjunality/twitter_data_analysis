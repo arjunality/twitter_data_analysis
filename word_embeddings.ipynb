{
 "cells": [
  {
   "cell_type": "code",
   "execution_count": 392,
   "metadata": {},
   "outputs": [],
   "source": [
    "import pandas as pd\n",
    "import numpy as np\n",
    "import matplotlib.pyplot as plt\n",
    "import seaborn as sns\n",
    "\n",
    "import nltk\n",
    "from nltk.tokenize import TweetTokenizer\n",
    "from gensim.parsing.porter import PorterStemmer\n"
   ]
  },
  {
   "cell_type": "code",
   "execution_count": 393,
   "metadata": {},
   "outputs": [
    {
     "data": {
      "text/plain": [
       "(1574, 19)"
      ]
     },
     "execution_count": 393,
     "metadata": {},
     "output_type": "execute_result"
    }
   ],
   "source": [
    "tweets_df = pd.read_csv('data/sentiment.csv')\n",
    "tweets_df.shape"
   ]
  },
  {
   "cell_type": "code",
   "execution_count": 394,
   "metadata": {},
   "outputs": [
    {
     "data": {
      "text/html": [
       "<div>\n",
       "<style scoped>\n",
       "    .dataframe tbody tr th:only-of-type {\n",
       "        vertical-align: middle;\n",
       "    }\n",
       "\n",
       "    .dataframe tbody tr th {\n",
       "        vertical-align: top;\n",
       "    }\n",
       "\n",
       "    .dataframe thead th {\n",
       "        text-align: right;\n",
       "    }\n",
       "</style>\n",
       "<table border=\"1\" class=\"dataframe\">\n",
       "  <thead>\n",
       "    <tr style=\"text-align: right;\">\n",
       "      <th></th>\n",
       "      <th>Unnamed: 0</th>\n",
       "      <th>user_id</th>\n",
       "      <th>tweet_id</th>\n",
       "      <th>username</th>\n",
       "      <th>location</th>\n",
       "      <th>following</th>\n",
       "      <th>followers</th>\n",
       "      <th>twt_created_at</th>\n",
       "      <th>total_tweets</th>\n",
       "      <th>retweet_count</th>\n",
       "      <th>text</th>\n",
       "      <th>hashtags</th>\n",
       "      <th>mentions</th>\n",
       "      <th>tweet_id_dup</th>\n",
       "      <th>textblob_polarity</th>\n",
       "      <th>nltk_compound</th>\n",
       "      <th>avg_sentiment</th>\n",
       "      <th>textblob_sentiment</th>\n",
       "      <th>nltk_sentiment</th>\n",
       "    </tr>\n",
       "  </thead>\n",
       "  <tbody>\n",
       "    <tr>\n",
       "      <th>0</th>\n",
       "      <td>0</td>\n",
       "      <td>1.113370e+18</td>\n",
       "      <td>1.589270e+18</td>\n",
       "      <td>LifestyleVishnu</td>\n",
       "      <td>Ambikapur, India</td>\n",
       "      <td>304</td>\n",
       "      <td>286</td>\n",
       "      <td>2022-11-06 15:04:46+00:00</td>\n",
       "      <td>5764</td>\n",
       "      <td>0</td>\n",
       "      <td>india demanding arrest deepak chaurasia pocso ...</td>\n",
       "      <td>[{'text': 'NoActionOnArrestWarrant', 'indices'...</td>\n",
       "      <td>[{'screen_name': 'AjayHimatlal', 'name': 'Ajay...</td>\n",
       "      <td>1.589273e+18</td>\n",
       "      <td>-0.050000</td>\n",
       "      <td>-0.8750</td>\n",
       "      <td>-1</td>\n",
       "      <td>-1</td>\n",
       "      <td>-1</td>\n",
       "    </tr>\n",
       "    <tr>\n",
       "      <th>1</th>\n",
       "      <td>1</td>\n",
       "      <td>2.249900e+09</td>\n",
       "      <td>1.589270e+18</td>\n",
       "      <td>prkgarg</td>\n",
       "      <td>GLOBE</td>\n",
       "      <td>709</td>\n",
       "      <td>203</td>\n",
       "      <td>2022-11-06 15:04:40+00:00</td>\n",
       "      <td>24799</td>\n",
       "      <td>0</td>\n",
       "      <td>get vote gujarat soon entire gang jail looting...</td>\n",
       "      <td>[]</td>\n",
       "      <td>[{'screen_name': 'ArvindKejriwal', 'name': 'Ar...</td>\n",
       "      <td>1.589273e+18</td>\n",
       "      <td>-0.050000</td>\n",
       "      <td>0.0000</td>\n",
       "      <td>-1</td>\n",
       "      <td>-1</td>\n",
       "      <td>0</td>\n",
       "    </tr>\n",
       "    <tr>\n",
       "      <th>2</th>\n",
       "      <td>2</td>\n",
       "      <td>7.808170e+17</td>\n",
       "      <td>1.589270e+18</td>\n",
       "      <td>SunilBhatM</td>\n",
       "      <td>New Delhi, India</td>\n",
       "      <td>930</td>\n",
       "      <td>2284</td>\n",
       "      <td>2022-11-06 15:04:38+00:00</td>\n",
       "      <td>8235</td>\n",
       "      <td>0</td>\n",
       "      <td>magnificent visited pradhan manthri sangrahala...</td>\n",
       "      <td>[]</td>\n",
       "      <td>[{'screen_name': 'narendramodi', 'name': 'Nare...</td>\n",
       "      <td>1.589273e+18</td>\n",
       "      <td>0.386667</td>\n",
       "      <td>0.8807</td>\n",
       "      <td>1</td>\n",
       "      <td>1</td>\n",
       "      <td>1</td>\n",
       "    </tr>\n",
       "    <tr>\n",
       "      <th>3</th>\n",
       "      <td>3</td>\n",
       "      <td>1.388460e+18</td>\n",
       "      <td>1.589270e+18</td>\n",
       "      <td>veerappavenkap1</td>\n",
       "      <td>Bengaluru, India</td>\n",
       "      <td>4924</td>\n",
       "      <td>5453</td>\n",
       "      <td>2022-11-06 15:03:55+00:00</td>\n",
       "      <td>53735</td>\n",
       "      <td>0</td>\n",
       "      <td>almost year bjp ruled gujarat chacha still tal...</td>\n",
       "      <td>[]</td>\n",
       "      <td>[{'screen_name': 'PTI_News', 'name': 'Press Tr...</td>\n",
       "      <td>1.589272e+18</td>\n",
       "      <td>0.000000</td>\n",
       "      <td>0.0000</td>\n",
       "      <td>0</td>\n",
       "      <td>0</td>\n",
       "      <td>0</td>\n",
       "    </tr>\n",
       "    <tr>\n",
       "      <th>4</th>\n",
       "      <td>4</td>\n",
       "      <td>1.469320e+18</td>\n",
       "      <td>1.589270e+18</td>\n",
       "      <td>MukeshS68108786</td>\n",
       "      <td>NaN</td>\n",
       "      <td>173</td>\n",
       "      <td>903</td>\n",
       "      <td>2022-11-06 15:00:20+00:00</td>\n",
       "      <td>14241</td>\n",
       "      <td>2</td>\n",
       "      <td>time gurugram police come action money minded ...</td>\n",
       "      <td>[{'text': 'NoActionOnArrestWarrant', 'indices'...</td>\n",
       "      <td>[{'screen_name': 'AJAYGUP69169747', 'name': 'A...</td>\n",
       "      <td>1.589271e+18</td>\n",
       "      <td>0.183333</td>\n",
       "      <td>-0.6486</td>\n",
       "      <td>-1</td>\n",
       "      <td>1</td>\n",
       "      <td>-1</td>\n",
       "    </tr>\n",
       "  </tbody>\n",
       "</table>\n",
       "</div>"
      ],
      "text/plain": [
       "   Unnamed: 0       user_id      tweet_id         username          location  \\\n",
       "0           0  1.113370e+18  1.589270e+18  LifestyleVishnu  Ambikapur, India   \n",
       "1           1  2.249900e+09  1.589270e+18          prkgarg             GLOBE   \n",
       "2           2  7.808170e+17  1.589270e+18       SunilBhatM  New Delhi, India   \n",
       "3           3  1.388460e+18  1.589270e+18  veerappavenkap1  Bengaluru, India   \n",
       "4           4  1.469320e+18  1.589270e+18  MukeshS68108786               NaN   \n",
       "\n",
       "   following  followers             twt_created_at  total_tweets  \\\n",
       "0        304        286  2022-11-06 15:04:46+00:00          5764   \n",
       "1        709        203  2022-11-06 15:04:40+00:00         24799   \n",
       "2        930       2284  2022-11-06 15:04:38+00:00          8235   \n",
       "3       4924       5453  2022-11-06 15:03:55+00:00         53735   \n",
       "4        173        903  2022-11-06 15:00:20+00:00         14241   \n",
       "\n",
       "   retweet_count                                               text  \\\n",
       "0              0  india demanding arrest deepak chaurasia pocso ...   \n",
       "1              0  get vote gujarat soon entire gang jail looting...   \n",
       "2              0  magnificent visited pradhan manthri sangrahala...   \n",
       "3              0  almost year bjp ruled gujarat chacha still tal...   \n",
       "4              2  time gurugram police come action money minded ...   \n",
       "\n",
       "                                            hashtags  \\\n",
       "0  [{'text': 'NoActionOnArrestWarrant', 'indices'...   \n",
       "1                                                 []   \n",
       "2                                                 []   \n",
       "3                                                 []   \n",
       "4  [{'text': 'NoActionOnArrestWarrant', 'indices'...   \n",
       "\n",
       "                                            mentions  tweet_id_dup  \\\n",
       "0  [{'screen_name': 'AjayHimatlal', 'name': 'Ajay...  1.589273e+18   \n",
       "1  [{'screen_name': 'ArvindKejriwal', 'name': 'Ar...  1.589273e+18   \n",
       "2  [{'screen_name': 'narendramodi', 'name': 'Nare...  1.589273e+18   \n",
       "3  [{'screen_name': 'PTI_News', 'name': 'Press Tr...  1.589272e+18   \n",
       "4  [{'screen_name': 'AJAYGUP69169747', 'name': 'A...  1.589271e+18   \n",
       "\n",
       "   textblob_polarity  nltk_compound  avg_sentiment  textblob_sentiment  \\\n",
       "0          -0.050000        -0.8750             -1                  -1   \n",
       "1          -0.050000         0.0000             -1                  -1   \n",
       "2           0.386667         0.8807              1                   1   \n",
       "3           0.000000         0.0000              0                   0   \n",
       "4           0.183333        -0.6486             -1                   1   \n",
       "\n",
       "   nltk_sentiment  \n",
       "0              -1  \n",
       "1               0  \n",
       "2               1  \n",
       "3               0  \n",
       "4              -1  "
      ]
     },
     "execution_count": 394,
     "metadata": {},
     "output_type": "execute_result"
    }
   ],
   "source": [
    "tweets_df.head()"
   ]
  },
  {
   "cell_type": "code",
   "execution_count": 395,
   "metadata": {},
   "outputs": [],
   "source": [
    "# dropping user_id, username, location, following, followers, twt_created_at, total_tweets, retweet_count, hashtags, mentions, tweet_id_dup\n",
    "tweets_df.drop(['Unnamed: 0', 'user_id', 'tweet_id', 'username', 'location', 'following', 'followers', 'twt_created_at', 'total_tweets', 'retweet_count', 'hashtags', 'mentions', 'textblob_polarity', 'nltk_compound', 'textblob_sentiment', 'nltk_sentiment'], axis=1, inplace=True)"
   ]
  },
  {
   "cell_type": "code",
   "execution_count": 396,
   "metadata": {},
   "outputs": [
    {
     "data": {
      "text/plain": [
       "Index(['text', 'tweet_id_dup', 'avg_sentiment'], dtype='object')"
      ]
     },
     "execution_count": 396,
     "metadata": {},
     "output_type": "execute_result"
    }
   ],
   "source": [
    "tweets_df.columns"
   ]
  },
  {
   "cell_type": "code",
   "execution_count": 397,
   "metadata": {},
   "outputs": [
    {
     "data": {
      "text/html": [
       "<div>\n",
       "<style scoped>\n",
       "    .dataframe tbody tr th:only-of-type {\n",
       "        vertical-align: middle;\n",
       "    }\n",
       "\n",
       "    .dataframe tbody tr th {\n",
       "        vertical-align: top;\n",
       "    }\n",
       "\n",
       "    .dataframe thead th {\n",
       "        text-align: right;\n",
       "    }\n",
       "</style>\n",
       "<table border=\"1\" class=\"dataframe\">\n",
       "  <thead>\n",
       "    <tr style=\"text-align: right;\">\n",
       "      <th></th>\n",
       "      <th>text</th>\n",
       "      <th>tweet_id_dup</th>\n",
       "      <th>avg_sentiment</th>\n",
       "    </tr>\n",
       "  </thead>\n",
       "  <tbody>\n",
       "    <tr>\n",
       "      <th>0</th>\n",
       "      <td>india demanding arrest deepak chaurasia pocso ...</td>\n",
       "      <td>1.589273e+18</td>\n",
       "      <td>-1</td>\n",
       "    </tr>\n",
       "    <tr>\n",
       "      <th>1</th>\n",
       "      <td>get vote gujarat soon entire gang jail looting...</td>\n",
       "      <td>1.589273e+18</td>\n",
       "      <td>-1</td>\n",
       "    </tr>\n",
       "    <tr>\n",
       "      <th>2</th>\n",
       "      <td>magnificent visited pradhan manthri sangrahala...</td>\n",
       "      <td>1.589273e+18</td>\n",
       "      <td>1</td>\n",
       "    </tr>\n",
       "    <tr>\n",
       "      <th>3</th>\n",
       "      <td>almost year bjp ruled gujarat chacha still tal...</td>\n",
       "      <td>1.589272e+18</td>\n",
       "      <td>0</td>\n",
       "    </tr>\n",
       "    <tr>\n",
       "      <th>4</th>\n",
       "      <td>time gurugram police come action money minded ...</td>\n",
       "      <td>1.589271e+18</td>\n",
       "      <td>-1</td>\n",
       "    </tr>\n",
       "  </tbody>\n",
       "</table>\n",
       "</div>"
      ],
      "text/plain": [
       "                                                text  tweet_id_dup  \\\n",
       "0  india demanding arrest deepak chaurasia pocso ...  1.589273e+18   \n",
       "1  get vote gujarat soon entire gang jail looting...  1.589273e+18   \n",
       "2  magnificent visited pradhan manthri sangrahala...  1.589273e+18   \n",
       "3  almost year bjp ruled gujarat chacha still tal...  1.589272e+18   \n",
       "4  time gurugram police come action money minded ...  1.589271e+18   \n",
       "\n",
       "   avg_sentiment  \n",
       "0             -1  \n",
       "1             -1  \n",
       "2              1  \n",
       "3              0  \n",
       "4             -1  "
      ]
     },
     "execution_count": 397,
     "metadata": {},
     "output_type": "execute_result"
    }
   ],
   "source": [
    "tweets_df.head()"
   ]
  },
  {
   "cell_type": "code",
   "execution_count": 398,
   "metadata": {},
   "outputs": [
    {
     "data": {
      "text/plain": [
       " 1    861\n",
       "-1    580\n",
       " 0    133\n",
       "Name: avg_sentiment, dtype: int64"
      ]
     },
     "execution_count": 398,
     "metadata": {},
     "output_type": "execute_result"
    }
   ],
   "source": [
    "tweets_df['avg_sentiment'].value_counts()"
   ]
  },
  {
   "cell_type": "code",
   "execution_count": 399,
   "metadata": {},
   "outputs": [],
   "source": [
    "def creating_tokens(df):\n",
    "    tokens = list()\n",
    "    tokenizer = TweetTokenizer()\n",
    "    \n",
    "    for tweets in df.loc[:, 'text']:\n",
    "        # print(len(tokenizer.tokenize(tweets)))\n",
    "        tokens.append(tokenizer.tokenize(tweets))\n",
    "    \n",
    "    df['tokens'] = tokens\n",
    "    \n",
    "    porter_stemmer = PorterStemmer()\n",
    "    # Get the stemmed_tokens\n",
    "    df['stemmed_tokens'] = [[porter_stemmer.stem(word) for word in tokens] for tokens in df['tokens']]\n",
    "    df['stemmed_tokens'].head(10)\n",
    "    \n",
    "    \n",
    "    return df"
   ]
  },
  {
   "cell_type": "code",
   "execution_count": 400,
   "metadata": {},
   "outputs": [
    {
     "data": {
      "text/html": [
       "<div>\n",
       "<style scoped>\n",
       "    .dataframe tbody tr th:only-of-type {\n",
       "        vertical-align: middle;\n",
       "    }\n",
       "\n",
       "    .dataframe tbody tr th {\n",
       "        vertical-align: top;\n",
       "    }\n",
       "\n",
       "    .dataframe thead th {\n",
       "        text-align: right;\n",
       "    }\n",
       "</style>\n",
       "<table border=\"1\" class=\"dataframe\">\n",
       "  <thead>\n",
       "    <tr style=\"text-align: right;\">\n",
       "      <th></th>\n",
       "      <th>text</th>\n",
       "      <th>tweet_id_dup</th>\n",
       "      <th>avg_sentiment</th>\n",
       "      <th>tokens</th>\n",
       "      <th>stemmed_tokens</th>\n",
       "    </tr>\n",
       "  </thead>\n",
       "  <tbody>\n",
       "    <tr>\n",
       "      <th>0</th>\n",
       "      <td>india demanding arrest deepak chaurasia pocso ...</td>\n",
       "      <td>1.589273e+18</td>\n",
       "      <td>-1</td>\n",
       "      <td>[india, demanding, arrest, deepak, chaurasia, ...</td>\n",
       "      <td>[india, demand, arrest, deepak, chaurasia, poc...</td>\n",
       "    </tr>\n",
       "    <tr>\n",
       "      <th>1</th>\n",
       "      <td>get vote gujarat soon entire gang jail looting...</td>\n",
       "      <td>1.589273e+18</td>\n",
       "      <td>-1</td>\n",
       "      <td>[get, vote, gujarat, soon, entire, gang, jail,...</td>\n",
       "      <td>[get, vote, gujarat, soon, entir, gang, jail, ...</td>\n",
       "    </tr>\n",
       "    <tr>\n",
       "      <th>2</th>\n",
       "      <td>magnificent visited pradhan manthri sangrahala...</td>\n",
       "      <td>1.589273e+18</td>\n",
       "      <td>1</td>\n",
       "      <td>[magnificent, visited, pradhan, manthri, sangr...</td>\n",
       "      <td>[magnific, visit, pradhan, manthri, sangrahala...</td>\n",
       "    </tr>\n",
       "    <tr>\n",
       "      <th>3</th>\n",
       "      <td>almost year bjp ruled gujarat chacha still tal...</td>\n",
       "      <td>1.589272e+18</td>\n",
       "      <td>0</td>\n",
       "      <td>[almost, year, bjp, ruled, gujarat, chacha, st...</td>\n",
       "      <td>[almost, year, bjp, rule, gujarat, chacha, sti...</td>\n",
       "    </tr>\n",
       "    <tr>\n",
       "      <th>4</th>\n",
       "      <td>time gurugram police come action money minded ...</td>\n",
       "      <td>1.589271e+18</td>\n",
       "      <td>-1</td>\n",
       "      <td>[time, gurugram, police, come, action, money, ...</td>\n",
       "      <td>[time, gurugram, polic, come, action, monei, m...</td>\n",
       "    </tr>\n",
       "  </tbody>\n",
       "</table>\n",
       "</div>"
      ],
      "text/plain": [
       "                                                text  tweet_id_dup  \\\n",
       "0  india demanding arrest deepak chaurasia pocso ...  1.589273e+18   \n",
       "1  get vote gujarat soon entire gang jail looting...  1.589273e+18   \n",
       "2  magnificent visited pradhan manthri sangrahala...  1.589273e+18   \n",
       "3  almost year bjp ruled gujarat chacha still tal...  1.589272e+18   \n",
       "4  time gurugram police come action money minded ...  1.589271e+18   \n",
       "\n",
       "   avg_sentiment                                             tokens  \\\n",
       "0             -1  [india, demanding, arrest, deepak, chaurasia, ...   \n",
       "1             -1  [get, vote, gujarat, soon, entire, gang, jail,...   \n",
       "2              1  [magnificent, visited, pradhan, manthri, sangr...   \n",
       "3              0  [almost, year, bjp, ruled, gujarat, chacha, st...   \n",
       "4             -1  [time, gurugram, police, come, action, money, ...   \n",
       "\n",
       "                                      stemmed_tokens  \n",
       "0  [india, demand, arrest, deepak, chaurasia, poc...  \n",
       "1  [get, vote, gujarat, soon, entir, gang, jail, ...  \n",
       "2  [magnific, visit, pradhan, manthri, sangrahala...  \n",
       "3  [almost, year, bjp, rule, gujarat, chacha, sti...  \n",
       "4  [time, gurugram, polic, come, action, monei, m...  "
      ]
     },
     "execution_count": 400,
     "metadata": {},
     "output_type": "execute_result"
    }
   ],
   "source": [
    "tweets_df = creating_tokens(tweets_df)\n",
    "tweets_df.head()"
   ]
  },
  {
   "cell_type": "code",
   "execution_count": 401,
   "metadata": {},
   "outputs": [],
   "source": [
    "from sklearn.model_selection import train_test_split\n",
    "\n",
    "def split_data(df, test_size):\n",
    "    x_train, x_test, y_train, y_test = train_test_split(df['stemmed_tokens'], df['avg_sentiment'], test_size=test_size, random_state=42, stratify=df['avg_sentiment'])\n",
    "    \n",
    "    print(y_train.value_counts())\n",
    "    print(y_test.value_counts())\n",
    "    # print(type(x_train))\n",
    "    # print(type(y_train))\n",
    "    \n",
    "    x_train = x_train.to_frame()\n",
    "    x_train = x_train.reset_index()\n",
    "    \n",
    "    x_test = x_test.to_frame()\n",
    "    x_test = x_test.reset_index()\n",
    "    \n",
    "    y_train = y_train.to_frame()\n",
    "    y_train = y_train.reset_index()\n",
    "    \n",
    "    y_test = y_test.to_frame()\n",
    "    y_test = y_test.reset_index()\n",
    "    \n",
    "    return x_train, x_test, y_train, y_test"
   ]
  },
  {
   "cell_type": "code",
   "execution_count": 402,
   "metadata": {},
   "outputs": [
    {
     "name": "stdout",
     "output_type": "stream",
     "text": [
      " 1    602\n",
      "-1    406\n",
      " 0     93\n",
      "Name: avg_sentiment, dtype: int64\n",
      " 1    259\n",
      "-1    174\n",
      " 0     40\n",
      "Name: avg_sentiment, dtype: int64\n"
     ]
    }
   ],
   "source": [
    "x_train, x_test, y_train, y_test = split_data(tweets_df, 0.3)"
   ]
  },
  {
   "cell_type": "markdown",
   "metadata": {},
   "source": [
    "https://www.google.com/url?sa=t&rct=j&q=&esrc=s&source=web&cd=&cad=rja&uact=8&ved=2ahUKEwitu6WthJ77AhX_TmwGHYzTBjMQFnoECBcQAQ&url=https%3A%2F%2Fmedium.com%2F%40zafaralibagh6%2Fa-simple-word2vec-tutorial-61e64e38a6a1&usg=AOvVaw3tHKEk24OxG_LwAiMr2wZs"
   ]
  },
  {
   "cell_type": "code",
   "execution_count": 403,
   "metadata": {},
   "outputs": [
    {
     "name": "stdout",
     "output_type": "stream",
     "text": [
      "   index                                     stemmed_tokens\n",
      "0   1176  [light, hamilton, road, gurugram, last, month,...\n",
      "1    205  [piror, matter, home, first, seat, first, piro...\n",
      "2   1226  [citizen, well, awar, ill, benefit, work, gras...\n",
      "3    721  [dai, left, mega, event, venu, central, univer...\n",
      "4    675  [newli, dedic, shri, mahak, lok, shri, offer, ...\n",
      "   index                                     stemmed_tokens\n",
      "0   1126  [sometim, water, secur, hour, boundari, stp, w...\n",
      "1   1142  [todai, indian, express, see, educ, model, eno...\n",
      "2    348  [gave, good, railwai, minist, suresh, prabhu, ...\n",
      "3   1337  [instead, delhi, could, develop, central, citi...\n",
      "4   1568  [guess, lot, improv, done, seat, need, outsmar...\n",
      "   index  avg_sentiment\n",
      "0   1176              1\n",
      "1    205              1\n",
      "2   1226              1\n",
      "3    721              0\n",
      "4    675              1\n",
      "   index  avg_sentiment\n",
      "0   1126             -1\n",
      "1   1142              0\n",
      "2    348             -1\n",
      "3   1337             -1\n",
      "4   1568              1\n"
     ]
    }
   ],
   "source": [
    "print(x_train.head())\n",
    "print(x_test.head())\n",
    "print(y_train.head())\n",
    "print(y_test.head())"
   ]
  },
  {
   "cell_type": "code",
   "execution_count": 404,
   "metadata": {},
   "outputs": [
    {
     "name": "stdout",
     "output_type": "stream",
     "text": [
      "Time taken to train word2vec model: 0.47362303733825684\n"
     ]
    }
   ],
   "source": [
    "from gensim.models import Word2Vec\n",
    "import time\n",
    "\n",
    "OUTPUT_FOLDER = '/Users/nitanshjain/Documents/Thapar 4th Sem/Machine Learing/Machine_Learning_Project/'\n",
    "\n",
    "start_time = time.time()\n",
    "tokens = pd.Series(tweets_df['stemmed_tokens']).values\n",
    "word2vec_model_file = OUTPUT_FOLDER + 'word2vec_' + str(100) + '.model'\n",
    "\n",
    "w2v_model = Word2Vec(tokens, min_count=1, vector_size=100, window=5, workers=4, sg=1)\n",
    "print(\"Time taken to train word2vec model: \" + str(time.time() - start_time))\n",
    "w2v_model.save(word2vec_model_file)\n"
   ]
  },
  {
   "cell_type": "code",
   "execution_count": 405,
   "metadata": {},
   "outputs": [
    {
     "name": "stdout",
     "output_type": "stream",
     "text": [
      "Index of the word 'action':\n",
      "6\n",
      "5227\n",
      "Length of the vector generated for a word\n",
      "100\n",
      "Print the length after taking average of all word vectors in a sentence:\n",
      "100\n",
      "25\n"
     ]
    }
   ],
   "source": [
    "sg_w2v_model = Word2Vec.load(word2vec_model_file)\n",
    "\n",
    "print(\"Index of the word 'action':\")\n",
    "print(sg_w2v_model.wv.key_to_index[\"action\"])\n",
    "# Total number of the words \n",
    "print(len(sg_w2v_model.wv))\n",
    "# Print the size of the word2vec vector for one word\n",
    "print(\"Length of the vector generated for a word\")\n",
    "print(len(sg_w2v_model.wv['action']))\n",
    "# Get the mean for the vectors for an example review\n",
    "print(\"Print the length after taking average of all word vectors in a sentence:\")\n",
    "print(len(np.mean([sg_w2v_model.wv[token] for token in tweets_df['stemmed_tokens'][0]], axis=0)))\n",
    "print(len(tweets_df['stemmed_tokens'][0]))\n",
    "\n"
   ]
  },
  {
   "cell_type": "code",
   "execution_count": 406,
   "metadata": {},
   "outputs": [],
   "source": [
    "word2vec_filename = OUTPUT_FOLDER + 'train_review_word2vec.csv'\n",
    "with open(word2vec_filename, 'w+') as word2vec_file:\n",
    "    for index, row in x_train.iterrows():\n",
    "        model_vector = (np.mean([sg_w2v_model.wv[token] for token in row['stemmed_tokens']], axis=0)).tolist()\n",
    "        if index == 0:\n",
    "            header = \",\".join(str(ele) for ele in range(100))\n",
    "            word2vec_file.write(header)\n",
    "            word2vec_file.write(\"\\n\")\n",
    "        # Check if the line exists else it is vector of zeros\n",
    "        if type(model_vector) is list:  \n",
    "            line1 = \",\".join( [str(vector_element) for vector_element in model_vector] )\n",
    "        else:\n",
    "            line1 = \",\".join([str(0) for i in range(100)])\n",
    "        word2vec_file.write(line1)\n",
    "        word2vec_file.write('\\n')"
   ]
  },
  {
   "cell_type": "code",
   "execution_count": 408,
   "metadata": {},
   "outputs": [
    {
     "name": "stdout",
     "output_type": "stream",
     "text": [
      "Time taken to fit the model with word2vec vectors: 0.16178512573242188\n"
     ]
    }
   ],
   "source": [
    "import time\n",
    "from sklearn.tree import DecisionTreeClassifier\n",
    "word2vec_df = pd.read_csv(word2vec_filename)\n",
    "#Initialize the model\n",
    "clf_decision_word2vec = DecisionTreeClassifier()\n",
    "\n",
    "start_time = time.time()\n",
    "# Fit the model\n",
    "clf_decision_word2vec.fit(word2vec_df, y_train['avg_sentiment'])\n",
    "print(\"Time taken to fit the model with word2vec vectors: \" + str(time.time() - start_time))"
   ]
  },
  {
   "cell_type": "code",
   "execution_count": 411,
   "metadata": {},
   "outputs": [
    {
     "name": "stdout",
     "output_type": "stream",
     "text": [
      "              precision    recall  f1-score   support\n",
      "\n",
      "          -1       0.00      0.00      0.00       174\n",
      "           0       0.08      1.00      0.16        40\n",
      "           1       0.00      0.00      0.00       259\n",
      "\n",
      "    accuracy                           0.08       473\n",
      "   macro avg       0.03      0.33      0.05       473\n",
      "weighted avg       0.01      0.08      0.01       473\n",
      "\n"
     ]
    },
    {
     "name": "stderr",
     "output_type": "stream",
     "text": [
      "/Library/Frameworks/Python.framework/Versions/3.10/lib/python3.10/site-packages/sklearn/base.py:450: UserWarning: X does not have valid feature names, but DecisionTreeClassifier was fitted with feature names\n",
      "  warnings.warn(\n",
      "/Library/Frameworks/Python.framework/Versions/3.10/lib/python3.10/site-packages/sklearn/metrics/_classification.py:1318: UndefinedMetricWarning: Precision and F-score are ill-defined and being set to 0.0 in labels with no predicted samples. Use `zero_division` parameter to control this behavior.\n",
      "  _warn_prf(average, modifier, msg_start, len(result))\n",
      "/Library/Frameworks/Python.framework/Versions/3.10/lib/python3.10/site-packages/sklearn/metrics/_classification.py:1318: UndefinedMetricWarning: Precision and F-score are ill-defined and being set to 0.0 in labels with no predicted samples. Use `zero_division` parameter to control this behavior.\n",
      "  _warn_prf(average, modifier, msg_start, len(result))\n",
      "/Library/Frameworks/Python.framework/Versions/3.10/lib/python3.10/site-packages/sklearn/metrics/_classification.py:1318: UndefinedMetricWarning: Precision and F-score are ill-defined and being set to 0.0 in labels with no predicted samples. Use `zero_division` parameter to control this behavior.\n",
      "  _warn_prf(average, modifier, msg_start, len(result))\n"
     ]
    }
   ],
   "source": [
    "from sklearn.metrics import classification_report\n",
    "test_features_word2vec = []\n",
    "for index, row in x_test.iterrows():\n",
    "    model_vector = np.mean([sg_w2v_model.wv[token] for token in row['stemmed_tokens']], axis=0)\n",
    "    if type(model_vector) is list:\n",
    "        test_features_word2vec.append(model_vector)\n",
    "    else:\n",
    "        test_features_word2vec.append(np.array([0 for i in range(100)]))\n",
    "test_predictions_word2vec = clf_decision_word2vec.predict(test_features_word2vec)\n",
    "print(classification_report(y_test['avg_sentiment'],test_predictions_word2vec))"
   ]
  },
  {
   "cell_type": "code",
   "execution_count": null,
   "metadata": {},
   "outputs": [],
   "source": []
  }
 ],
 "metadata": {
  "kernelspec": {
   "display_name": "Python 3.10.4 64-bit",
   "language": "python",
   "name": "python3"
  },
  "language_info": {
   "codemirror_mode": {
    "name": "ipython",
    "version": 3
   },
   "file_extension": ".py",
   "mimetype": "text/x-python",
   "name": "python",
   "nbconvert_exporter": "python",
   "pygments_lexer": "ipython3",
   "version": "3.10.4"
  },
  "orig_nbformat": 4,
  "vscode": {
   "interpreter": {
    "hash": "aee8b7b246df8f9039afb4144a1f6fd8d2ca17a180786b69acc140d282b71a49"
   }
  }
 },
 "nbformat": 4,
 "nbformat_minor": 2
}
